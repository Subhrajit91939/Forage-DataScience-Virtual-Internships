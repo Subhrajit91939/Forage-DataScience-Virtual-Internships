{
 "cells": [
  {
   "cell_type": "markdown",
   "id": "bd2499f8",
   "metadata": {},
   "source": [
    "## **Quantium: customer analytics on Chips Products.**"
   ]
  },
  {
   "cell_type": "markdown",
   "id": "c5637414",
   "metadata": {},
   "source": [
    "**Conduct analysis on your client's transaction dataset and identify customer purchasing behaviours to generate insights and provide commercial recommendations.**"
   ]
  },
  {
   "cell_type": "markdown",
   "id": "047baa0a",
   "metadata": {},
   "source": [
    "**Project Objectives:**\n",
    "1. Explore transaction data and produce insights on chips products\n",
    "2. Analyse different customer segments and their contribution to chip sales\n",
    "3. Investigate which brand and packet size customers prefer"
   ]
  },
  {
   "cell_type": "markdown",
   "id": "aece33d9",
   "metadata": {},
   "source": [
    "**Importing necessary Libraries for Exploratory Data Analysis.**"
   ]
  },
  {
   "cell_type": "code",
   "execution_count": 1,
   "id": "7a64f640",
   "metadata": {
    "ExecuteTime": {
     "end_time": "2022-06-25T04:55:24.106659Z",
     "start_time": "2022-06-25T04:55:23.462351Z"
    }
   },
   "outputs": [],
   "source": [
    "# Data Analysis and Wrangling:\n",
    "import numpy as np\n",
    "import pandas as pd\n",
    "\n",
    "# Date-time modules:\n",
    "import datetime"
   ]
  },
  {
   "cell_type": "code",
   "execution_count": 2,
   "id": "eb692778",
   "metadata": {
    "ExecuteTime": {
     "end_time": "2022-06-25T04:55:25.023892Z",
     "start_time": "2022-06-25T04:55:24.108627Z"
    }
   },
   "outputs": [],
   "source": [
    "import seaborn as sns\n",
    "import matplotlib.pyplot as plt"
   ]
  },
  {
   "cell_type": "markdown",
   "id": "d4c312ac",
   "metadata": {
    "ExecuteTime": {
     "end_time": "2022-06-24T07:25:22.533950Z",
     "start_time": "2022-06-24T07:25:22.518990Z"
    }
   },
   "source": [
    "### **Importing the Datasets.**"
   ]
  },
  {
   "cell_type": "markdown",
   "id": "3f038081",
   "metadata": {},
   "source": [
    "**Importing the `QVI_purchase_behaviour.csv` dataset.**"
   ]
  },
  {
   "cell_type": "code",
   "execution_count": 3,
   "id": "ea8e3f10",
   "metadata": {
    "ExecuteTime": {
     "end_time": "2022-06-25T04:55:25.087701Z",
     "start_time": "2022-06-25T04:55:25.024896Z"
    }
   },
   "outputs": [
    {
     "data": {
      "text/html": [
       "<div>\n",
       "<style scoped>\n",
       "    .dataframe tbody tr th:only-of-type {\n",
       "        vertical-align: middle;\n",
       "    }\n",
       "\n",
       "    .dataframe tbody tr th {\n",
       "        vertical-align: top;\n",
       "    }\n",
       "\n",
       "    .dataframe thead th {\n",
       "        text-align: right;\n",
       "    }\n",
       "</style>\n",
       "<table border=\"1\" class=\"dataframe\">\n",
       "  <thead>\n",
       "    <tr style=\"text-align: right;\">\n",
       "      <th></th>\n",
       "      <th>LYLTY_CARD_NBR</th>\n",
       "      <th>LIFESTAGE</th>\n",
       "      <th>PREMIUM_CUSTOMER</th>\n",
       "    </tr>\n",
       "  </thead>\n",
       "  <tbody>\n",
       "    <tr>\n",
       "      <th>0</th>\n",
       "      <td>1000</td>\n",
       "      <td>YOUNG SINGLES/COUPLES</td>\n",
       "      <td>Premium</td>\n",
       "    </tr>\n",
       "    <tr>\n",
       "      <th>1</th>\n",
       "      <td>1002</td>\n",
       "      <td>YOUNG SINGLES/COUPLES</td>\n",
       "      <td>Mainstream</td>\n",
       "    </tr>\n",
       "    <tr>\n",
       "      <th>2</th>\n",
       "      <td>1003</td>\n",
       "      <td>YOUNG FAMILIES</td>\n",
       "      <td>Budget</td>\n",
       "    </tr>\n",
       "    <tr>\n",
       "      <th>3</th>\n",
       "      <td>1004</td>\n",
       "      <td>OLDER SINGLES/COUPLES</td>\n",
       "      <td>Mainstream</td>\n",
       "    </tr>\n",
       "    <tr>\n",
       "      <th>4</th>\n",
       "      <td>1005</td>\n",
       "      <td>MIDAGE SINGLES/COUPLES</td>\n",
       "      <td>Mainstream</td>\n",
       "    </tr>\n",
       "    <tr>\n",
       "      <th>...</th>\n",
       "      <td>...</td>\n",
       "      <td>...</td>\n",
       "      <td>...</td>\n",
       "    </tr>\n",
       "    <tr>\n",
       "      <th>72632</th>\n",
       "      <td>2370651</td>\n",
       "      <td>MIDAGE SINGLES/COUPLES</td>\n",
       "      <td>Mainstream</td>\n",
       "    </tr>\n",
       "    <tr>\n",
       "      <th>72633</th>\n",
       "      <td>2370701</td>\n",
       "      <td>YOUNG FAMILIES</td>\n",
       "      <td>Mainstream</td>\n",
       "    </tr>\n",
       "    <tr>\n",
       "      <th>72634</th>\n",
       "      <td>2370751</td>\n",
       "      <td>YOUNG FAMILIES</td>\n",
       "      <td>Premium</td>\n",
       "    </tr>\n",
       "    <tr>\n",
       "      <th>72635</th>\n",
       "      <td>2370961</td>\n",
       "      <td>OLDER FAMILIES</td>\n",
       "      <td>Budget</td>\n",
       "    </tr>\n",
       "    <tr>\n",
       "      <th>72636</th>\n",
       "      <td>2373711</td>\n",
       "      <td>YOUNG SINGLES/COUPLES</td>\n",
       "      <td>Mainstream</td>\n",
       "    </tr>\n",
       "  </tbody>\n",
       "</table>\n",
       "<p>72637 rows × 3 columns</p>\n",
       "</div>"
      ],
      "text/plain": [
       "       LYLTY_CARD_NBR               LIFESTAGE PREMIUM_CUSTOMER\n",
       "0                1000   YOUNG SINGLES/COUPLES          Premium\n",
       "1                1002   YOUNG SINGLES/COUPLES       Mainstream\n",
       "2                1003          YOUNG FAMILIES           Budget\n",
       "3                1004   OLDER SINGLES/COUPLES       Mainstream\n",
       "4                1005  MIDAGE SINGLES/COUPLES       Mainstream\n",
       "...               ...                     ...              ...\n",
       "72632         2370651  MIDAGE SINGLES/COUPLES       Mainstream\n",
       "72633         2370701          YOUNG FAMILIES       Mainstream\n",
       "72634         2370751          YOUNG FAMILIES          Premium\n",
       "72635         2370961          OLDER FAMILIES           Budget\n",
       "72636         2373711   YOUNG SINGLES/COUPLES       Mainstream\n",
       "\n",
       "[72637 rows x 3 columns]"
      ]
     },
     "execution_count": 3,
     "metadata": {},
     "output_type": "execute_result"
    }
   ],
   "source": [
    "purchase = pd.read_csv('QVI_purchase_behaviour.csv', sep=',')\n",
    "purchase"
   ]
  },
  {
   "cell_type": "code",
   "execution_count": 4,
   "id": "86162dd0",
   "metadata": {
    "ExecuteTime": {
     "end_time": "2022-06-25T04:55:25.119787Z",
     "start_time": "2022-06-25T04:55:25.089696Z"
    },
    "scrolled": true
   },
   "outputs": [
    {
     "name": "stdout",
     "output_type": "stream",
     "text": [
      "<class 'pandas.core.frame.DataFrame'>\n",
      "RangeIndex: 72637 entries, 0 to 72636\n",
      "Data columns (total 3 columns):\n",
      " #   Column            Non-Null Count  Dtype \n",
      "---  ------            --------------  ----- \n",
      " 0   LYLTY_CARD_NBR    72637 non-null  int64 \n",
      " 1   LIFESTAGE         72637 non-null  object\n",
      " 2   PREMIUM_CUSTOMER  72637 non-null  object\n",
      "dtypes: int64(1), object(2)\n",
      "memory usage: 1.7+ MB\n"
     ]
    }
   ],
   "source": [
    "purchase.info()"
   ]
  },
  {
   "cell_type": "code",
   "execution_count": 5,
   "id": "38446d8a",
   "metadata": {
    "ExecuteTime": {
     "end_time": "2022-06-25T04:55:25.135769Z",
     "start_time": "2022-06-25T04:55:25.122772Z"
    }
   },
   "outputs": [
    {
     "data": {
      "text/plain": [
       "LYLTY_CARD_NBR      0\n",
       "LIFESTAGE           0\n",
       "PREMIUM_CUSTOMER    0\n",
       "dtype: int64"
      ]
     },
     "execution_count": 5,
     "metadata": {},
     "output_type": "execute_result"
    }
   ],
   "source": [
    "#Checking for any null values in the purchase dataset.\n",
    "purchase.isna().sum()\n",
    "#There are no null values in the dataset."
   ]
  },
  {
   "cell_type": "code",
   "execution_count": 6,
   "id": "4fc803c2",
   "metadata": {
    "ExecuteTime": {
     "end_time": "2022-06-25T04:55:25.182810Z",
     "start_time": "2022-06-25T04:55:25.137734Z"
    },
    "scrolled": true
   },
   "outputs": [
    {
     "data": {
      "text/html": [
       "<div>\n",
       "<style scoped>\n",
       "    .dataframe tbody tr th:only-of-type {\n",
       "        vertical-align: middle;\n",
       "    }\n",
       "\n",
       "    .dataframe tbody tr th {\n",
       "        vertical-align: top;\n",
       "    }\n",
       "\n",
       "    .dataframe thead th {\n",
       "        text-align: right;\n",
       "    }\n",
       "</style>\n",
       "<table border=\"1\" class=\"dataframe\">\n",
       "  <thead>\n",
       "    <tr style=\"text-align: right;\">\n",
       "      <th></th>\n",
       "      <th>LYLTY_CARD_NBR</th>\n",
       "      <th>LIFESTAGE</th>\n",
       "      <th>PREMIUM_CUSTOMER</th>\n",
       "    </tr>\n",
       "  </thead>\n",
       "  <tbody>\n",
       "    <tr>\n",
       "      <th>count</th>\n",
       "      <td>7.263700e+04</td>\n",
       "      <td>72637</td>\n",
       "      <td>72637</td>\n",
       "    </tr>\n",
       "    <tr>\n",
       "      <th>unique</th>\n",
       "      <td>NaN</td>\n",
       "      <td>7</td>\n",
       "      <td>3</td>\n",
       "    </tr>\n",
       "    <tr>\n",
       "      <th>top</th>\n",
       "      <td>NaN</td>\n",
       "      <td>RETIREES</td>\n",
       "      <td>Mainstream</td>\n",
       "    </tr>\n",
       "    <tr>\n",
       "      <th>freq</th>\n",
       "      <td>NaN</td>\n",
       "      <td>14805</td>\n",
       "      <td>29245</td>\n",
       "    </tr>\n",
       "    <tr>\n",
       "      <th>mean</th>\n",
       "      <td>1.361859e+05</td>\n",
       "      <td>NaN</td>\n",
       "      <td>NaN</td>\n",
       "    </tr>\n",
       "    <tr>\n",
       "      <th>std</th>\n",
       "      <td>8.989293e+04</td>\n",
       "      <td>NaN</td>\n",
       "      <td>NaN</td>\n",
       "    </tr>\n",
       "    <tr>\n",
       "      <th>min</th>\n",
       "      <td>1.000000e+03</td>\n",
       "      <td>NaN</td>\n",
       "      <td>NaN</td>\n",
       "    </tr>\n",
       "    <tr>\n",
       "      <th>25%</th>\n",
       "      <td>6.620200e+04</td>\n",
       "      <td>NaN</td>\n",
       "      <td>NaN</td>\n",
       "    </tr>\n",
       "    <tr>\n",
       "      <th>50%</th>\n",
       "      <td>1.340400e+05</td>\n",
       "      <td>NaN</td>\n",
       "      <td>NaN</td>\n",
       "    </tr>\n",
       "    <tr>\n",
       "      <th>75%</th>\n",
       "      <td>2.033750e+05</td>\n",
       "      <td>NaN</td>\n",
       "      <td>NaN</td>\n",
       "    </tr>\n",
       "    <tr>\n",
       "      <th>max</th>\n",
       "      <td>2.373711e+06</td>\n",
       "      <td>NaN</td>\n",
       "      <td>NaN</td>\n",
       "    </tr>\n",
       "  </tbody>\n",
       "</table>\n",
       "</div>"
      ],
      "text/plain": [
       "        LYLTY_CARD_NBR LIFESTAGE PREMIUM_CUSTOMER\n",
       "count     7.263700e+04     72637            72637\n",
       "unique             NaN         7                3\n",
       "top                NaN  RETIREES       Mainstream\n",
       "freq               NaN     14805            29245\n",
       "mean      1.361859e+05       NaN              NaN\n",
       "std       8.989293e+04       NaN              NaN\n",
       "min       1.000000e+03       NaN              NaN\n",
       "25%       6.620200e+04       NaN              NaN\n",
       "50%       1.340400e+05       NaN              NaN\n",
       "75%       2.033750e+05       NaN              NaN\n",
       "max       2.373711e+06       NaN              NaN"
      ]
     },
     "execution_count": 6,
     "metadata": {},
     "output_type": "execute_result"
    }
   ],
   "source": [
    "purchase.describe(include='all')"
   ]
  },
  {
   "cell_type": "code",
   "execution_count": 7,
   "id": "3e923091",
   "metadata": {
    "ExecuteTime": {
     "end_time": "2022-06-25T04:55:25.214721Z",
     "start_time": "2022-06-25T04:55:25.183761Z"
    }
   },
   "outputs": [],
   "source": [
    "# Changing the LIFESTAGE, PREMIUM_CUSTOMER Column's datatype into Category datatype\n",
    "purchase[['LIFESTAGE', 'PREMIUM_CUSTOMER']] = purchase[['LIFESTAGE', 'PREMIUM_CUSTOMER']].astype('category')"
   ]
  },
  {
   "cell_type": "code",
   "execution_count": 140,
   "id": "3d6771c7",
   "metadata": {
    "ExecuteTime": {
     "end_time": "2022-06-25T07:00:31.024017Z",
     "start_time": "2022-06-25T07:00:30.776368Z"
    }
   },
   "outputs": [
    {
     "data": {
      "image/png": "[encoded data removed]",
      "text/plain": [
       "<Figure size 777.6x432 with 1 Axes>"
      ]
     },
     "metadata": {},
     "output_type": "display_data"
    }
   ],
   "source": [
    "# Lifestage demographics for Supermarket Loyalty cards.\n",
    "    # Retirees own/possess the most of the Loyalty cards.\n",
    "    # Followed by Older Singles/Couples and Young Singles/Couples.\n",
    "    # New families have the least number of people having a Loyalty card with the Supermarket.\n",
    "\n",
    "sns.catplot(y='LIFESTAGE', data=purchase, kind=\"count\", \n",
    "            order=purchase['LIFESTAGE'].value_counts().index, palette='rocket', height=6, aspect=1.8)\n",
    "\n",
    "sns.set_theme(style='white')\n",
    "sns.set_style(\"darkgrid\")"
   ]
  },
  {
   "cell_type": "code",
   "execution_count": 139,
   "id": "5fc913b0",
   "metadata": {
    "ExecuteTime": {
     "end_time": "2022-06-25T07:00:25.335102Z",
     "start_time": "2022-06-25T07:00:25.144587Z"
    }
   },
   "outputs": [
    {
     "data": {
      "image/png": "[encoded data removed]",
      "text/plain": [
       "<Figure size 345.6x576 with 1 Axes>"
      ]
     },
     "metadata": {},
     "output_type": "display_data"
    }
   ],
   "source": [
    "# Customer segmentation.\n",
    "    # Mainstream customers hold the largest number of Loyalty Cards,\n",
    "    # followed by Budget and Premium customers.\n",
    "    \n",
    "sns.catplot(x='PREMIUM_CUSTOMER', data=purchase, kind=\"count\", \n",
    "            order=purchase['PREMIUM_CUSTOMER'].value_counts().index, \n",
    "            palette=\"rocket\", height=8, aspect=0.6)\n",
    "sns.set_theme(style='white')\n",
    "sns.set_style(\"darkgrid\")"
   ]
  },
  {
   "cell_type": "code",
   "execution_count": 138,
   "id": "81b26d27",
   "metadata": {
    "ExecuteTime": {
     "end_time": "2022-06-25T07:00:17.383133Z",
     "start_time": "2022-06-25T07:00:16.961442Z"
    },
    "code_folding": []
   },
   "outputs": [
    {
     "data": {
      "image/png": "[encoded data removed]",
      "text/plain": [
       "<Figure size 840.39x388.8 with 1 Axes>"
      ]
     },
     "metadata": {},
     "output_type": "display_data"
    }
   ],
   "source": [
    "# Premium customer segmentation in each Lifestage that owns the Loyalty Card.\n",
    "    #Inferences:\n",
    "\n",
    "sns.catplot(y='LIFESTAGE', hue='PREMIUM_CUSTOMER', data=purchase, kind=\"count\", \n",
    "            order=purchase['LIFESTAGE'].value_counts().index, \n",
    "            palette=\"rocket\", legend_out=True, height=5.4, aspect=1.8)\n",
    "sns.set_theme(style='white')\n",
    "sns.set_style(\"darkgrid\")"
   ]
  },
  {
   "cell_type": "code",
   "execution_count": 137,
   "id": "7f3d3cac",
   "metadata": {
    "ExecuteTime": {
     "end_time": "2022-06-25T07:00:14.323924Z",
     "start_time": "2022-06-25T07:00:13.524179Z"
    }
   },
   "outputs": [
    {
     "data": {
      "image/png": "[encoded data removed]",
      "text/plain": [
       "<Figure size 720x576 with 1 Axes>"
      ]
     },
     "metadata": {},
     "output_type": "display_data"
    }
   ],
   "source": [
    "## Count plot for this data is not an accurate way of representing the given segementation.\n",
    "# Let us use a Histplot to represent the segementation.\n",
    "plt.subplots(figsize=(10,8))\n",
    "sns.histplot(y='LIFESTAGE', hue='PREMIUM_CUSTOMER', data=purchase, stat=\"count\", \n",
    "             multiple='stack', hue_order= ['Premium', 'Budget', 'Mainstream'], palette=\"rocket\", shrink=0.6)\n",
    "sns.set_theme(style='white')\n",
    "sns.set_style(\"darkgrid\")"
   ]
  },
  {
   "cell_type": "markdown",
   "id": "402ec936",
   "metadata": {},
   "source": [
    "**Importing the `QVI_transaction_data.xlsx` dataset.**"
   ]
  },
  {
   "cell_type": "code",
   "execution_count": 12,
   "id": "e2d38e04",
   "metadata": {
    "ExecuteTime": {
     "end_time": "2022-06-25T04:55:49.732138Z",
     "start_time": "2022-06-25T04:55:26.396461Z"
    }
   },
   "outputs": [
    {
     "data": {
      "text/html": [
       "<div>\n",
       "<style scoped>\n",
       "    .dataframe tbody tr th:only-of-type {\n",
       "        vertical-align: middle;\n",
       "    }\n",
       "\n",
       "    .dataframe tbody tr th {\n",
       "        vertical-align: top;\n",
       "    }\n",
       "\n",
       "    .dataframe thead th {\n",
       "        text-align: right;\n",
       "    }\n",
       "</style>\n",
       "<table border=\"1\" class=\"dataframe\">\n",
       "  <thead>\n",
       "    <tr style=\"text-align: right;\">\n",
       "      <th></th>\n",
       "      <th>DATE</th>\n",
       "      <th>STORE_NBR</th>\n",
       "      <th>LYLTY_CARD_NBR</th>\n",
       "      <th>TXN_ID</th>\n",
       "      <th>PROD_NBR</th>\n",
       "      <th>PROD_NAME</th>\n",
       "      <th>PROD_QTY</th>\n",
       "      <th>TOT_SALES</th>\n",
       "    </tr>\n",
       "  </thead>\n",
       "  <tbody>\n",
       "    <tr>\n",
       "      <th>0</th>\n",
       "      <td>43390</td>\n",
       "      <td>1</td>\n",
       "      <td>1000</td>\n",
       "      <td>1</td>\n",
       "      <td>5</td>\n",
       "      <td>Natural Chip        Compny SeaSalt175g</td>\n",
       "      <td>2</td>\n",
       "      <td>6.0</td>\n",
       "    </tr>\n",
       "    <tr>\n",
       "      <th>1</th>\n",
       "      <td>43599</td>\n",
       "      <td>1</td>\n",
       "      <td>1307</td>\n",
       "      <td>348</td>\n",
       "      <td>66</td>\n",
       "      <td>CCs Nacho Cheese    175g</td>\n",
       "      <td>3</td>\n",
       "      <td>6.3</td>\n",
       "    </tr>\n",
       "    <tr>\n",
       "      <th>2</th>\n",
       "      <td>43605</td>\n",
       "      <td>1</td>\n",
       "      <td>1343</td>\n",
       "      <td>383</td>\n",
       "      <td>61</td>\n",
       "      <td>Smiths Crinkle Cut  Chips Chicken 170g</td>\n",
       "      <td>2</td>\n",
       "      <td>2.9</td>\n",
       "    </tr>\n",
       "    <tr>\n",
       "      <th>3</th>\n",
       "      <td>43329</td>\n",
       "      <td>2</td>\n",
       "      <td>2373</td>\n",
       "      <td>974</td>\n",
       "      <td>69</td>\n",
       "      <td>Smiths Chip Thinly  S/Cream&amp;Onion 175g</td>\n",
       "      <td>5</td>\n",
       "      <td>15.0</td>\n",
       "    </tr>\n",
       "    <tr>\n",
       "      <th>4</th>\n",
       "      <td>43330</td>\n",
       "      <td>2</td>\n",
       "      <td>2426</td>\n",
       "      <td>1038</td>\n",
       "      <td>108</td>\n",
       "      <td>Kettle Tortilla ChpsHny&amp;Jlpno Chili 150g</td>\n",
       "      <td>3</td>\n",
       "      <td>13.8</td>\n",
       "    </tr>\n",
       "    <tr>\n",
       "      <th>...</th>\n",
       "      <td>...</td>\n",
       "      <td>...</td>\n",
       "      <td>...</td>\n",
       "      <td>...</td>\n",
       "      <td>...</td>\n",
       "      <td>...</td>\n",
       "      <td>...</td>\n",
       "      <td>...</td>\n",
       "    </tr>\n",
       "    <tr>\n",
       "      <th>264831</th>\n",
       "      <td>43533</td>\n",
       "      <td>272</td>\n",
       "      <td>272319</td>\n",
       "      <td>270088</td>\n",
       "      <td>89</td>\n",
       "      <td>Kettle Sweet Chilli And Sour Cream 175g</td>\n",
       "      <td>2</td>\n",
       "      <td>10.8</td>\n",
       "    </tr>\n",
       "    <tr>\n",
       "      <th>264832</th>\n",
       "      <td>43325</td>\n",
       "      <td>272</td>\n",
       "      <td>272358</td>\n",
       "      <td>270154</td>\n",
       "      <td>74</td>\n",
       "      <td>Tostitos Splash Of  Lime 175g</td>\n",
       "      <td>1</td>\n",
       "      <td>4.4</td>\n",
       "    </tr>\n",
       "    <tr>\n",
       "      <th>264833</th>\n",
       "      <td>43410</td>\n",
       "      <td>272</td>\n",
       "      <td>272379</td>\n",
       "      <td>270187</td>\n",
       "      <td>51</td>\n",
       "      <td>Doritos Mexicana    170g</td>\n",
       "      <td>2</td>\n",
       "      <td>8.8</td>\n",
       "    </tr>\n",
       "    <tr>\n",
       "      <th>264834</th>\n",
       "      <td>43461</td>\n",
       "      <td>272</td>\n",
       "      <td>272379</td>\n",
       "      <td>270188</td>\n",
       "      <td>42</td>\n",
       "      <td>Doritos Corn Chip Mexican Jalapeno 150g</td>\n",
       "      <td>2</td>\n",
       "      <td>7.8</td>\n",
       "    </tr>\n",
       "    <tr>\n",
       "      <th>264835</th>\n",
       "      <td>43365</td>\n",
       "      <td>272</td>\n",
       "      <td>272380</td>\n",
       "      <td>270189</td>\n",
       "      <td>74</td>\n",
       "      <td>Tostitos Splash Of  Lime 175g</td>\n",
       "      <td>2</td>\n",
       "      <td>8.8</td>\n",
       "    </tr>\n",
       "  </tbody>\n",
       "</table>\n",
       "<p>264836 rows × 8 columns</p>\n",
       "</div>"
      ],
      "text/plain": [
       "         DATE  STORE_NBR  LYLTY_CARD_NBR  TXN_ID  PROD_NBR  \\\n",
       "0       43390          1            1000       1         5   \n",
       "1       43599          1            1307     348        66   \n",
       "2       43605          1            1343     383        61   \n",
       "3       43329          2            2373     974        69   \n",
       "4       43330          2            2426    1038       108   \n",
       "...       ...        ...             ...     ...       ...   \n",
       "264831  43533        272          272319  270088        89   \n",
       "264832  43325        272          272358  270154        74   \n",
       "264833  43410        272          272379  270187        51   \n",
       "264834  43461        272          272379  270188        42   \n",
       "264835  43365        272          272380  270189        74   \n",
       "\n",
       "                                       PROD_NAME  PROD_QTY  TOT_SALES  \n",
       "0         Natural Chip        Compny SeaSalt175g         2        6.0  \n",
       "1                       CCs Nacho Cheese    175g         3        6.3  \n",
       "2         Smiths Crinkle Cut  Chips Chicken 170g         2        2.9  \n",
       "3         Smiths Chip Thinly  S/Cream&Onion 175g         5       15.0  \n",
       "4       Kettle Tortilla ChpsHny&Jlpno Chili 150g         3       13.8  \n",
       "...                                          ...       ...        ...  \n",
       "264831   Kettle Sweet Chilli And Sour Cream 175g         2       10.8  \n",
       "264832             Tostitos Splash Of  Lime 175g         1        4.4  \n",
       "264833                  Doritos Mexicana    170g         2        8.8  \n",
       "264834   Doritos Corn Chip Mexican Jalapeno 150g         2        7.8  \n",
       "264835             Tostitos Splash Of  Lime 175g         2        8.8  \n",
       "\n",
       "[264836 rows x 8 columns]"
      ]
     },
     "execution_count": 12,
     "metadata": {},
     "output_type": "execute_result"
    }
   ],
   "source": [
    "transaction = pd.read_excel('QVI_transaction_data.xlsx')\n",
    "transaction"
   ]
  },
  {
   "cell_type": "code",
   "execution_count": 13,
   "id": "972ebdb3",
   "metadata": {
    "ExecuteTime": {
     "end_time": "2022-06-25T04:55:49.763644Z",
     "start_time": "2022-06-25T04:55:49.733019Z"
    }
   },
   "outputs": [
    {
     "name": "stdout",
     "output_type": "stream",
     "text": [
      "<class 'pandas.core.frame.DataFrame'>\n",
      "RangeIndex: 264836 entries, 0 to 264835\n",
      "Data columns (total 8 columns):\n",
      " #   Column          Non-Null Count   Dtype  \n",
      "---  ------          --------------   -----  \n",
      " 0   DATE            264836 non-null  int64  \n",
      " 1   STORE_NBR       264836 non-null  int64  \n",
      " 2   LYLTY_CARD_NBR  264836 non-null  int64  \n",
      " 3   TXN_ID          264836 non-null  int64  \n",
      " 4   PROD_NBR        264836 non-null  int64  \n",
      " 5   PROD_NAME       264836 non-null  object \n",
      " 6   PROD_QTY        264836 non-null  int64  \n",
      " 7   TOT_SALES       264836 non-null  float64\n",
      "dtypes: float64(1), int64(6), object(1)\n",
      "memory usage: 16.2+ MB\n"
     ]
    }
   ],
   "source": [
    "transaction.info()"
   ]
  },
  {
   "cell_type": "code",
   "execution_count": 14,
   "id": "0f18b573",
   "metadata": {
    "ExecuteTime": {
     "end_time": "2022-06-25T04:55:49.795590Z",
     "start_time": "2022-06-25T04:55:49.764511Z"
    }
   },
   "outputs": [
    {
     "data": {
      "text/plain": [
       "DATE              0\n",
       "STORE_NBR         0\n",
       "LYLTY_CARD_NBR    0\n",
       "TXN_ID            0\n",
       "PROD_NBR          0\n",
       "PROD_NAME         0\n",
       "PROD_QTY          0\n",
       "TOT_SALES         0\n",
       "dtype: int64"
      ]
     },
     "execution_count": 14,
     "metadata": {},
     "output_type": "execute_result"
    }
   ],
   "source": [
    "#Checking for any null values in the transaction dataset.\n",
    "transaction.isna().sum()\n",
    "#There are no null values in the dataset."
   ]
  },
  {
   "cell_type": "code",
   "execution_count": 15,
   "id": "6f10e8a8",
   "metadata": {
    "ExecuteTime": {
     "end_time": "2022-06-25T04:55:49.919552Z",
     "start_time": "2022-06-25T04:55:49.796588Z"
    },
    "scrolled": true
   },
   "outputs": [
    {
     "data": {
      "text/html": [
       "<div>\n",
       "<style scoped>\n",
       "    .dataframe tbody tr th:only-of-type {\n",
       "        vertical-align: middle;\n",
       "    }\n",
       "\n",
       "    .dataframe tbody tr th {\n",
       "        vertical-align: top;\n",
       "    }\n",
       "\n",
       "    .dataframe thead th {\n",
       "        text-align: right;\n",
       "    }\n",
       "</style>\n",
       "<table border=\"1\" class=\"dataframe\">\n",
       "  <thead>\n",
       "    <tr style=\"text-align: right;\">\n",
       "      <th></th>\n",
       "      <th>DATE</th>\n",
       "      <th>STORE_NBR</th>\n",
       "      <th>LYLTY_CARD_NBR</th>\n",
       "      <th>TXN_ID</th>\n",
       "      <th>PROD_NBR</th>\n",
       "      <th>PROD_NAME</th>\n",
       "      <th>PROD_QTY</th>\n",
       "      <th>TOT_SALES</th>\n",
       "    </tr>\n",
       "  </thead>\n",
       "  <tbody>\n",
       "    <tr>\n",
       "      <th>count</th>\n",
       "      <td>264836.000000</td>\n",
       "      <td>264836.00000</td>\n",
       "      <td>2.648360e+05</td>\n",
       "      <td>2.648360e+05</td>\n",
       "      <td>264836.000000</td>\n",
       "      <td>264836</td>\n",
       "      <td>264836.000000</td>\n",
       "      <td>264836.000000</td>\n",
       "    </tr>\n",
       "    <tr>\n",
       "      <th>unique</th>\n",
       "      <td>NaN</td>\n",
       "      <td>NaN</td>\n",
       "      <td>NaN</td>\n",
       "      <td>NaN</td>\n",
       "      <td>NaN</td>\n",
       "      <td>114</td>\n",
       "      <td>NaN</td>\n",
       "      <td>NaN</td>\n",
       "    </tr>\n",
       "    <tr>\n",
       "      <th>top</th>\n",
       "      <td>NaN</td>\n",
       "      <td>NaN</td>\n",
       "      <td>NaN</td>\n",
       "      <td>NaN</td>\n",
       "      <td>NaN</td>\n",
       "      <td>Kettle Mozzarella   Basil &amp; Pesto 175g</td>\n",
       "      <td>NaN</td>\n",
       "      <td>NaN</td>\n",
       "    </tr>\n",
       "    <tr>\n",
       "      <th>freq</th>\n",
       "      <td>NaN</td>\n",
       "      <td>NaN</td>\n",
       "      <td>NaN</td>\n",
       "      <td>NaN</td>\n",
       "      <td>NaN</td>\n",
       "      <td>3304</td>\n",
       "      <td>NaN</td>\n",
       "      <td>NaN</td>\n",
       "    </tr>\n",
       "    <tr>\n",
       "      <th>mean</th>\n",
       "      <td>43464.036260</td>\n",
       "      <td>135.08011</td>\n",
       "      <td>1.355495e+05</td>\n",
       "      <td>1.351583e+05</td>\n",
       "      <td>56.583157</td>\n",
       "      <td>NaN</td>\n",
       "      <td>1.907309</td>\n",
       "      <td>7.304200</td>\n",
       "    </tr>\n",
       "    <tr>\n",
       "      <th>std</th>\n",
       "      <td>105.389282</td>\n",
       "      <td>76.78418</td>\n",
       "      <td>8.057998e+04</td>\n",
       "      <td>7.813303e+04</td>\n",
       "      <td>32.826638</td>\n",
       "      <td>NaN</td>\n",
       "      <td>0.643654</td>\n",
       "      <td>3.083226</td>\n",
       "    </tr>\n",
       "    <tr>\n",
       "      <th>min</th>\n",
       "      <td>43282.000000</td>\n",
       "      <td>1.00000</td>\n",
       "      <td>1.000000e+03</td>\n",
       "      <td>1.000000e+00</td>\n",
       "      <td>1.000000</td>\n",
       "      <td>NaN</td>\n",
       "      <td>1.000000</td>\n",
       "      <td>1.500000</td>\n",
       "    </tr>\n",
       "    <tr>\n",
       "      <th>25%</th>\n",
       "      <td>43373.000000</td>\n",
       "      <td>70.00000</td>\n",
       "      <td>7.002100e+04</td>\n",
       "      <td>6.760150e+04</td>\n",
       "      <td>28.000000</td>\n",
       "      <td>NaN</td>\n",
       "      <td>2.000000</td>\n",
       "      <td>5.400000</td>\n",
       "    </tr>\n",
       "    <tr>\n",
       "      <th>50%</th>\n",
       "      <td>43464.000000</td>\n",
       "      <td>130.00000</td>\n",
       "      <td>1.303575e+05</td>\n",
       "      <td>1.351375e+05</td>\n",
       "      <td>56.000000</td>\n",
       "      <td>NaN</td>\n",
       "      <td>2.000000</td>\n",
       "      <td>7.400000</td>\n",
       "    </tr>\n",
       "    <tr>\n",
       "      <th>75%</th>\n",
       "      <td>43555.000000</td>\n",
       "      <td>203.00000</td>\n",
       "      <td>2.030942e+05</td>\n",
       "      <td>2.027012e+05</td>\n",
       "      <td>85.000000</td>\n",
       "      <td>NaN</td>\n",
       "      <td>2.000000</td>\n",
       "      <td>9.200000</td>\n",
       "    </tr>\n",
       "    <tr>\n",
       "      <th>max</th>\n",
       "      <td>43646.000000</td>\n",
       "      <td>272.00000</td>\n",
       "      <td>2.373711e+06</td>\n",
       "      <td>2.415841e+06</td>\n",
       "      <td>114.000000</td>\n",
       "      <td>NaN</td>\n",
       "      <td>200.000000</td>\n",
       "      <td>650.000000</td>\n",
       "    </tr>\n",
       "  </tbody>\n",
       "</table>\n",
       "</div>"
      ],
      "text/plain": [
       "                 DATE     STORE_NBR  LYLTY_CARD_NBR        TXN_ID  \\\n",
       "count   264836.000000  264836.00000    2.648360e+05  2.648360e+05   \n",
       "unique            NaN           NaN             NaN           NaN   \n",
       "top               NaN           NaN             NaN           NaN   \n",
       "freq              NaN           NaN             NaN           NaN   \n",
       "mean     43464.036260     135.08011    1.355495e+05  1.351583e+05   \n",
       "std        105.389282      76.78418    8.057998e+04  7.813303e+04   \n",
       "min      43282.000000       1.00000    1.000000e+03  1.000000e+00   \n",
       "25%      43373.000000      70.00000    7.002100e+04  6.760150e+04   \n",
       "50%      43464.000000     130.00000    1.303575e+05  1.351375e+05   \n",
       "75%      43555.000000     203.00000    2.030942e+05  2.027012e+05   \n",
       "max      43646.000000     272.00000    2.373711e+06  2.415841e+06   \n",
       "\n",
       "             PROD_NBR                               PROD_NAME       PROD_QTY  \\\n",
       "count   264836.000000                                  264836  264836.000000   \n",
       "unique            NaN                                     114            NaN   \n",
       "top               NaN  Kettle Mozzarella   Basil & Pesto 175g            NaN   \n",
       "freq              NaN                                    3304            NaN   \n",
       "mean        56.583157                                     NaN       1.907309   \n",
       "std         32.826638                                     NaN       0.643654   \n",
       "min          1.000000                                     NaN       1.000000   \n",
       "25%         28.000000                                     NaN       2.000000   \n",
       "50%         56.000000                                     NaN       2.000000   \n",
       "75%         85.000000                                     NaN       2.000000   \n",
       "max        114.000000                                     NaN     200.000000   \n",
       "\n",
       "            TOT_SALES  \n",
       "count   264836.000000  \n",
       "unique            NaN  \n",
       "top               NaN  \n",
       "freq              NaN  \n",
       "mean         7.304200  \n",
       "std          3.083226  \n",
       "min          1.500000  \n",
       "25%          5.400000  \n",
       "50%          7.400000  \n",
       "75%          9.200000  \n",
       "max        650.000000  "
      ]
     },
     "execution_count": 15,
     "metadata": {},
     "output_type": "execute_result"
    }
   ],
   "source": [
    "transaction.describe(include='all')"
   ]
  },
  {
   "cell_type": "code",
   "execution_count": 16,
   "id": "7db11012",
   "metadata": {
    "ExecuteTime": {
     "end_time": "2022-06-25T04:55:49.951435Z",
     "start_time": "2022-06-25T04:55:49.921129Z"
    }
   },
   "outputs": [
    {
     "name": "stdout",
     "output_type": "stream",
     "text": [
      "Total no. of unqiue products sold: 114\n"
     ]
    }
   ],
   "source": [
    "#Total no. of unique products sold by the supermaket:\n",
    "print(f\"Total no. of unqiue products sold: {transaction['PROD_NAME'].nunique()}\")"
   ]
  },
  {
   "cell_type": "code",
   "execution_count": 17,
   "id": "09852630",
   "metadata": {
    "ExecuteTime": {
     "end_time": "2022-06-25T04:55:49.967391Z",
     "start_time": "2022-06-25T04:55:49.953428Z"
    }
   },
   "outputs": [
    {
     "name": "stdout",
     "output_type": "stream",
     "text": [
      "Total no. of Supermarket stores: 272\n"
     ]
    }
   ],
   "source": [
    "#Total no. of Stores under the Supermarket.\n",
    "print(f\"Total no. of Supermarket stores: {transaction['STORE_NBR'].nunique()}\")"
   ]
  },
  {
   "cell_type": "code",
   "execution_count": 18,
   "id": "f1c82201",
   "metadata": {
    "ExecuteTime": {
     "end_time": "2022-06-25T04:55:49.982655Z",
     "start_time": "2022-06-25T04:55:49.968388Z"
    }
   },
   "outputs": [],
   "source": [
    "# Few basic tasks and analysis that can be performed:\n",
    "    # 1. Check for the top 15 Best performing stores\n",
    "    # 2. Check for the top 15 best chips sold by quantity and *by revenue*\n",
    "    # 3. Find the total no. of chips brands.\n",
    "    # 4. List all the unique brand names, find the unique number of products sold.\n",
    "    # 5. Top 5 chips in each LIFESTAGE\n",
    "    # 6. Create a List of Chips sold in each store and also a visualization related to that.\n",
    "    # 7. Convert the Date column into DATE datatype and generate a correlation between \n",
    "        # the chips and time of buying.\n",
    "    # 8. investigate about the TXN ID and it's relation with the Loyalty Card Number.\n",
    "    # 9. Check the Top customers and the purchases they made."
   ]
  },
  {
   "cell_type": "markdown",
   "id": "78c2029b",
   "metadata": {},
   "source": [
    "For Date-time conversion: https://stackoverflow.com/questions/38454403/convert-excel-style-date-with-pandas?noredirect=1&lq=1"
   ]
  },
  {
   "cell_type": "code",
   "execution_count": 19,
   "id": "72bc5ad8",
   "metadata": {
    "ExecuteTime": {
     "end_time": "2022-06-25T04:55:53.971379Z",
     "start_time": "2022-06-25T04:55:49.983516Z"
    }
   },
   "outputs": [
    {
     "data": {
      "text/plain": [
       "0        2018-10-17\n",
       "1        2019-05-14\n",
       "2        2019-05-20\n",
       "3        2018-08-17\n",
       "4        2018-08-18\n",
       "            ...    \n",
       "264831   2019-03-09\n",
       "264832   2018-08-13\n",
       "264833   2018-11-06\n",
       "264834   2018-12-27\n",
       "264835   2018-09-22\n",
       "Name: DATE, Length: 264836, dtype: datetime64[ns]"
      ]
     },
     "execution_count": 19,
     "metadata": {},
     "output_type": "execute_result"
    }
   ],
   "source": [
    "# DATE Column is not formatted properly.\n",
    "# Function that converts Excel integer into yyyy-mm-dd format\n",
    "origin = pd.Timestamp(\"30/12/1899\")\n",
    "transaction['DATE'] = transaction['DATE'].apply(lambda x: origin + pd.Timedelta(days=x))\n",
    "transaction['DATE']"
   ]
  },
  {
   "cell_type": "code",
   "execution_count": 65,
   "id": "2fc09013",
   "metadata": {
    "ExecuteTime": {
     "end_time": "2022-06-25T05:14:32.430505Z",
     "start_time": "2022-06-25T05:14:32.416438Z"
    }
   },
   "outputs": [
    {
     "name": "stdout",
     "output_type": "stream",
     "text": [
      "Total no. of days supermarket remained open: 364\n"
     ]
    }
   ],
   "source": [
    "print(f\"Total no. of days supermarket remained open: {transaction['DATE'].nunique()}\")"
   ]
  },
  {
   "cell_type": "code",
   "execution_count": 68,
   "id": "da338a34",
   "metadata": {
    "ExecuteTime": {
     "end_time": "2022-06-25T05:18:11.089442Z",
     "start_time": "2022-06-25T05:18:10.135539Z"
    }
   },
   "outputs": [
    {
     "name": "stdout",
     "output_type": "stream",
     "text": [
      "Date data starts from: 2018-07-01 00:00:00\n",
      "Date data ends on: 2019-06-30 00:00:00\n"
     ]
    }
   ],
   "source": [
    "print(f\"Date data starts from: {min(transaction['DATE'])}\")\n",
    "print(f\"Date data ends on: {max(transaction['DATE'])}\")"
   ]
  },
  {
   "cell_type": "code",
   "execution_count": 66,
   "id": "442b8811",
   "metadata": {
    "ExecuteTime": {
     "end_time": "2022-06-25T05:15:03.475144Z",
     "start_time": "2022-06-25T05:15:03.225725Z"
    }
   },
   "outputs": [
    {
     "data": {
      "text/plain": [
       "DatetimeIndex(['2018-12-25'], dtype='datetime64[ns]', freq=None)"
      ]
     },
     "execution_count": 66,
     "metadata": {},
     "output_type": "execute_result"
    }
   ],
   "source": [
    "pd.date_range(start = '2018-07-01', end = '2019-06-30').difference(transaction['DATE'])\n",
    "# Supermarket remains closed on Christmas."
   ]
  },
  {
   "cell_type": "code",
   "execution_count": 20,
   "id": "47efcd5a",
   "metadata": {
    "ExecuteTime": {
     "end_time": "2022-06-25T04:55:54.002487Z",
     "start_time": "2022-06-25T04:55:53.975411Z"
    }
   },
   "outputs": [
    {
     "data": {
      "text/plain": [
       "'Wednesday'"
      ]
     },
     "execution_count": 20,
     "metadata": {},
     "output_type": "execute_result"
    }
   ],
   "source": [
    "transaction.loc[0, 'DATE'].day_name()"
   ]
  },
  {
   "cell_type": "code",
   "execution_count": null,
   "id": "1ad3e83a",
   "metadata": {
    "ExecuteTime": {
     "end_time": "2022-06-25T05:45:43.053260Z",
     "start_time": "2022-06-25T05:45:43.032286Z"
    }
   },
   "outputs": [],
   "source": []
  },
  {
   "cell_type": "code",
   "execution_count": 23,
   "id": "10cd6594",
   "metadata": {
    "ExecuteTime": {
     "end_time": "2022-06-25T04:58:28.118623Z",
     "start_time": "2022-06-25T04:58:25.979424Z"
    }
   },
   "outputs": [],
   "source": [
    "transaction['DAY'] = transaction['DATE'].apply(lambda x: x.day_name())"
   ]
  },
  {
   "cell_type": "code",
   "execution_count": 50,
   "id": "741bf57f",
   "metadata": {
    "ExecuteTime": {
     "end_time": "2022-06-25T05:03:30.018428Z",
     "start_time": "2022-06-25T05:03:30.000476Z"
    }
   },
   "outputs": [
    {
     "data": {
      "text/html": [
       "<div>\n",
       "<style scoped>\n",
       "    .dataframe tbody tr th:only-of-type {\n",
       "        vertical-align: middle;\n",
       "    }\n",
       "\n",
       "    .dataframe tbody tr th {\n",
       "        vertical-align: top;\n",
       "    }\n",
       "\n",
       "    .dataframe thead th {\n",
       "        text-align: right;\n",
       "    }\n",
       "</style>\n",
       "<table border=\"1\" class=\"dataframe\">\n",
       "  <thead>\n",
       "    <tr style=\"text-align: right;\">\n",
       "      <th></th>\n",
       "      <th>DATE</th>\n",
       "      <th>DAY</th>\n",
       "    </tr>\n",
       "  </thead>\n",
       "  <tbody>\n",
       "    <tr>\n",
       "      <th>0</th>\n",
       "      <td>2018-10-17</td>\n",
       "      <td>Wednesday</td>\n",
       "    </tr>\n",
       "    <tr>\n",
       "      <th>1</th>\n",
       "      <td>2019-05-14</td>\n",
       "      <td>Tuesday</td>\n",
       "    </tr>\n",
       "    <tr>\n",
       "      <th>2</th>\n",
       "      <td>2019-05-20</td>\n",
       "      <td>Monday</td>\n",
       "    </tr>\n",
       "    <tr>\n",
       "      <th>3</th>\n",
       "      <td>2018-08-17</td>\n",
       "      <td>Friday</td>\n",
       "    </tr>\n",
       "    <tr>\n",
       "      <th>4</th>\n",
       "      <td>2018-08-18</td>\n",
       "      <td>Saturday</td>\n",
       "    </tr>\n",
       "    <tr>\n",
       "      <th>...</th>\n",
       "      <td>...</td>\n",
       "      <td>...</td>\n",
       "    </tr>\n",
       "    <tr>\n",
       "      <th>264831</th>\n",
       "      <td>2019-03-09</td>\n",
       "      <td>Saturday</td>\n",
       "    </tr>\n",
       "    <tr>\n",
       "      <th>264832</th>\n",
       "      <td>2018-08-13</td>\n",
       "      <td>Monday</td>\n",
       "    </tr>\n",
       "    <tr>\n",
       "      <th>264833</th>\n",
       "      <td>2018-11-06</td>\n",
       "      <td>Tuesday</td>\n",
       "    </tr>\n",
       "    <tr>\n",
       "      <th>264834</th>\n",
       "      <td>2018-12-27</td>\n",
       "      <td>Thursday</td>\n",
       "    </tr>\n",
       "    <tr>\n",
       "      <th>264835</th>\n",
       "      <td>2018-09-22</td>\n",
       "      <td>Saturday</td>\n",
       "    </tr>\n",
       "  </tbody>\n",
       "</table>\n",
       "<p>264836 rows × 2 columns</p>\n",
       "</div>"
      ],
      "text/plain": [
       "             DATE        DAY\n",
       "0      2018-10-17  Wednesday\n",
       "1      2019-05-14    Tuesday\n",
       "2      2019-05-20     Monday\n",
       "3      2018-08-17     Friday\n",
       "4      2018-08-18   Saturday\n",
       "...           ...        ...\n",
       "264831 2019-03-09   Saturday\n",
       "264832 2018-08-13     Monday\n",
       "264833 2018-11-06    Tuesday\n",
       "264834 2018-12-27   Thursday\n",
       "264835 2018-09-22   Saturday\n",
       "\n",
       "[264836 rows x 2 columns]"
      ]
     },
     "execution_count": 50,
     "metadata": {},
     "output_type": "execute_result"
    }
   ],
   "source": [
    "transaction.loc[:, ['DATE', 'DAY']]"
   ]
  },
  {
   "cell_type": "code",
   "execution_count": 28,
   "id": "ba036163",
   "metadata": {
    "ExecuteTime": {
     "end_time": "2022-06-25T05:00:14.452587Z",
     "start_time": "2022-06-25T05:00:14.396571Z"
    }
   },
   "outputs": [
    {
     "name": "stdout",
     "output_type": "stream",
     "text": [
      "<class 'pandas.core.frame.DataFrame'>\n",
      "RangeIndex: 264836 entries, 0 to 264835\n",
      "Data columns (total 9 columns):\n",
      " #   Column          Non-Null Count   Dtype         \n",
      "---  ------          --------------   -----         \n",
      " 0   DATE            264836 non-null  datetime64[ns]\n",
      " 1   STORE_NBR       264836 non-null  int64         \n",
      " 2   LYLTY_CARD_NBR  264836 non-null  int64         \n",
      " 3   TXN_ID          264836 non-null  int64         \n",
      " 4   PROD_NBR        264836 non-null  int64         \n",
      " 5   PROD_NAME       264836 non-null  object        \n",
      " 6   PROD_QTY        264836 non-null  int64         \n",
      " 7   TOT_SALES       264836 non-null  float64       \n",
      " 8   DAY             264836 non-null  object        \n",
      "dtypes: datetime64[ns](1), float64(1), int64(5), object(2)\n",
      "memory usage: 18.2+ MB\n"
     ]
    }
   ],
   "source": [
    "transaction.info()"
   ]
  },
  {
   "cell_type": "code",
   "execution_count": 27,
   "id": "e45072bc",
   "metadata": {
    "ExecuteTime": {
     "end_time": "2022-06-25T04:59:32.520644Z",
     "start_time": "2022-06-25T04:59:32.501653Z"
    }
   },
   "outputs": [
    {
     "data": {
      "text/html": [
       "<div>\n",
       "<style scoped>\n",
       "    .dataframe tbody tr th:only-of-type {\n",
       "        vertical-align: middle;\n",
       "    }\n",
       "\n",
       "    .dataframe tbody tr th {\n",
       "        vertical-align: top;\n",
       "    }\n",
       "\n",
       "    .dataframe thead th {\n",
       "        text-align: right;\n",
       "    }\n",
       "</style>\n",
       "<table border=\"1\" class=\"dataframe\">\n",
       "  <thead>\n",
       "    <tr style=\"text-align: right;\">\n",
       "      <th></th>\n",
       "      <th>DATE</th>\n",
       "      <th>STORE_NBR</th>\n",
       "      <th>LYLTY_CARD_NBR</th>\n",
       "      <th>TXN_ID</th>\n",
       "      <th>PROD_NBR</th>\n",
       "      <th>PROD_NAME</th>\n",
       "      <th>PROD_QTY</th>\n",
       "      <th>TOT_SALES</th>\n",
       "      <th>DAY</th>\n",
       "    </tr>\n",
       "  </thead>\n",
       "  <tbody>\n",
       "    <tr>\n",
       "      <th>0</th>\n",
       "      <td>2018-10-17</td>\n",
       "      <td>1</td>\n",
       "      <td>1000</td>\n",
       "      <td>1</td>\n",
       "      <td>5</td>\n",
       "      <td>Natural Chip        Compny SeaSalt175g</td>\n",
       "      <td>2</td>\n",
       "      <td>6.0</td>\n",
       "      <td>Wednesday</td>\n",
       "    </tr>\n",
       "    <tr>\n",
       "      <th>1</th>\n",
       "      <td>2019-05-14</td>\n",
       "      <td>1</td>\n",
       "      <td>1307</td>\n",
       "      <td>348</td>\n",
       "      <td>66</td>\n",
       "      <td>CCs Nacho Cheese    175g</td>\n",
       "      <td>3</td>\n",
       "      <td>6.3</td>\n",
       "      <td>Tuesday</td>\n",
       "    </tr>\n",
       "    <tr>\n",
       "      <th>2</th>\n",
       "      <td>2019-05-20</td>\n",
       "      <td>1</td>\n",
       "      <td>1343</td>\n",
       "      <td>383</td>\n",
       "      <td>61</td>\n",
       "      <td>Smiths Crinkle Cut  Chips Chicken 170g</td>\n",
       "      <td>2</td>\n",
       "      <td>2.9</td>\n",
       "      <td>Monday</td>\n",
       "    </tr>\n",
       "    <tr>\n",
       "      <th>3</th>\n",
       "      <td>2018-08-17</td>\n",
       "      <td>2</td>\n",
       "      <td>2373</td>\n",
       "      <td>974</td>\n",
       "      <td>69</td>\n",
       "      <td>Smiths Chip Thinly  S/Cream&amp;Onion 175g</td>\n",
       "      <td>5</td>\n",
       "      <td>15.0</td>\n",
       "      <td>Friday</td>\n",
       "    </tr>\n",
       "    <tr>\n",
       "      <th>4</th>\n",
       "      <td>2018-08-18</td>\n",
       "      <td>2</td>\n",
       "      <td>2426</td>\n",
       "      <td>1038</td>\n",
       "      <td>108</td>\n",
       "      <td>Kettle Tortilla ChpsHny&amp;Jlpno Chili 150g</td>\n",
       "      <td>3</td>\n",
       "      <td>13.8</td>\n",
       "      <td>Saturday</td>\n",
       "    </tr>\n",
       "  </tbody>\n",
       "</table>\n",
       "</div>"
      ],
      "text/plain": [
       "        DATE  STORE_NBR  LYLTY_CARD_NBR  TXN_ID  PROD_NBR  \\\n",
       "0 2018-10-17          1            1000       1         5   \n",
       "1 2019-05-14          1            1307     348        66   \n",
       "2 2019-05-20          1            1343     383        61   \n",
       "3 2018-08-17          2            2373     974        69   \n",
       "4 2018-08-18          2            2426    1038       108   \n",
       "\n",
       "                                  PROD_NAME  PROD_QTY  TOT_SALES        DAY  \n",
       "0    Natural Chip        Compny SeaSalt175g         2        6.0  Wednesday  \n",
       "1                  CCs Nacho Cheese    175g         3        6.3    Tuesday  \n",
       "2    Smiths Crinkle Cut  Chips Chicken 170g         2        2.9     Monday  \n",
       "3    Smiths Chip Thinly  S/Cream&Onion 175g         5       15.0     Friday  \n",
       "4  Kettle Tortilla ChpsHny&Jlpno Chili 150g         3       13.8   Saturday  "
      ]
     },
     "execution_count": 27,
     "metadata": {},
     "output_type": "execute_result"
    }
   ],
   "source": [
    "transaction.head()"
   ]
  },
  {
   "cell_type": "code",
   "execution_count": 60,
   "id": "b3ac1f24",
   "metadata": {
    "ExecuteTime": {
     "end_time": "2022-06-25T05:11:10.604043Z",
     "start_time": "2022-06-25T05:11:10.573957Z"
    }
   },
   "outputs": [
    {
     "data": {
      "text/plain": [
       "Sunday       38718\n",
       "Friday       38208\n",
       "Wednesday    37979\n",
       "Saturday     37812\n",
       "Monday       37605\n",
       "Thursday     37375\n",
       "Tuesday      37139\n",
       "Name: DAY, dtype: int64"
      ]
     },
     "execution_count": 60,
     "metadata": {},
     "output_type": "execute_result"
    }
   ],
   "source": [
    "transaction['DAY'].value_counts()"
   ]
  },
  {
   "cell_type": "code",
   "execution_count": null,
   "id": "820f1e42",
   "metadata": {},
   "outputs": [],
   "source": [
    "# Pivot Table approach to represent TOT_SALES data against dates and Day of the week."
   ]
  },
  {
   "cell_type": "code",
   "execution_count": 69,
   "id": "02893d2b",
   "metadata": {
    "ExecuteTime": {
     "end_time": "2022-06-25T05:21:27.955630Z",
     "start_time": "2022-06-25T05:21:27.887506Z"
    }
   },
   "outputs": [
    {
     "data": {
      "text/html": [
       "<div>\n",
       "<style scoped>\n",
       "    .dataframe tbody tr th:only-of-type {\n",
       "        vertical-align: middle;\n",
       "    }\n",
       "\n",
       "    .dataframe tbody tr th {\n",
       "        vertical-align: top;\n",
       "    }\n",
       "\n",
       "    .dataframe thead th {\n",
       "        text-align: right;\n",
       "    }\n",
       "</style>\n",
       "<table border=\"1\" class=\"dataframe\">\n",
       "  <thead>\n",
       "    <tr style=\"text-align: right;\">\n",
       "      <th></th>\n",
       "      <th>TOT_SALES</th>\n",
       "    </tr>\n",
       "    <tr>\n",
       "      <th>DATE</th>\n",
       "      <th></th>\n",
       "    </tr>\n",
       "  </thead>\n",
       "  <tbody>\n",
       "    <tr>\n",
       "      <th>2018-07-01</th>\n",
       "      <td>5372.2</td>\n",
       "    </tr>\n",
       "    <tr>\n",
       "      <th>2018-07-02</th>\n",
       "      <td>5315.4</td>\n",
       "    </tr>\n",
       "    <tr>\n",
       "      <th>2018-07-03</th>\n",
       "      <td>5321.8</td>\n",
       "    </tr>\n",
       "    <tr>\n",
       "      <th>2018-07-04</th>\n",
       "      <td>5309.9</td>\n",
       "    </tr>\n",
       "    <tr>\n",
       "      <th>2018-07-05</th>\n",
       "      <td>5080.9</td>\n",
       "    </tr>\n",
       "  </tbody>\n",
       "</table>\n",
       "</div>"
      ],
      "text/plain": [
       "            TOT_SALES\n",
       "DATE                 \n",
       "2018-07-01     5372.2\n",
       "2018-07-02     5315.4\n",
       "2018-07-03     5321.8\n",
       "2018-07-04     5309.9\n",
       "2018-07-05     5080.9"
      ]
     },
     "execution_count": 69,
     "metadata": {},
     "output_type": "execute_result"
    }
   ],
   "source": [
    "date_sales = pd.pivot_table(transaction, values='TOT_SALES', index='DATE', aggfunc='sum')\n",
    "date_sales.head(5)"
   ]
  },
  {
   "cell_type": "code",
   "execution_count": 84,
   "id": "98583d7a",
   "metadata": {
    "ExecuteTime": {
     "end_time": "2022-06-25T05:36:23.761703Z",
     "start_time": "2022-06-25T05:36:23.707956Z"
    }
   },
   "outputs": [],
   "source": [
    "day_sales = pd.pivot_table(transaction, values='TOT_SALES', index='DAY', aggfunc='sum')"
   ]
  },
  {
   "cell_type": "code",
   "execution_count": 88,
   "id": "7d3d8b08",
   "metadata": {
    "ExecuteTime": {
     "end_time": "2022-06-25T05:40:11.172509Z",
     "start_time": "2022-06-25T05:40:11.166524Z"
    }
   },
   "outputs": [],
   "source": [
    "weekdays = [ 'Monday', 'Tuesday', 'Wednesday', 'Thursday', 'Friday', 'Saturday', 'Sunday']\n",
    "day_sales = day_sales.reindex(weekdays)"
   ]
  },
  {
   "cell_type": "code",
   "execution_count": 136,
   "id": "7d89659b",
   "metadata": {
    "ExecuteTime": {
     "end_time": "2022-06-25T06:59:58.625983Z",
     "start_time": "2022-06-25T06:59:58.313155Z"
    }
   },
   "outputs": [
    {
     "data": {
      "image/png": "[encoded data removed]",
      "text/plain": [
       "<Figure size 720x360 with 1 Axes>"
      ]
     },
     "metadata": {},
     "output_type": "display_data"
    }
   ],
   "source": [
    "# All the days in the weeks have nearly the same amount of sales.\n",
    "# Tuesday has the lowest sale becuse Christmas of 2018 was on a tuesday which \n",
    "# is reflected in the following graph.\n",
    "\n",
    "fig, ax = plt.subplots(figsize = (10, 5))\n",
    "ax.plot(day_sales.index, day_sales['TOT_SALES'])\n",
    "sns.set_style(\"darkgrid\")"
   ]
  },
  {
   "cell_type": "code",
   "execution_count": 101,
   "id": "a1b7c717",
   "metadata": {
    "ExecuteTime": {
     "end_time": "2022-06-25T06:00:34.819504Z",
     "start_time": "2022-06-25T06:00:34.802442Z"
    }
   },
   "outputs": [
    {
     "data": {
      "text/html": [
       "<div>\n",
       "<style scoped>\n",
       "    .dataframe tbody tr th:only-of-type {\n",
       "        vertical-align: middle;\n",
       "    }\n",
       "\n",
       "    .dataframe tbody tr th {\n",
       "        vertical-align: top;\n",
       "    }\n",
       "\n",
       "    .dataframe thead th {\n",
       "        text-align: right;\n",
       "    }\n",
       "</style>\n",
       "<table border=\"1\" class=\"dataframe\">\n",
       "  <thead>\n",
       "    <tr style=\"text-align: right;\">\n",
       "      <th></th>\n",
       "      <th>DATE</th>\n",
       "      <th>STORE_NBR</th>\n",
       "      <th>LYLTY_CARD_NBR</th>\n",
       "      <th>TXN_ID</th>\n",
       "      <th>PROD_NBR</th>\n",
       "      <th>PROD_NAME</th>\n",
       "      <th>PROD_QTY</th>\n",
       "      <th>TOT_SALES</th>\n",
       "      <th>DAY</th>\n",
       "    </tr>\n",
       "  </thead>\n",
       "  <tbody>\n",
       "    <tr>\n",
       "      <th>69762</th>\n",
       "      <td>2018-08-19</td>\n",
       "      <td>226</td>\n",
       "      <td>226000</td>\n",
       "      <td>226201</td>\n",
       "      <td>4</td>\n",
       "      <td>Dorito Corn Chp     Supreme 380g</td>\n",
       "      <td>200</td>\n",
       "      <td>650.0</td>\n",
       "      <td>Sunday</td>\n",
       "    </tr>\n",
       "    <tr>\n",
       "      <th>69763</th>\n",
       "      <td>2019-05-20</td>\n",
       "      <td>226</td>\n",
       "      <td>226000</td>\n",
       "      <td>226210</td>\n",
       "      <td>4</td>\n",
       "      <td>Dorito Corn Chp     Supreme 380g</td>\n",
       "      <td>200</td>\n",
       "      <td>650.0</td>\n",
       "      <td>Monday</td>\n",
       "    </tr>\n",
       "  </tbody>\n",
       "</table>\n",
       "</div>"
      ],
      "text/plain": [
       "            DATE  STORE_NBR  LYLTY_CARD_NBR  TXN_ID  PROD_NBR  \\\n",
       "69762 2018-08-19        226          226000  226201         4   \n",
       "69763 2019-05-20        226          226000  226210         4   \n",
       "\n",
       "                              PROD_NAME  PROD_QTY  TOT_SALES     DAY  \n",
       "69762  Dorito Corn Chp     Supreme 380g       200      650.0  Sunday  \n",
       "69763  Dorito Corn Chp     Supreme 380g       200      650.0  Monday  "
      ]
     },
     "execution_count": 101,
     "metadata": {},
     "output_type": "execute_result"
    }
   ],
   "source": [
    "# Checking for outliers in the Product Quantity Columns\n",
    "# These bulk orders were placed by the same customer on two seperate dates.\n",
    "transaction[transaction['PROD_QTY'] > 5]"
   ]
  },
  {
   "cell_type": "code",
   "execution_count": 102,
   "id": "5deb3e9d",
   "metadata": {
    "ExecuteTime": {
     "end_time": "2022-06-25T06:00:34.851051Z",
     "start_time": "2022-06-25T06:00:34.821998Z"
    }
   },
   "outputs": [
    {
     "data": {
      "text/html": [
       "<div>\n",
       "<style scoped>\n",
       "    .dataframe tbody tr th:only-of-type {\n",
       "        vertical-align: middle;\n",
       "    }\n",
       "\n",
       "    .dataframe tbody tr th {\n",
       "        vertical-align: top;\n",
       "    }\n",
       "\n",
       "    .dataframe thead th {\n",
       "        text-align: right;\n",
       "    }\n",
       "</style>\n",
       "<table border=\"1\" class=\"dataframe\">\n",
       "  <thead>\n",
       "    <tr style=\"text-align: right;\">\n",
       "      <th></th>\n",
       "      <th>DATE</th>\n",
       "      <th>STORE_NBR</th>\n",
       "      <th>LYLTY_CARD_NBR</th>\n",
       "      <th>TXN_ID</th>\n",
       "      <th>PROD_NBR</th>\n",
       "      <th>PROD_NAME</th>\n",
       "      <th>PROD_QTY</th>\n",
       "      <th>TOT_SALES</th>\n",
       "      <th>DAY</th>\n",
       "    </tr>\n",
       "  </thead>\n",
       "  <tbody>\n",
       "  </tbody>\n",
       "</table>\n",
       "</div>"
      ],
      "text/plain": [
       "Empty DataFrame\n",
       "Columns: [DATE, STORE_NBR, LYLTY_CARD_NBR, TXN_ID, PROD_NBR, PROD_NAME, PROD_QTY, TOT_SALES, DAY]\n",
       "Index: []"
      ]
     },
     "execution_count": 102,
     "metadata": {},
     "output_type": "execute_result"
    }
   ],
   "source": [
    "#removing the outliers from the transaction data\n",
    "transaction = transaction[transaction['PROD_QTY'] < 5]\n",
    "transaction[transaction['PROD_QTY'] > 5]"
   ]
  },
  {
   "cell_type": "code",
   "execution_count": 103,
   "id": "b7976f0d",
   "metadata": {
    "ExecuteTime": {
     "end_time": "2022-06-25T06:00:34.866676Z",
     "start_time": "2022-06-25T06:00:34.852053Z"
    }
   },
   "outputs": [],
   "source": [
    "# Primary Tasks at hand:\n",
    "    #Task-1: Extract the brand name from the PROD_NAME column in the transaction dataset.\n",
    "    #Task-2: Also extract the Package size data fromt the PROD_NAME column."
   ]
  },
  {
   "cell_type": "code",
   "execution_count": 104,
   "id": "f3890bd6",
   "metadata": {
    "ExecuteTime": {
     "end_time": "2022-06-25T06:00:38.635503Z",
     "start_time": "2022-06-25T06:00:34.869220Z"
    }
   },
   "outputs": [
    {
     "name": "stdout",
     "output_type": "stream",
     "text": [
      "Wall time: 3.74 s\n"
     ]
    },
    {
     "name": "stderr",
     "output_type": "stream",
     "text": [
      "<timed exec>:5: SettingWithCopyWarning: \n",
      "A value is trying to be set on a copy of a slice from a DataFrame.\n",
      "Try using .loc[row_indexer,col_indexer] = value instead\n",
      "\n",
      "See the caveats in the documentation: https://pandas.pydata.org/pandas-docs/stable/user_guide/indexing.html#returning-a-view-versus-a-copy\n"
     ]
    },
    {
     "data": {
      "text/html": [
       "<div>\n",
       "<style scoped>\n",
       "    .dataframe tbody tr th:only-of-type {\n",
       "        vertical-align: middle;\n",
       "    }\n",
       "\n",
       "    .dataframe tbody tr th {\n",
       "        vertical-align: top;\n",
       "    }\n",
       "\n",
       "    .dataframe thead th {\n",
       "        text-align: right;\n",
       "    }\n",
       "</style>\n",
       "<table border=\"1\" class=\"dataframe\">\n",
       "  <thead>\n",
       "    <tr style=\"text-align: right;\">\n",
       "      <th></th>\n",
       "      <th>DATE</th>\n",
       "      <th>STORE_NBR</th>\n",
       "      <th>LYLTY_CARD_NBR</th>\n",
       "      <th>TXN_ID</th>\n",
       "      <th>PROD_NBR</th>\n",
       "      <th>PROD_NAME</th>\n",
       "      <th>PROD_QTY</th>\n",
       "      <th>TOT_SALES</th>\n",
       "      <th>DAY</th>\n",
       "      <th>BRAND_NAME</th>\n",
       "    </tr>\n",
       "  </thead>\n",
       "  <tbody>\n",
       "    <tr>\n",
       "      <th>0</th>\n",
       "      <td>2018-10-17</td>\n",
       "      <td>1</td>\n",
       "      <td>1000</td>\n",
       "      <td>1</td>\n",
       "      <td>5</td>\n",
       "      <td>Natural Chip        Compny SeaSalt175g</td>\n",
       "      <td>2</td>\n",
       "      <td>6.0</td>\n",
       "      <td>Wednesday</td>\n",
       "      <td>Natural</td>\n",
       "    </tr>\n",
       "    <tr>\n",
       "      <th>1</th>\n",
       "      <td>2019-05-14</td>\n",
       "      <td>1</td>\n",
       "      <td>1307</td>\n",
       "      <td>348</td>\n",
       "      <td>66</td>\n",
       "      <td>CCs Nacho Cheese    175g</td>\n",
       "      <td>3</td>\n",
       "      <td>6.3</td>\n",
       "      <td>Tuesday</td>\n",
       "      <td>CCs</td>\n",
       "    </tr>\n",
       "    <tr>\n",
       "      <th>2</th>\n",
       "      <td>2019-05-20</td>\n",
       "      <td>1</td>\n",
       "      <td>1343</td>\n",
       "      <td>383</td>\n",
       "      <td>61</td>\n",
       "      <td>Smiths Crinkle Cut  Chips Chicken 170g</td>\n",
       "      <td>2</td>\n",
       "      <td>2.9</td>\n",
       "      <td>Monday</td>\n",
       "      <td>Smiths</td>\n",
       "    </tr>\n",
       "    <tr>\n",
       "      <th>4</th>\n",
       "      <td>2018-08-18</td>\n",
       "      <td>2</td>\n",
       "      <td>2426</td>\n",
       "      <td>1038</td>\n",
       "      <td>108</td>\n",
       "      <td>Kettle Tortilla ChpsHny&amp;Jlpno Chili 150g</td>\n",
       "      <td>3</td>\n",
       "      <td>13.8</td>\n",
       "      <td>Saturday</td>\n",
       "      <td>Kettle</td>\n",
       "    </tr>\n",
       "    <tr>\n",
       "      <th>5</th>\n",
       "      <td>2019-05-19</td>\n",
       "      <td>4</td>\n",
       "      <td>4074</td>\n",
       "      <td>2982</td>\n",
       "      <td>57</td>\n",
       "      <td>Old El Paso Salsa   Dip Tomato Mild 300g</td>\n",
       "      <td>1</td>\n",
       "      <td>5.1</td>\n",
       "      <td>Sunday</td>\n",
       "      <td>Old</td>\n",
       "    </tr>\n",
       "  </tbody>\n",
       "</table>\n",
       "</div>"
      ],
      "text/plain": [
       "        DATE  STORE_NBR  LYLTY_CARD_NBR  TXN_ID  PROD_NBR  \\\n",
       "0 2018-10-17          1            1000       1         5   \n",
       "1 2019-05-14          1            1307     348        66   \n",
       "2 2019-05-20          1            1343     383        61   \n",
       "4 2018-08-18          2            2426    1038       108   \n",
       "5 2019-05-19          4            4074    2982        57   \n",
       "\n",
       "                                  PROD_NAME  PROD_QTY  TOT_SALES        DAY  \\\n",
       "0    Natural Chip        Compny SeaSalt175g         2        6.0  Wednesday   \n",
       "1                  CCs Nacho Cheese    175g         3        6.3    Tuesday   \n",
       "2    Smiths Crinkle Cut  Chips Chicken 170g         2        2.9     Monday   \n",
       "4  Kettle Tortilla ChpsHny&Jlpno Chili 150g         3       13.8   Saturday   \n",
       "5  Old El Paso Salsa   Dip Tomato Mild 300g         1        5.1     Sunday   \n",
       "\n",
       "  BRAND_NAME  \n",
       "0    Natural  \n",
       "1        CCs  \n",
       "2     Smiths  \n",
       "4     Kettle  \n",
       "5        Old  "
      ]
     },
     "execution_count": 104,
     "metadata": {},
     "output_type": "execute_result"
    }
   ],
   "source": [
    "%%time\n",
    "#Extracting the brand name from the PROD_NAME Column\n",
    "def brand_name(tr):\n",
    "    return tr[\"PROD_NAME\"].split()[0]\n",
    "# Adding the Brand Name Column to the transaction dataset.\n",
    "transaction['BRAND_NAME'] = transaction.apply(brand_name, axis=1)\n",
    "transaction.head(5)"
   ]
  },
  {
   "cell_type": "code",
   "execution_count": 105,
   "id": "c309dabc",
   "metadata": {
    "ExecuteTime": {
     "end_time": "2022-06-25T06:00:38.682276Z",
     "start_time": "2022-06-25T06:00:38.638484Z"
    }
   },
   "outputs": [
    {
     "data": {
      "text/plain": [
       "array(['Natural', 'CCs', 'Smiths', 'Kettle', 'Old', 'Grain', 'Doritos',\n",
       "       'Twisties', 'WW', 'Thins', 'Burger', 'NCC', 'Cheezels', 'Infzns',\n",
       "       'Red', 'Pringles', 'Dorito', 'Infuzions', 'Smith', 'Tyrrells',\n",
       "       'Cobs', 'French', 'RRD', 'Tostitos', 'Cheetos', 'Woolworths',\n",
       "       'Snbts', 'GrnWves', 'Sunbites'], dtype=object)"
      ]
     },
     "execution_count": 105,
     "metadata": {},
     "output_type": "execute_result"
    }
   ],
   "source": [
    "transaction['BRAND_NAME'].unique()\n",
    "# we can notice that few of the brand names have been abbreviated and few have missing letters.\n",
    "# --> Dorito == Doritos; Infzns = Infuzions; WW == Woolworths; Snbts == Sunbites;"
   ]
  },
  {
   "cell_type": "code",
   "execution_count": 106,
   "id": "4ad19a0b",
   "metadata": {
    "ExecuteTime": {
     "end_time": "2022-06-25T06:00:38.697807Z",
     "start_time": "2022-06-25T06:00:38.684268Z"
    }
   },
   "outputs": [],
   "source": [
    "# transaction[transaction['BRAND_NAME'] == 'GRNWVES']\n",
    "# transaction[transaction['BRAND_NAME'] == 'RRD']\n",
    "# transaction[transaction['BRAND_NAME'] == 'WOOLWORTHS']"
   ]
  },
  {
   "cell_type": "code",
   "execution_count": 107,
   "id": "83141957",
   "metadata": {
    "ExecuteTime": {
     "end_time": "2022-06-25T06:00:39.041951Z",
     "start_time": "2022-06-25T06:00:38.699316Z"
    }
   },
   "outputs": [
    {
     "name": "stderr",
     "output_type": "stream",
     "text": [
      "C:\\Users\\SUBHRA~1\\AppData\\Local\\Temp/ipykernel_16048/1418720997.py:16: SettingWithCopyWarning: \n",
      "A value is trying to be set on a copy of a slice from a DataFrame.\n",
      "Try using .loc[row_indexer,col_indexer] = value instead\n",
      "\n",
      "See the caveats in the documentation: https://pandas.pydata.org/pandas-docs/stable/user_guide/indexing.html#returning-a-view-versus-a-copy\n",
      "  transaction['BRAND_NAME'] = transaction['BRAND_NAME'].str.lower().replace(chips_names).str.upper()\n"
     ]
    },
    {
     "data": {
      "text/html": [
       "<div>\n",
       "<style scoped>\n",
       "    .dataframe tbody tr th:only-of-type {\n",
       "        vertical-align: middle;\n",
       "    }\n",
       "\n",
       "    .dataframe tbody tr th {\n",
       "        vertical-align: top;\n",
       "    }\n",
       "\n",
       "    .dataframe thead th {\n",
       "        text-align: right;\n",
       "    }\n",
       "</style>\n",
       "<table border=\"1\" class=\"dataframe\">\n",
       "  <thead>\n",
       "    <tr style=\"text-align: right;\">\n",
       "      <th></th>\n",
       "      <th>DATE</th>\n",
       "      <th>STORE_NBR</th>\n",
       "      <th>LYLTY_CARD_NBR</th>\n",
       "      <th>TXN_ID</th>\n",
       "      <th>PROD_NBR</th>\n",
       "      <th>PROD_NAME</th>\n",
       "      <th>PROD_QTY</th>\n",
       "      <th>TOT_SALES</th>\n",
       "      <th>DAY</th>\n",
       "      <th>BRAND_NAME</th>\n",
       "    </tr>\n",
       "  </thead>\n",
       "  <tbody>\n",
       "    <tr>\n",
       "      <th>0</th>\n",
       "      <td>2018-10-17</td>\n",
       "      <td>1</td>\n",
       "      <td>1000</td>\n",
       "      <td>1</td>\n",
       "      <td>5</td>\n",
       "      <td>Natural Chip        Compny SeaSalt175g</td>\n",
       "      <td>2</td>\n",
       "      <td>6.0</td>\n",
       "      <td>Wednesday</td>\n",
       "      <td>NATURAL</td>\n",
       "    </tr>\n",
       "    <tr>\n",
       "      <th>1</th>\n",
       "      <td>2019-05-14</td>\n",
       "      <td>1</td>\n",
       "      <td>1307</td>\n",
       "      <td>348</td>\n",
       "      <td>66</td>\n",
       "      <td>CCs Nacho Cheese    175g</td>\n",
       "      <td>3</td>\n",
       "      <td>6.3</td>\n",
       "      <td>Tuesday</td>\n",
       "      <td>CCS</td>\n",
       "    </tr>\n",
       "    <tr>\n",
       "      <th>2</th>\n",
       "      <td>2019-05-20</td>\n",
       "      <td>1</td>\n",
       "      <td>1343</td>\n",
       "      <td>383</td>\n",
       "      <td>61</td>\n",
       "      <td>Smiths Crinkle Cut  Chips Chicken 170g</td>\n",
       "      <td>2</td>\n",
       "      <td>2.9</td>\n",
       "      <td>Monday</td>\n",
       "      <td>SMITHS</td>\n",
       "    </tr>\n",
       "    <tr>\n",
       "      <th>4</th>\n",
       "      <td>2018-08-18</td>\n",
       "      <td>2</td>\n",
       "      <td>2426</td>\n",
       "      <td>1038</td>\n",
       "      <td>108</td>\n",
       "      <td>Kettle Tortilla ChpsHny&amp;Jlpno Chili 150g</td>\n",
       "      <td>3</td>\n",
       "      <td>13.8</td>\n",
       "      <td>Saturday</td>\n",
       "      <td>KETTLE</td>\n",
       "    </tr>\n",
       "    <tr>\n",
       "      <th>5</th>\n",
       "      <td>2019-05-19</td>\n",
       "      <td>4</td>\n",
       "      <td>4074</td>\n",
       "      <td>2982</td>\n",
       "      <td>57</td>\n",
       "      <td>Old El Paso Salsa   Dip Tomato Mild 300g</td>\n",
       "      <td>1</td>\n",
       "      <td>5.1</td>\n",
       "      <td>Sunday</td>\n",
       "      <td>OLD</td>\n",
       "    </tr>\n",
       "  </tbody>\n",
       "</table>\n",
       "</div>"
      ],
      "text/plain": [
       "        DATE  STORE_NBR  LYLTY_CARD_NBR  TXN_ID  PROD_NBR  \\\n",
       "0 2018-10-17          1            1000       1         5   \n",
       "1 2019-05-14          1            1307     348        66   \n",
       "2 2019-05-20          1            1343     383        61   \n",
       "4 2018-08-18          2            2426    1038       108   \n",
       "5 2019-05-19          4            4074    2982        57   \n",
       "\n",
       "                                  PROD_NAME  PROD_QTY  TOT_SALES        DAY  \\\n",
       "0    Natural Chip        Compny SeaSalt175g         2        6.0  Wednesday   \n",
       "1                  CCs Nacho Cheese    175g         3        6.3    Tuesday   \n",
       "2    Smiths Crinkle Cut  Chips Chicken 170g         2        2.9     Monday   \n",
       "4  Kettle Tortilla ChpsHny&Jlpno Chili 150g         3       13.8   Saturday   \n",
       "5  Old El Paso Salsa   Dip Tomato Mild 300g         1        5.1     Sunday   \n",
       "\n",
       "  BRAND_NAME  \n",
       "0    NATURAL  \n",
       "1        CCS  \n",
       "2     SMITHS  \n",
       "4     KETTLE  \n",
       "5        OLD  "
      ]
     },
     "execution_count": 107,
     "metadata": {},
     "output_type": "execute_result"
    }
   ],
   "source": [
    "# Red, RRD => Red Rock Deli\n",
    "# grain, GRNWVES => Grain Waves\n",
    "# Doritos => Doritos\n",
    "# ww => Woolworths\n",
    "# infzns => Infuzions\n",
    "# dorito => Doritos\n",
    "# snbts => Sunbites\n",
    "\n",
    "chips_names = {'dorito':'DORITOS', 'infzns':'INFUZIONS', 'ww':'WOOLWORTHS', 'red':'RRD', \n",
    "               'ncc':'NATURAL','snbts':'SUNBITES', 'smith':'SMITHS','grain':'GRNWVES'}\n",
    "\n",
    "# The following part of code will replace the irregulrities in Brand names with the entries inside\n",
    "# the dictionary, by converting all the entries to lower case and then replacing the values \n",
    "# corresponding to the keys of the dictionary, and finally it will convert all the text to uppercase.\n",
    "\n",
    "transaction['BRAND_NAME'] = transaction['BRAND_NAME'].str.lower().replace(chips_names).str.upper()\n",
    "transaction.head(5)"
   ]
  },
  {
   "cell_type": "code",
   "execution_count": 108,
   "id": "1ebf2f06",
   "metadata": {
    "ExecuteTime": {
     "end_time": "2022-06-25T06:00:39.088082Z",
     "start_time": "2022-06-25T06:00:39.043944Z"
    }
   },
   "outputs": [
    {
     "data": {
      "text/plain": [
       "array(['NATURAL', 'CCS', 'SMITHS', 'KETTLE', 'OLD', 'GRNWVES', 'DORITOS',\n",
       "       'TWISTIES', 'WOOLWORTHS', 'THINS', 'BURGER', 'CHEEZELS',\n",
       "       'INFUZIONS', 'RRD', 'PRINGLES', 'TYRRELLS', 'COBS', 'FRENCH',\n",
       "       'TOSTITOS', 'CHEETOS', 'SUNBITES'], dtype=object)"
      ]
     },
     "execution_count": 108,
     "metadata": {},
     "output_type": "execute_result"
    }
   ],
   "source": [
    "transaction['BRAND_NAME'].unique()"
   ]
  },
  {
   "cell_type": "code",
   "execution_count": 109,
   "id": "8bd06faa",
   "metadata": {
    "ExecuteTime": {
     "end_time": "2022-06-25T06:00:39.134904Z",
     "start_time": "2022-06-25T06:00:39.090549Z"
    }
   },
   "outputs": [
    {
     "name": "stdout",
     "output_type": "stream",
     "text": [
      "Total no. of unique brands: 21\n"
     ]
    }
   ],
   "source": [
    "print(f\"Total no. of unique brands: {transaction['BRAND_NAME'].nunique()}\")"
   ]
  },
  {
   "cell_type": "code",
   "execution_count": 110,
   "id": "98529dfc",
   "metadata": {
    "ExecuteTime": {
     "end_time": "2022-06-25T06:00:39.212711Z",
     "start_time": "2022-06-25T06:00:39.147174Z"
    }
   },
   "outputs": [
    {
     "data": {
      "text/plain": [
       "KETTLE        41221\n",
       "SMITHS        31774\n",
       "DORITOS       28101\n",
       "PRINGLES      25051\n",
       "RRD           17744\n",
       "WOOLWORTHS    14729\n",
       "INFUZIONS     14182\n",
       "THINS         14048\n",
       "COBS           9678\n",
       "TOSTITOS       9458\n",
       "TWISTIES       9436\n",
       "OLD            9309\n",
       "GRNWVES        7729\n",
       "NATURAL        7453\n",
       "TYRRELLS       6436\n",
       "CHEEZELS       4597\n",
       "CCS            4544\n",
       "SUNBITES       2998\n",
       "CHEETOS        2921\n",
       "BURGER         1557\n",
       "FRENCH         1418\n",
       "Name: BRAND_NAME, dtype: int64"
      ]
     },
     "execution_count": 110,
     "metadata": {},
     "output_type": "execute_result"
    }
   ],
   "source": [
    "transaction['BRAND_NAME'].value_counts()"
   ]
  },
  {
   "cell_type": "code",
   "execution_count": 135,
   "id": "e9ba5242",
   "metadata": {
    "ExecuteTime": {
     "end_time": "2022-06-25T06:59:45.787467Z",
     "start_time": "2022-06-25T06:59:43.955597Z"
    }
   },
   "outputs": [
    {
     "data": {
      "image/png": "[encoded data removed]",
      "text/plain": [
       "<Figure size 777.6x432 with 1 Axes>"
      ]
     },
     "metadata": {},
     "output_type": "display_data"
    }
   ],
   "source": [
    "# A large chunk of customers prefer KETTLE, SMITHS and DORITOS over other brands of chips.\n",
    "sns.catplot(y='BRAND_NAME', data=transaction, kind=\"count\", \n",
    "            order=transaction['BRAND_NAME'].value_counts().index, \n",
    "            palette=\"viridis\", height=6, aspect=1.8)\n",
    "\n",
    "sns.set_theme(style='white')\n",
    "sns.set_style(\"darkgrid\")"
   ]
  },
  {
   "cell_type": "markdown",
   "id": "a19654b5",
   "metadata": {},
   "source": [
    "#### **Transaction trends based on Stores.**"
   ]
  },
  {
   "cell_type": "code",
   "execution_count": 134,
   "id": "12e4a44e",
   "metadata": {
    "ExecuteTime": {
     "end_time": "2022-06-25T06:59:39.965254Z",
     "start_time": "2022-06-25T06:59:38.706866Z"
    }
   },
   "outputs": [
    {
     "data": {
      "image/png": "[encoded data removed]",
      "text/plain": [
       "<Figure size 777.6x432 with 1 Axes>"
      ]
     },
     "metadata": {},
     "output_type": "display_data"
    }
   ],
   "source": [
    "# Top-15 stores by number of transactions.\n",
    "    # Store with the max number of Transaction in Chips = (STORE_NBR: 226)\n",
    "    # Followed by store #88 and #93.\n",
    "    # Top-15 stores have more or less the same number of transactions\n",
    "sns.catplot(x='STORE_NBR', data=transaction, kind=\"count\", \n",
    "            order=transaction['STORE_NBR'].value_counts().iloc[:15].index, \n",
    "            palette=\"mako\", height=6, aspect=1.8)\n",
    "\n",
    "sns.set_theme(style='white')\n",
    "sns.set_style(\"darkgrid\")"
   ]
  },
  {
   "cell_type": "code",
   "execution_count": 132,
   "id": "abab0a00",
   "metadata": {
    "ExecuteTime": {
     "end_time": "2022-06-25T06:59:22.991396Z",
     "start_time": "2022-06-25T06:59:21.894472Z"
    },
    "scrolled": false
   },
   "outputs": [
    {
     "data": {
      "image/png": "[encoded data removed]",
      "text/plain": [
       "<Figure size 777.6x432 with 1 Axes>"
      ]
     },
     "metadata": {},
     "output_type": "display_data"
    }
   ],
   "source": [
    "# Last-15 stores by number of transactions.\n",
    "sns.catplot(x='STORE_NBR', data=transaction, kind=\"count\", \n",
    "            order=transaction['STORE_NBR'].value_counts().iloc[-15:].index, \n",
    "            palette=\"mako\", height=6, aspect=1.8)\n",
    "\n",
    "sns.set_theme(style='white')\n",
    "sns.set_style(\"darkgrid\")"
   ]
  },
  {
   "cell_type": "code",
   "execution_count": null,
   "id": "9b001cd3",
   "metadata": {},
   "outputs": [],
   "source": []
  },
  {
   "cell_type": "code",
   "execution_count": 114,
   "id": "4b72ceaa",
   "metadata": {
    "ExecuteTime": {
     "end_time": "2022-06-25T06:00:48.836950Z",
     "start_time": "2022-06-25T06:00:44.193788Z"
    }
   },
   "outputs": [
    {
     "name": "stdout",
     "output_type": "stream",
     "text": [
      "Wall time: 4.62 s\n"
     ]
    },
    {
     "name": "stderr",
     "output_type": "stream",
     "text": [
      "<timed exec>:7: SettingWithCopyWarning: \n",
      "A value is trying to be set on a copy of a slice from a DataFrame.\n",
      "Try using .loc[row_indexer,col_indexer] = value instead\n",
      "\n",
      "See the caveats in the documentation: https://pandas.pydata.org/pandas-docs/stable/user_guide/indexing.html#returning-a-view-versus-a-copy\n"
     ]
    },
    {
     "data": {
      "text/html": [
       "<div>\n",
       "<style scoped>\n",
       "    .dataframe tbody tr th:only-of-type {\n",
       "        vertical-align: middle;\n",
       "    }\n",
       "\n",
       "    .dataframe tbody tr th {\n",
       "        vertical-align: top;\n",
       "    }\n",
       "\n",
       "    .dataframe thead th {\n",
       "        text-align: right;\n",
       "    }\n",
       "</style>\n",
       "<table border=\"1\" class=\"dataframe\">\n",
       "  <thead>\n",
       "    <tr style=\"text-align: right;\">\n",
       "      <th></th>\n",
       "      <th>DATE</th>\n",
       "      <th>STORE_NBR</th>\n",
       "      <th>LYLTY_CARD_NBR</th>\n",
       "      <th>TXN_ID</th>\n",
       "      <th>PROD_NBR</th>\n",
       "      <th>PROD_NAME</th>\n",
       "      <th>PROD_QTY</th>\n",
       "      <th>TOT_SALES</th>\n",
       "      <th>DAY</th>\n",
       "      <th>BRAND_NAME</th>\n",
       "      <th>PROD_SIZE</th>\n",
       "    </tr>\n",
       "  </thead>\n",
       "  <tbody>\n",
       "    <tr>\n",
       "      <th>0</th>\n",
       "      <td>2018-10-17</td>\n",
       "      <td>1</td>\n",
       "      <td>1000</td>\n",
       "      <td>1</td>\n",
       "      <td>5</td>\n",
       "      <td>Natural Chip        Compny SeaSalt175g</td>\n",
       "      <td>2</td>\n",
       "      <td>6.0</td>\n",
       "      <td>Wednesday</td>\n",
       "      <td>NATURAL</td>\n",
       "      <td>175</td>\n",
       "    </tr>\n",
       "    <tr>\n",
       "      <th>1</th>\n",
       "      <td>2019-05-14</td>\n",
       "      <td>1</td>\n",
       "      <td>1307</td>\n",
       "      <td>348</td>\n",
       "      <td>66</td>\n",
       "      <td>CCs Nacho Cheese    175g</td>\n",
       "      <td>3</td>\n",
       "      <td>6.3</td>\n",
       "      <td>Tuesday</td>\n",
       "      <td>CCS</td>\n",
       "      <td>175</td>\n",
       "    </tr>\n",
       "    <tr>\n",
       "      <th>2</th>\n",
       "      <td>2019-05-20</td>\n",
       "      <td>1</td>\n",
       "      <td>1343</td>\n",
       "      <td>383</td>\n",
       "      <td>61</td>\n",
       "      <td>Smiths Crinkle Cut  Chips Chicken 170g</td>\n",
       "      <td>2</td>\n",
       "      <td>2.9</td>\n",
       "      <td>Monday</td>\n",
       "      <td>SMITHS</td>\n",
       "      <td>170</td>\n",
       "    </tr>\n",
       "    <tr>\n",
       "      <th>4</th>\n",
       "      <td>2018-08-18</td>\n",
       "      <td>2</td>\n",
       "      <td>2426</td>\n",
       "      <td>1038</td>\n",
       "      <td>108</td>\n",
       "      <td>Kettle Tortilla ChpsHny&amp;Jlpno Chili 150g</td>\n",
       "      <td>3</td>\n",
       "      <td>13.8</td>\n",
       "      <td>Saturday</td>\n",
       "      <td>KETTLE</td>\n",
       "      <td>150</td>\n",
       "    </tr>\n",
       "    <tr>\n",
       "      <th>5</th>\n",
       "      <td>2019-05-19</td>\n",
       "      <td>4</td>\n",
       "      <td>4074</td>\n",
       "      <td>2982</td>\n",
       "      <td>57</td>\n",
       "      <td>Old El Paso Salsa   Dip Tomato Mild 300g</td>\n",
       "      <td>1</td>\n",
       "      <td>5.1</td>\n",
       "      <td>Sunday</td>\n",
       "      <td>OLD</td>\n",
       "      <td>300</td>\n",
       "    </tr>\n",
       "  </tbody>\n",
       "</table>\n",
       "</div>"
      ],
      "text/plain": [
       "        DATE  STORE_NBR  LYLTY_CARD_NBR  TXN_ID  PROD_NBR  \\\n",
       "0 2018-10-17          1            1000       1         5   \n",
       "1 2019-05-14          1            1307     348        66   \n",
       "2 2019-05-20          1            1343     383        61   \n",
       "4 2018-08-18          2            2426    1038       108   \n",
       "5 2019-05-19          4            4074    2982        57   \n",
       "\n",
       "                                  PROD_NAME  PROD_QTY  TOT_SALES        DAY  \\\n",
       "0    Natural Chip        Compny SeaSalt175g         2        6.0  Wednesday   \n",
       "1                  CCs Nacho Cheese    175g         3        6.3    Tuesday   \n",
       "2    Smiths Crinkle Cut  Chips Chicken 170g         2        2.9     Monday   \n",
       "4  Kettle Tortilla ChpsHny&Jlpno Chili 150g         3       13.8   Saturday   \n",
       "5  Old El Paso Salsa   Dip Tomato Mild 300g         1        5.1     Sunday   \n",
       "\n",
       "  BRAND_NAME  PROD_SIZE  \n",
       "0    NATURAL        175  \n",
       "1        CCS        175  \n",
       "2     SMITHS        170  \n",
       "4     KETTLE        150  \n",
       "5        OLD        300  "
      ]
     },
     "execution_count": 114,
     "metadata": {},
     "output_type": "execute_result"
    }
   ],
   "source": [
    "%%time\n",
    "# Extracting the package size from the PROD_NAME Column\n",
    "def product_size(df):\n",
    "    # joining any digit\n",
    "    num  = ''.join(n for n in df['PROD_NAME'] if n.isdigit())\n",
    "    return int(num)\n",
    "# Adding the Packet size feature to the Transaction data.\n",
    "transaction['PROD_SIZE'] = transaction.apply(product_size, axis=1)\n",
    "transaction.head(5)"
   ]
  },
  {
   "cell_type": "code",
   "execution_count": 115,
   "id": "c83b39f3",
   "metadata": {
    "ExecuteTime": {
     "end_time": "2022-06-25T06:00:48.852316Z",
     "start_time": "2022-06-25T06:00:48.837900Z"
    }
   },
   "outputs": [
    {
     "data": {
      "text/plain": [
       "False    264384\n",
       "Name: PROD_SIZE, dtype: int64"
      ]
     },
     "execution_count": 115,
     "metadata": {},
     "output_type": "execute_result"
    }
   ],
   "source": [
    "transaction['PROD_SIZE'].isna().value_counts()\n",
    "# No missing values."
   ]
  },
  {
   "cell_type": "code",
   "execution_count": 116,
   "id": "b2d1d727",
   "metadata": {
    "ExecuteTime": {
     "end_time": "2022-06-25T06:00:48.930777Z",
     "start_time": "2022-06-25T06:00:48.853259Z"
    }
   },
   "outputs": [
    {
     "name": "stdout",
     "output_type": "stream",
     "text": [
      "Various Packaging sizes: [175 170 150 300 330 210 270 220 125 110 134 380 165 135 250 200 160 190\n",
      "  90 180  70]\n",
      "\n",
      "The Largest Packaging weighs: 380g\n",
      "The Smallest Packaging weighs: 70g\n"
     ]
    }
   ],
   "source": [
    "#Let us have a look at the product sizing available:\n",
    "    # Product size and customer correlaion\n",
    "    # Packaging size and brands\n",
    "    \n",
    "# Various Packaging sizes:   \n",
    "print(f\"Various Packaging sizes: {transaction['PROD_SIZE'].unique()}\\n\")\n",
    "print(f\"The Largest Packaging weighs: {max(transaction['PROD_SIZE'])}g\")\n",
    "print(f\"The Smallest Packaging weighs: {min(transaction['PROD_SIZE'])}g\")"
   ]
  },
  {
   "cell_type": "code",
   "execution_count": 117,
   "id": "790caa78",
   "metadata": {
    "ExecuteTime": {
     "end_time": "2022-06-25T06:00:48.946476Z",
     "start_time": "2022-06-25T06:00:48.934798Z"
    },
    "scrolled": true
   },
   "outputs": [
    {
     "data": {
      "text/plain": [
       "175    66280\n",
       "150    43063\n",
       "134    25051\n",
       "110    22356\n",
       "170    19947\n",
       "165    15272\n",
       "300    15135\n",
       "330    12528\n",
       "380     6402\n",
       "270     6272\n",
       "210     6264\n",
       "200     4467\n",
       "135     3253\n",
       "250     3164\n",
       "90      2998\n",
       "190     2991\n",
       "160     2963\n",
       "220     1557\n",
       "70      1504\n",
       "180     1465\n",
       "125     1452\n",
       "Name: PROD_SIZE, dtype: int64"
      ]
     },
     "execution_count": 117,
     "metadata": {},
     "output_type": "execute_result"
    }
   ],
   "source": [
    "# Packaging sizes:\n",
    "transaction['PROD_SIZE'].value_counts()"
   ]
  },
  {
   "cell_type": "code",
   "execution_count": 133,
   "id": "885d77dc",
   "metadata": {
    "ExecuteTime": {
     "end_time": "2022-06-25T06:59:30.741503Z",
     "start_time": "2022-06-25T06:59:29.268185Z"
    }
   },
   "outputs": [
    {
     "data": {
      "image/png": "[encoded data removed]",
      "text/plain": [
       "<Figure size 936x468 with 1 Axes>"
      ]
     },
     "metadata": {},
     "output_type": "display_data"
    }
   ],
   "source": [
    "sns.catplot(x='PROD_SIZE', data=transaction, kind=\"count\", \n",
    "            order=transaction['PROD_SIZE'].value_counts().index, \n",
    "            palette=\"icefire_r\", height=6.5, aspect=2)\n",
    "\n",
    "sns.set_theme(style='white')\n",
    "sns.set_style(\"darkgrid\")"
   ]
  },
  {
   "cell_type": "code",
   "execution_count": 121,
   "id": "ca3a27c1",
   "metadata": {
    "ExecuteTime": {
     "end_time": "2022-06-25T06:00:50.998454Z",
     "start_time": "2022-06-25T06:00:50.938303Z"
    }
   },
   "outputs": [
    {
     "name": "stdout",
     "output_type": "stream",
     "text": [
      "<class 'pandas.core.frame.DataFrame'>\n",
      "Int64Index: 264384 entries, 0 to 264835\n",
      "Data columns (total 11 columns):\n",
      " #   Column          Non-Null Count   Dtype         \n",
      "---  ------          --------------   -----         \n",
      " 0   DATE            264384 non-null  datetime64[ns]\n",
      " 1   STORE_NBR       264384 non-null  int64         \n",
      " 2   LYLTY_CARD_NBR  264384 non-null  int64         \n",
      " 3   TXN_ID          264384 non-null  int64         \n",
      " 4   PROD_NBR        264384 non-null  int64         \n",
      " 5   PROD_NAME       264384 non-null  object        \n",
      " 6   PROD_QTY        264384 non-null  int64         \n",
      " 7   TOT_SALES       264384 non-null  float64       \n",
      " 8   DAY             264384 non-null  object        \n",
      " 9   BRAND_NAME      264384 non-null  object        \n",
      " 10  PROD_SIZE       264384 non-null  int64         \n",
      "dtypes: datetime64[ns](1), float64(1), int64(6), object(3)\n",
      "memory usage: 32.3+ MB\n"
     ]
    }
   ],
   "source": [
    "transaction.info()"
   ]
  },
  {
   "cell_type": "markdown",
   "id": "9ac4b098",
   "metadata": {
    "ExecuteTime": {
     "end_time": "2022-06-25T06:00:50.921664Z",
     "start_time": "2022-06-25T06:00:50.908303Z"
    }
   },
   "source": [
    "**Merging both the Data:**"
   ]
  },
  {
   "cell_type": "code",
   "execution_count": 123,
   "id": "26f94403",
   "metadata": {
    "ExecuteTime": {
     "end_time": "2022-06-25T06:06:44.567809Z",
     "start_time": "2022-06-25T06:06:44.419865Z"
    }
   },
   "outputs": [
    {
     "data": {
      "text/html": [
       "<div>\n",
       "<style scoped>\n",
       "    .dataframe tbody tr th:only-of-type {\n",
       "        vertical-align: middle;\n",
       "    }\n",
       "\n",
       "    .dataframe tbody tr th {\n",
       "        vertical-align: top;\n",
       "    }\n",
       "\n",
       "    .dataframe thead th {\n",
       "        text-align: right;\n",
       "    }\n",
       "</style>\n",
       "<table border=\"1\" class=\"dataframe\">\n",
       "  <thead>\n",
       "    <tr style=\"text-align: right;\">\n",
       "      <th></th>\n",
       "      <th>DATE</th>\n",
       "      <th>STORE_NBR</th>\n",
       "      <th>LYLTY_CARD_NBR</th>\n",
       "      <th>TXN_ID</th>\n",
       "      <th>PROD_NBR</th>\n",
       "      <th>PROD_NAME</th>\n",
       "      <th>PROD_QTY</th>\n",
       "      <th>TOT_SALES</th>\n",
       "      <th>DAY</th>\n",
       "      <th>BRAND_NAME</th>\n",
       "      <th>PROD_SIZE</th>\n",
       "      <th>LIFESTAGE</th>\n",
       "      <th>PREMIUM_CUSTOMER</th>\n",
       "    </tr>\n",
       "  </thead>\n",
       "  <tbody>\n",
       "    <tr>\n",
       "      <th>0</th>\n",
       "      <td>2018-10-17</td>\n",
       "      <td>1</td>\n",
       "      <td>1000</td>\n",
       "      <td>1</td>\n",
       "      <td>5</td>\n",
       "      <td>Natural Chip        Compny SeaSalt175g</td>\n",
       "      <td>2</td>\n",
       "      <td>6.0</td>\n",
       "      <td>Wednesday</td>\n",
       "      <td>NATURAL</td>\n",
       "      <td>175</td>\n",
       "      <td>YOUNG SINGLES/COUPLES</td>\n",
       "      <td>Premium</td>\n",
       "    </tr>\n",
       "    <tr>\n",
       "      <th>1</th>\n",
       "      <td>2019-05-14</td>\n",
       "      <td>1</td>\n",
       "      <td>1307</td>\n",
       "      <td>348</td>\n",
       "      <td>66</td>\n",
       "      <td>CCs Nacho Cheese    175g</td>\n",
       "      <td>3</td>\n",
       "      <td>6.3</td>\n",
       "      <td>Tuesday</td>\n",
       "      <td>CCS</td>\n",
       "      <td>175</td>\n",
       "      <td>MIDAGE SINGLES/COUPLES</td>\n",
       "      <td>Budget</td>\n",
       "    </tr>\n",
       "    <tr>\n",
       "      <th>2</th>\n",
       "      <td>2019-05-20</td>\n",
       "      <td>1</td>\n",
       "      <td>1343</td>\n",
       "      <td>383</td>\n",
       "      <td>61</td>\n",
       "      <td>Smiths Crinkle Cut  Chips Chicken 170g</td>\n",
       "      <td>2</td>\n",
       "      <td>2.9</td>\n",
       "      <td>Monday</td>\n",
       "      <td>SMITHS</td>\n",
       "      <td>170</td>\n",
       "      <td>MIDAGE SINGLES/COUPLES</td>\n",
       "      <td>Budget</td>\n",
       "    </tr>\n",
       "    <tr>\n",
       "      <th>3</th>\n",
       "      <td>2018-08-18</td>\n",
       "      <td>2</td>\n",
       "      <td>2426</td>\n",
       "      <td>1038</td>\n",
       "      <td>108</td>\n",
       "      <td>Kettle Tortilla ChpsHny&amp;Jlpno Chili 150g</td>\n",
       "      <td>3</td>\n",
       "      <td>13.8</td>\n",
       "      <td>Saturday</td>\n",
       "      <td>KETTLE</td>\n",
       "      <td>150</td>\n",
       "      <td>MIDAGE SINGLES/COUPLES</td>\n",
       "      <td>Budget</td>\n",
       "    </tr>\n",
       "    <tr>\n",
       "      <th>4</th>\n",
       "      <td>2019-05-19</td>\n",
       "      <td>4</td>\n",
       "      <td>4074</td>\n",
       "      <td>2982</td>\n",
       "      <td>57</td>\n",
       "      <td>Old El Paso Salsa   Dip Tomato Mild 300g</td>\n",
       "      <td>1</td>\n",
       "      <td>5.1</td>\n",
       "      <td>Sunday</td>\n",
       "      <td>OLD</td>\n",
       "      <td>300</td>\n",
       "      <td>MIDAGE SINGLES/COUPLES</td>\n",
       "      <td>Budget</td>\n",
       "    </tr>\n",
       "  </tbody>\n",
       "</table>\n",
       "</div>"
      ],
      "text/plain": [
       "        DATE  STORE_NBR  LYLTY_CARD_NBR  TXN_ID  PROD_NBR  \\\n",
       "0 2018-10-17          1            1000       1         5   \n",
       "1 2019-05-14          1            1307     348        66   \n",
       "2 2019-05-20          1            1343     383        61   \n",
       "3 2018-08-18          2            2426    1038       108   \n",
       "4 2019-05-19          4            4074    2982        57   \n",
       "\n",
       "                                  PROD_NAME  PROD_QTY  TOT_SALES        DAY  \\\n",
       "0    Natural Chip        Compny SeaSalt175g         2        6.0  Wednesday   \n",
       "1                  CCs Nacho Cheese    175g         3        6.3    Tuesday   \n",
       "2    Smiths Crinkle Cut  Chips Chicken 170g         2        2.9     Monday   \n",
       "3  Kettle Tortilla ChpsHny&Jlpno Chili 150g         3       13.8   Saturday   \n",
       "4  Old El Paso Salsa   Dip Tomato Mild 300g         1        5.1     Sunday   \n",
       "\n",
       "  BRAND_NAME  PROD_SIZE               LIFESTAGE PREMIUM_CUSTOMER  \n",
       "0    NATURAL        175   YOUNG SINGLES/COUPLES          Premium  \n",
       "1        CCS        175  MIDAGE SINGLES/COUPLES           Budget  \n",
       "2     SMITHS        170  MIDAGE SINGLES/COUPLES           Budget  \n",
       "3     KETTLE        150  MIDAGE SINGLES/COUPLES           Budget  \n",
       "4        OLD        300  MIDAGE SINGLES/COUPLES           Budget  "
      ]
     },
     "execution_count": 123,
     "metadata": {},
     "output_type": "execute_result"
    }
   ],
   "source": [
    "chips_customer = transaction.merge(purchase, how='left', on='LYLTY_CARD_NBR')\n",
    "chips_customer.head(5)"
   ]
  },
  {
   "cell_type": "code",
   "execution_count": 124,
   "id": "335e17b6",
   "metadata": {
    "ExecuteTime": {
     "end_time": "2022-06-25T06:06:48.999705Z",
     "start_time": "2022-06-25T06:06:48.994686Z"
    }
   },
   "outputs": [
    {
     "name": "stdout",
     "output_type": "stream",
     "text": [
      "Transaction data shape:  (264384, 11)\n",
      "Customer data shape:  (72637, 3)\n",
      "Combined data shape:  (264384, 13)\n"
     ]
    }
   ],
   "source": [
    "print(\"Transaction data shape: \", transaction.shape)\n",
    "print(\"Customer data shape: \", purchase.shape)\n",
    "print(\"Combined data shape: \", chips_customer.shape)"
   ]
  },
  {
   "cell_type": "code",
   "execution_count": 127,
   "id": "e5a6e0f9",
   "metadata": {
    "ExecuteTime": {
     "end_time": "2022-06-25T06:11:37.534154Z",
     "start_time": "2022-06-25T06:11:37.448517Z"
    }
   },
   "outputs": [],
   "source": [
    "total_sales = pd.DataFrame(chips_customer.groupby(['PREMIUM_CUSTOMER', 'LIFESTAGE']).TOT_SALES.sum())"
   ]
  },
  {
   "cell_type": "code",
   "execution_count": 128,
   "id": "78f64b6a",
   "metadata": {
    "ExecuteTime": {
     "end_time": "2022-06-25T06:12:22.637263Z",
     "start_time": "2022-06-25T06:12:22.626293Z"
    }
   },
   "outputs": [],
   "source": [
    "total_sales.sort_values(by='TOT_SALES', ascending=False, inplace=True)"
   ]
  },
  {
   "cell_type": "code",
   "execution_count": 129,
   "id": "2064f2d3",
   "metadata": {
    "ExecuteTime": {
     "end_time": "2022-06-25T06:12:27.876206Z",
     "start_time": "2022-06-25T06:12:27.854883Z"
    }
   },
   "outputs": [
    {
     "data": {
      "text/html": [
       "<div>\n",
       "<style scoped>\n",
       "    .dataframe tbody tr th:only-of-type {\n",
       "        vertical-align: middle;\n",
       "    }\n",
       "\n",
       "    .dataframe tbody tr th {\n",
       "        vertical-align: top;\n",
       "    }\n",
       "\n",
       "    .dataframe thead th {\n",
       "        text-align: right;\n",
       "    }\n",
       "</style>\n",
       "<table border=\"1\" class=\"dataframe\">\n",
       "  <thead>\n",
       "    <tr style=\"text-align: right;\">\n",
       "      <th></th>\n",
       "      <th></th>\n",
       "      <th>TOT_SALES</th>\n",
       "    </tr>\n",
       "    <tr>\n",
       "      <th>PREMIUM_CUSTOMER</th>\n",
       "      <th>LIFESTAGE</th>\n",
       "      <th></th>\n",
       "    </tr>\n",
       "  </thead>\n",
       "  <tbody>\n",
       "    <tr>\n",
       "      <th>Budget</th>\n",
       "      <th>OLDER FAMILIES</th>\n",
       "      <td>167496.75</td>\n",
       "    </tr>\n",
       "    <tr>\n",
       "      <th rowspan=\"2\" valign=\"top\">Mainstream</th>\n",
       "      <th>YOUNG SINGLES/COUPLES</th>\n",
       "      <td>157243.40</td>\n",
       "    </tr>\n",
       "    <tr>\n",
       "      <th>RETIREES</th>\n",
       "      <td>155150.05</td>\n",
       "    </tr>\n",
       "    <tr>\n",
       "      <th rowspan=\"2\" valign=\"top\">Budget</th>\n",
       "      <th>YOUNG FAMILIES</th>\n",
       "      <td>138624.00</td>\n",
       "    </tr>\n",
       "    <tr>\n",
       "      <th>OLDER SINGLES/COUPLES</th>\n",
       "      <td>136332.30</td>\n",
       "    </tr>\n",
       "    <tr>\n",
       "      <th>Mainstream</th>\n",
       "      <th>OLDER SINGLES/COUPLES</th>\n",
       "      <td>132912.30</td>\n",
       "    </tr>\n",
       "    <tr>\n",
       "      <th>Premium</th>\n",
       "      <th>OLDER SINGLES/COUPLES</th>\n",
       "      <td>131635.15</td>\n",
       "    </tr>\n",
       "    <tr>\n",
       "      <th>Budget</th>\n",
       "      <th>RETIREES</th>\n",
       "      <td>112700.80</td>\n",
       "    </tr>\n",
       "    <tr>\n",
       "      <th>Mainstream</th>\n",
       "      <th>OLDER FAMILIES</th>\n",
       "      <td>102829.10</td>\n",
       "    </tr>\n",
       "    <tr>\n",
       "      <th>Premium</th>\n",
       "      <th>RETIREES</th>\n",
       "      <td>97207.80</td>\n",
       "    </tr>\n",
       "    <tr>\n",
       "      <th rowspan=\"2\" valign=\"top\">Mainstream</th>\n",
       "      <th>YOUNG FAMILIES</th>\n",
       "      <td>92333.75</td>\n",
       "    </tr>\n",
       "    <tr>\n",
       "      <th>MIDAGE SINGLES/COUPLES</th>\n",
       "      <td>90390.60</td>\n",
       "    </tr>\n",
       "    <tr>\n",
       "      <th rowspan=\"2\" valign=\"top\">Premium</th>\n",
       "      <th>YOUNG FAMILIES</th>\n",
       "      <td>83618.10</td>\n",
       "    </tr>\n",
       "    <tr>\n",
       "      <th>OLDER FAMILIES</th>\n",
       "      <td>80166.40</td>\n",
       "    </tr>\n",
       "    <tr>\n",
       "      <th>Budget</th>\n",
       "      <th>YOUNG SINGLES/COUPLES</th>\n",
       "      <td>60948.10</td>\n",
       "    </tr>\n",
       "    <tr>\n",
       "      <th rowspan=\"2\" valign=\"top\">Premium</th>\n",
       "      <th>MIDAGE SINGLES/COUPLES</th>\n",
       "      <td>58152.15</td>\n",
       "    </tr>\n",
       "    <tr>\n",
       "      <th>YOUNG SINGLES/COUPLES</th>\n",
       "      <td>41554.60</td>\n",
       "    </tr>\n",
       "    <tr>\n",
       "      <th rowspan=\"2\" valign=\"top\">Budget</th>\n",
       "      <th>MIDAGE SINGLES/COUPLES</th>\n",
       "      <td>35343.80</td>\n",
       "    </tr>\n",
       "    <tr>\n",
       "      <th>NEW FAMILIES</th>\n",
       "      <td>21868.95</td>\n",
       "    </tr>\n",
       "    <tr>\n",
       "      <th>Mainstream</th>\n",
       "      <th>NEW FAMILIES</th>\n",
       "      <td>16955.65</td>\n",
       "    </tr>\n",
       "    <tr>\n",
       "      <th>Premium</th>\n",
       "      <th>NEW FAMILIES</th>\n",
       "      <td>11468.10</td>\n",
       "    </tr>\n",
       "  </tbody>\n",
       "</table>\n",
       "</div>"
      ],
      "text/plain": [
       "                                         TOT_SALES\n",
       "PREMIUM_CUSTOMER LIFESTAGE                        \n",
       "Budget           OLDER FAMILIES          167496.75\n",
       "Mainstream       YOUNG SINGLES/COUPLES   157243.40\n",
       "                 RETIREES                155150.05\n",
       "Budget           YOUNG FAMILIES          138624.00\n",
       "                 OLDER SINGLES/COUPLES   136332.30\n",
       "Mainstream       OLDER SINGLES/COUPLES   132912.30\n",
       "Premium          OLDER SINGLES/COUPLES   131635.15\n",
       "Budget           RETIREES                112700.80\n",
       "Mainstream       OLDER FAMILIES          102829.10\n",
       "Premium          RETIREES                 97207.80\n",
       "Mainstream       YOUNG FAMILIES           92333.75\n",
       "                 MIDAGE SINGLES/COUPLES   90390.60\n",
       "Premium          YOUNG FAMILIES           83618.10\n",
       "                 OLDER FAMILIES           80166.40\n",
       "Budget           YOUNG SINGLES/COUPLES    60948.10\n",
       "Premium          MIDAGE SINGLES/COUPLES   58152.15\n",
       "                 YOUNG SINGLES/COUPLES    41554.60\n",
       "Budget           MIDAGE SINGLES/COUPLES   35343.80\n",
       "                 NEW FAMILIES             21868.95\n",
       "Mainstream       NEW FAMILIES             16955.65\n",
       "Premium          NEW FAMILIES             11468.10"
      ]
     },
     "execution_count": 129,
     "metadata": {},
     "output_type": "execute_result"
    }
   ],
   "source": [
    "total_sales"
   ]
  },
  {
   "cell_type": "code",
   "execution_count": null,
   "id": "1e2d7d48",
   "metadata": {},
   "outputs": [],
   "source": []
  },
  {
   "cell_type": "code",
   "execution_count": null,
   "id": "cb71cbca",
   "metadata": {},
   "outputs": [],
   "source": []
  },
  {
   "cell_type": "code",
   "execution_count": null,
   "id": "477d3df4",
   "metadata": {},
   "outputs": [],
   "source": []
  },
  {
   "cell_type": "code",
   "execution_count": null,
   "id": "1a9ab141",
   "metadata": {},
   "outputs": [],
   "source": []
  },
  {
   "cell_type": "code",
   "execution_count": null,
   "id": "60de2717",
   "metadata": {},
   "outputs": [],
   "source": []
  },
  {
   "cell_type": "markdown",
   "id": "0ab41612",
   "metadata": {},
   "source": [
    "**Observations & Conclusions:**"
   ]
  },
  {
   "cell_type": "code",
   "execution_count": null,
   "id": "dc28f8d2",
   "metadata": {},
   "outputs": [],
   "source": []
  },
  {
   "cell_type": "code",
   "execution_count": null,
   "id": "802ad603",
   "metadata": {},
   "outputs": [],
   "source": []
  }
 ],
 "metadata": {
  "kernelspec": {
   "display_name": "Python 3 (ipykernel)",
   "language": "python",
   "name": "python3"
  },
  "language_info": {
   "codemirror_mode": {
    "name": "ipython",
    "version": 3
   },
   "file_extension": ".py",
   "mimetype": "text/x-python",
   "name": "python",
   "nbconvert_exporter": "python",
   "pygments_lexer": "ipython3",
   "version": "3.9.7"
  }
 },
 "nbformat": 4,
 "nbformat_minor": 5
}
