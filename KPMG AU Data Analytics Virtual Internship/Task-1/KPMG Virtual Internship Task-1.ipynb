{
 "cells": [
  {
   "cell_type": "markdown",
   "id": "adc76526",
   "metadata": {},
   "source": [
    "<span style=\"font-family: SF Pro Display; font-size: 24px; font-weight: Bold\">KPMG Virtual Internship:</span> <br>\n",
    "_________________\n",
    "<span style=\"font-family: SF Pro Display; font-size: 18px; font-weight: Bold\">Main-Task:</span><span style=\"font-family: SF Pro Display; font-size: 18px\"><br>Draft an e-mail with a detailed report on the data quality issues provided by the client to KPMG. Also provide necessary recommendations going forward to mitigate the data quality issues.</span>\n",
    "<br><br>\n",
    "<span style=\"font-family: SF Pro Display; font-size: 18px; font-weight: Bold\">Task-1:</span><span style=\"font-family: SF Pro Display; font-size: 18px\">*Identify data quality Issues in the given datasets from Sprocket Central Pty Ltd.:*\n",
    "><li>Customer Demographic</li>\n",
    "><li>Customer Addresses</li>\n",
    "><li>Transaction data in the past three months</li></span>"
   ]
  },
  {
   "cell_type": "markdown",
   "id": "9bcb2cd5",
   "metadata": {},
   "source": [
    "<span style=\"font-family: SF Pro Display; font-size: 18px; font-weight: Bold\">1. Importing all the necessary Libraries.</span>"
   ]
  },
  {
   "cell_type": "code",
   "execution_count": 1,
   "id": "c0e12af0",
   "metadata": {
    "ExecuteTime": {
     "end_time": "2022-06-25T10:26:39.088621Z",
     "start_time": "2022-06-25T10:26:37.540420Z"
    }
   },
   "outputs": [],
   "source": [
    "# Data analysis and wrangling.\n",
    "import pandas as pd\n",
    "import numpy as np\n",
    "import re\n",
    "\n",
    "# Data Visualization:\n",
    "import matplotlib.pyplot as plt\n",
    "import seaborn as sns\n",
    "\n",
    "# Suppress all the warnings\n",
    "import warnings\n",
    "warnings.filterwarnings(\"ignore\")"
   ]
  },
  {
   "cell_type": "markdown",
   "id": "131514e7",
   "metadata": {},
   "source": [
    "<span style=\"font-family: SF Pro Display; font-size: 18px; font-weight: Bold\">2. Importing and reading the customer demographics dataset.</span>"
   ]
  },
  {
   "cell_type": "code",
   "execution_count": 74,
   "id": "d2601e23",
   "metadata": {
    "ExecuteTime": {
     "end_time": "2022-06-25T12:01:32.217098Z",
     "start_time": "2022-06-25T12:01:31.167388Z"
    },
    "deletable": false,
    "editable": false,
    "run_control": {
     "frozen": true
    }
   },
   "outputs": [],
   "source": [
    "cust_demo = pd.read_excel('KPMG_VI_New_raw_data_update_final.xlsx', sheet_name='CustomerDemographic')"
   ]
  },
  {
   "cell_type": "markdown",
   "id": "2678fb73",
   "metadata": {
    "ExecuteTime": {
     "end_time": "2022-06-25T08:55:08.304446Z",
     "start_time": "2022-06-25T08:55:08.262557Z"
    }
   },
   "source": [
    "<span style=\"font-family: SF Pro Display; font-size: 18px; font-weight: Bold\">3. Checking the dataset for Duplicates and NaN Values.</span>"
   ]
  },
  {
   "cell_type": "code",
   "execution_count": 3,
   "id": "a2128ad6",
   "metadata": {
    "ExecuteTime": {
     "end_time": "2022-06-25T10:26:41.051894Z",
     "start_time": "2022-06-25T10:26:41.021508Z"
    },
    "deletable": false,
    "editable": false,
    "run_control": {
     "frozen": true
    }
   },
   "outputs": [
    {
     "data": {
      "text/html": [
       "<div>\n",
       "<style scoped>\n",
       "    .dataframe tbody tr th:only-of-type {\n",
       "        vertical-align: middle;\n",
       "    }\n",
       "\n",
       "    .dataframe tbody tr th {\n",
       "        vertical-align: top;\n",
       "    }\n",
       "\n",
       "    .dataframe thead th {\n",
       "        text-align: right;\n",
       "    }\n",
       "</style>\n",
       "<table border=\"1\" class=\"dataframe\">\n",
       "  <thead>\n",
       "    <tr style=\"text-align: right;\">\n",
       "      <th></th>\n",
       "      <th>customer_id</th>\n",
       "      <th>first_name</th>\n",
       "      <th>last_name</th>\n",
       "      <th>gender</th>\n",
       "      <th>past_3_years_bike_related_purchases</th>\n",
       "      <th>DOB</th>\n",
       "      <th>job_title</th>\n",
       "      <th>job_industry_category</th>\n",
       "      <th>wealth_segment</th>\n",
       "      <th>deceased_indicator</th>\n",
       "      <th>default</th>\n",
       "      <th>owns_car</th>\n",
       "      <th>tenure</th>\n",
       "    </tr>\n",
       "  </thead>\n",
       "  <tbody>\n",
       "    <tr>\n",
       "      <th>1039</th>\n",
       "      <td>1040</td>\n",
       "      <td>Jacenta</td>\n",
       "      <td>Wedlock</td>\n",
       "      <td>Female</td>\n",
       "      <td>78</td>\n",
       "      <td>1975-03-04</td>\n",
       "      <td>Food Chemist</td>\n",
       "      <td>Health</td>\n",
       "      <td>High Net Worth</td>\n",
       "      <td>N</td>\n",
       "      <td>TÌÌ­ÌºÌºoÍ Ì·iÌ²Ì¬ÍÌªÍnÌÌÍvÍÌÌÌÌ¦oÌ¶ÌÌ°Ì keÍÍÌ...</td>\n",
       "      <td>No</td>\n",
       "      <td>9.0</td>\n",
       "    </tr>\n",
       "    <tr>\n",
       "      <th>1078</th>\n",
       "      <td>1079</td>\n",
       "      <td>Dennie</td>\n",
       "      <td>L' Anglois</td>\n",
       "      <td>Male</td>\n",
       "      <td>70</td>\n",
       "      <td>1978-01-03</td>\n",
       "      <td>Nurse Practicioner</td>\n",
       "      <td>Manufacturing</td>\n",
       "      <td>Mass Customer</td>\n",
       "      <td>N</td>\n",
       "      <td>â£</td>\n",
       "      <td>No</td>\n",
       "      <td>18.0</td>\n",
       "    </tr>\n",
       "    <tr>\n",
       "      <th>2756</th>\n",
       "      <td>2757</td>\n",
       "      <td>Leodora</td>\n",
       "      <td>Carillo</td>\n",
       "      <td>Female</td>\n",
       "      <td>65</td>\n",
       "      <td>1961-02-18</td>\n",
       "      <td>NaN</td>\n",
       "      <td>Financial Services</td>\n",
       "      <td>Affluent Customer</td>\n",
       "      <td>N</td>\n",
       "      <td>&lt;&gt;?:\"{}|_+</td>\n",
       "      <td>No</td>\n",
       "      <td>8.0</td>\n",
       "    </tr>\n",
       "    <tr>\n",
       "      <th>1543</th>\n",
       "      <td>1544</td>\n",
       "      <td>Keane</td>\n",
       "      <td>Moneypenny</td>\n",
       "      <td>Male</td>\n",
       "      <td>75</td>\n",
       "      <td>1963-08-22</td>\n",
       "      <td>Dental Hygienist</td>\n",
       "      <td>Health</td>\n",
       "      <td>Affluent Customer</td>\n",
       "      <td>N</td>\n",
       "      <td>â£</td>\n",
       "      <td>Yes</td>\n",
       "      <td>11.0</td>\n",
       "    </tr>\n",
       "    <tr>\n",
       "      <th>1872</th>\n",
       "      <td>1873</td>\n",
       "      <td>Raul</td>\n",
       "      <td>Cabrer</td>\n",
       "      <td>Male</td>\n",
       "      <td>49</td>\n",
       "      <td>1992-07-09</td>\n",
       "      <td>General Manager</td>\n",
       "      <td>Manufacturing</td>\n",
       "      <td>Affluent Customer</td>\n",
       "      <td>N</td>\n",
       "      <td>ÃÃÃÃËÃÃï£¿ÃÃÃâ</td>\n",
       "      <td>Yes</td>\n",
       "      <td>4.0</td>\n",
       "    </tr>\n",
       "  </tbody>\n",
       "</table>\n",
       "</div>"
      ],
      "text/plain": [
       "      customer_id first_name   last_name  gender  \\\n",
       "1039         1040    Jacenta     Wedlock  Female   \n",
       "1078         1079     Dennie  L' Anglois    Male   \n",
       "2756         2757    Leodora     Carillo  Female   \n",
       "1543         1544      Keane  Moneypenny    Male   \n",
       "1872         1873       Raul      Cabrer    Male   \n",
       "\n",
       "      past_3_years_bike_related_purchases        DOB           job_title  \\\n",
       "1039                                   78 1975-03-04        Food Chemist   \n",
       "1078                                   70 1978-01-03  Nurse Practicioner   \n",
       "2756                                   65 1961-02-18                 NaN   \n",
       "1543                                   75 1963-08-22    Dental Hygienist   \n",
       "1872                                   49 1992-07-09     General Manager   \n",
       "\n",
       "     job_industry_category     wealth_segment deceased_indicator  \\\n",
       "1039                Health     High Net Worth                  N   \n",
       "1078         Manufacturing      Mass Customer                  N   \n",
       "2756    Financial Services  Affluent Customer                  N   \n",
       "1543                Health  Affluent Customer                  N   \n",
       "1872         Manufacturing  Affluent Customer                  N   \n",
       "\n",
       "                                                default owns_car  tenure  \n",
       "1039  TÌÌ­ÌºÌºoÍ Ì·iÌ²Ì¬ÍÌªÍnÌÌÍvÍÌÌÌÌ¦oÌ¶ÌÌ°Ì keÍÍÌ...       No     9.0  \n",
       "1078                                                 â£       No    18.0  \n",
       "2756                                         <>?:\"{}|_+       No     8.0  \n",
       "1543                                                 â£      Yes    11.0  \n",
       "1872                                     ÃÃÃÃËÃÃï£¿ÃÃÃâ      Yes     4.0  "
      ]
     },
     "execution_count": 3,
     "metadata": {},
     "output_type": "execute_result"
    }
   ],
   "source": [
    "cust_demo.sample(5)"
   ]
  },
  {
   "cell_type": "code",
   "execution_count": 4,
   "id": "22026a67",
   "metadata": {
    "ExecuteTime": {
     "end_time": "2022-06-25T10:26:41.067819Z",
     "start_time": "2022-06-25T10:26:41.053856Z"
    },
    "deletable": false,
    "editable": false,
    "run_control": {
     "frozen": true
    }
   },
   "outputs": [
    {
     "name": "stdout",
     "output_type": "stream",
     "text": [
      "<class 'pandas.core.frame.DataFrame'>\n",
      "RangeIndex: 4000 entries, 0 to 3999\n",
      "Data columns (total 13 columns):\n",
      " #   Column                               Non-Null Count  Dtype         \n",
      "---  ------                               --------------  -----         \n",
      " 0   customer_id                          4000 non-null   int64         \n",
      " 1   first_name                           4000 non-null   object        \n",
      " 2   last_name                            3875 non-null   object        \n",
      " 3   gender                               4000 non-null   object        \n",
      " 4   past_3_years_bike_related_purchases  4000 non-null   int64         \n",
      " 5   DOB                                  3913 non-null   datetime64[ns]\n",
      " 6   job_title                            3494 non-null   object        \n",
      " 7   job_industry_category                3344 non-null   object        \n",
      " 8   wealth_segment                       4000 non-null   object        \n",
      " 9   deceased_indicator                   4000 non-null   object        \n",
      " 10  default                              3698 non-null   object        \n",
      " 11  owns_car                             4000 non-null   object        \n",
      " 12  tenure                               3913 non-null   float64       \n",
      "dtypes: datetime64[ns](1), float64(1), int64(2), object(9)\n",
      "memory usage: 406.4+ KB\n"
     ]
    }
   ],
   "source": [
    "cust_demo.info()"
   ]
  },
  {
   "cell_type": "code",
   "execution_count": 5,
   "id": "73f29307",
   "metadata": {
    "ExecuteTime": {
     "end_time": "2022-06-25T10:26:41.083780Z",
     "start_time": "2022-06-25T10:26:41.070816Z"
    },
    "deletable": false,
    "editable": false,
    "run_control": {
     "frozen": true
    }
   },
   "outputs": [
    {
     "data": {
      "text/plain": [
       "customer_id                              0\n",
       "first_name                               0\n",
       "last_name                              125\n",
       "gender                                   0\n",
       "past_3_years_bike_related_purchases      0\n",
       "DOB                                     87\n",
       "job_title                              506\n",
       "job_industry_category                  656\n",
       "wealth_segment                           0\n",
       "deceased_indicator                       0\n",
       "default                                302\n",
       "owns_car                                 0\n",
       "tenure                                  87\n",
       "dtype: int64"
      ]
     },
     "execution_count": 5,
     "metadata": {},
     "output_type": "execute_result"
    }
   ],
   "source": [
    "cust_demo.isna().sum()"
   ]
  },
  {
   "cell_type": "code",
   "execution_count": 67,
   "id": "c7a333c7",
   "metadata": {
    "ExecuteTime": {
     "end_time": "2022-06-25T11:23:02.161241Z",
     "start_time": "2022-06-25T11:23:02.147278Z"
    },
    "deletable": false,
    "editable": false,
    "run_control": {
     "frozen": true
    }
   },
   "outputs": [
    {
     "name": "stdout",
     "output_type": "stream",
     "text": [
      "Columns with Null/NaN values: ['last_name', 'DOB', 'job_title', 'job_industry_category', 'tenure', 'DOB_year']\n"
     ]
    }
   ],
   "source": [
    "# The given columns have NULL/NaN Values\n",
    "nan_cols_cd = [i for i in cust_demo.columns if cust_demo[i].isna().any()]\n",
    "print(f\"Columns with Null/NaN values: {nan_cols_cd}\")"
   ]
  },
  {
   "cell_type": "code",
   "execution_count": 6,
   "id": "08b14d6b",
   "metadata": {
    "ExecuteTime": {
     "end_time": "2022-06-25T10:26:41.099736Z",
     "start_time": "2022-06-25T10:26:41.084776Z"
    },
    "deletable": false,
    "editable": false,
    "run_control": {
     "frozen": true
    }
   },
   "outputs": [
    {
     "name": "stdout",
     "output_type": "stream",
     "text": [
      "Total number of records: 4000\n",
      "Total number of unique customer records: 4000\n"
     ]
    }
   ],
   "source": [
    "# No issues when it comes to uniqueness of customer_demographics data.\n",
    "print(f\"Total number of records: {cust_demo.shape[0]}\")\n",
    "print(f\"Total number of unique customer records: {len(cust_demo.drop_duplicates())}\")"
   ]
  },
  {
   "cell_type": "code",
   "execution_count": 7,
   "id": "3be771ca",
   "metadata": {
    "ExecuteTime": {
     "end_time": "2022-06-25T10:26:41.115728Z",
     "start_time": "2022-06-25T10:26:41.100732Z"
    },
    "deletable": false,
    "editable": false,
    "run_control": {
     "frozen": true
    }
   },
   "outputs": [],
   "source": [
    "# Column:#13\n",
    "## Default column is not relevant for our analysis as it does not contains legible/tangible information\n",
    "## that can serve as a feature for further data analysis.\n",
    "## Relevancy = None\n",
    "\n",
    "# we can safely drop the 'default' column.\n",
    "cust_demo.drop(columns='default', axis=1, inplace=True)"
   ]
  },
  {
   "cell_type": "code",
   "execution_count": 8,
   "id": "23aecb76",
   "metadata": {
    "ExecuteTime": {
     "end_time": "2022-06-25T10:26:41.131218Z",
     "start_time": "2022-06-25T10:26:41.116693Z"
    },
    "deletable": false,
    "editable": false,
    "run_control": {
     "frozen": true
    }
   },
   "outputs": [
    {
     "data": {
      "text/html": [
       "<div>\n",
       "<style scoped>\n",
       "    .dataframe tbody tr th:only-of-type {\n",
       "        vertical-align: middle;\n",
       "    }\n",
       "\n",
       "    .dataframe tbody tr th {\n",
       "        vertical-align: top;\n",
       "    }\n",
       "\n",
       "    .dataframe thead th {\n",
       "        text-align: right;\n",
       "    }\n",
       "</style>\n",
       "<table border=\"1\" class=\"dataframe\">\n",
       "  <thead>\n",
       "    <tr style=\"text-align: right;\">\n",
       "      <th></th>\n",
       "      <th>customer_id</th>\n",
       "      <th>first_name</th>\n",
       "      <th>last_name</th>\n",
       "      <th>gender</th>\n",
       "      <th>past_3_years_bike_related_purchases</th>\n",
       "      <th>DOB</th>\n",
       "      <th>job_title</th>\n",
       "      <th>job_industry_category</th>\n",
       "      <th>wealth_segment</th>\n",
       "      <th>deceased_indicator</th>\n",
       "      <th>owns_car</th>\n",
       "      <th>tenure</th>\n",
       "    </tr>\n",
       "  </thead>\n",
       "  <tbody>\n",
       "    <tr>\n",
       "      <th>0</th>\n",
       "      <td>1</td>\n",
       "      <td>Laraine</td>\n",
       "      <td>Medendorp</td>\n",
       "      <td>F</td>\n",
       "      <td>93</td>\n",
       "      <td>1953-10-12</td>\n",
       "      <td>Executive Secretary</td>\n",
       "      <td>Health</td>\n",
       "      <td>Mass Customer</td>\n",
       "      <td>N</td>\n",
       "      <td>Yes</td>\n",
       "      <td>11.0</td>\n",
       "    </tr>\n",
       "    <tr>\n",
       "      <th>1</th>\n",
       "      <td>2</td>\n",
       "      <td>Eli</td>\n",
       "      <td>Bockman</td>\n",
       "      <td>Male</td>\n",
       "      <td>81</td>\n",
       "      <td>1980-12-16</td>\n",
       "      <td>Administrative Officer</td>\n",
       "      <td>Financial Services</td>\n",
       "      <td>Mass Customer</td>\n",
       "      <td>N</td>\n",
       "      <td>Yes</td>\n",
       "      <td>16.0</td>\n",
       "    </tr>\n",
       "  </tbody>\n",
       "</table>\n",
       "</div>"
      ],
      "text/plain": [
       "   customer_id first_name  last_name gender  \\\n",
       "0            1    Laraine  Medendorp      F   \n",
       "1            2        Eli    Bockman   Male   \n",
       "\n",
       "   past_3_years_bike_related_purchases        DOB               job_title  \\\n",
       "0                                   93 1953-10-12     Executive Secretary   \n",
       "1                                   81 1980-12-16  Administrative Officer   \n",
       "\n",
       "  job_industry_category wealth_segment deceased_indicator owns_car  tenure  \n",
       "0                Health  Mass Customer                  N      Yes    11.0  \n",
       "1    Financial Services  Mass Customer                  N      Yes    16.0  "
      ]
     },
     "execution_count": 8,
     "metadata": {},
     "output_type": "execute_result"
    }
   ],
   "source": [
    "cust_demo.head(2)"
   ]
  },
  {
   "cell_type": "markdown",
   "id": "083907b2",
   "metadata": {},
   "source": [
    "<span style=\"font-family: SF Pro Display; font-size: 18px; font-weight: Bold\">4. Checking all the columns using Standard Data Quality Framework Table.</span>"
   ]
  },
  {
   "cell_type": "code",
   "execution_count": 9,
   "id": "4cced892",
   "metadata": {
    "ExecuteTime": {
     "end_time": "2022-06-25T10:26:41.146457Z",
     "start_time": "2022-06-25T10:26:41.134252Z"
    },
    "code_folding": [],
    "deletable": false,
    "editable": false,
    "run_control": {
     "frozen": true
    }
   },
   "outputs": [
    {
     "name": "stdout",
     "output_type": "stream",
     "text": [
      "Total number of NaN customer_id: 0\n",
      "Total number of NaN first_name: 0\n"
     ]
    }
   ],
   "source": [
    "# Column:#1;#2\n",
    "print(f\"Total number of NaN customer_id: {cust_demo['customer_id'].isna().sum()}\")\n",
    "print(f\"Total number of NaN first_name: {cust_demo['first_name'].isna().sum()}\")"
   ]
  },
  {
   "cell_type": "code",
   "execution_count": 10,
   "id": "23bc8834",
   "metadata": {
    "ExecuteTime": {
     "end_time": "2022-06-25T10:26:41.161822Z",
     "start_time": "2022-06-25T10:26:41.148982Z"
    },
    "deletable": false,
    "editable": false,
    "run_control": {
     "frozen": true
    }
   },
   "outputs": [
    {
     "name": "stdout",
     "output_type": "stream",
     "text": [
      "Total number of NaN last_name: 125\n"
     ]
    }
   ],
   "source": [
    "# Column:#3\n",
    "# Last names can have NaN values**\n",
    "print(f\"Total number of NaN last_name: {cust_demo['last_name'].isna().sum()}\")"
   ]
  },
  {
   "cell_type": "code",
   "execution_count": 13,
   "id": "b8cc2fa0",
   "metadata": {
    "ExecuteTime": {
     "end_time": "2022-06-25T10:28:26.226731Z",
     "start_time": "2022-06-25T10:28:26.211772Z"
    },
    "deletable": false,
    "editable": false,
    "run_control": {
     "frozen": true
    }
   },
   "outputs": [],
   "source": [
    "# We also need to make sure that the first and the last names \n",
    "### don't contain any Numeric and Special characters.\n",
    "def str_cont_first(name):\n",
    "    return (bool(re.search(r'[^0-9a-zA-Z]+', name)))\n",
    "\n",
    "cust_demo['fr_name'] = cust_demo['first_name'].apply(str_cont_first)"
   ]
  },
  {
   "cell_type": "code",
   "execution_count": 14,
   "id": "6bee92dd",
   "metadata": {
    "ExecuteTime": {
     "end_time": "2022-06-25T10:28:27.154468Z",
     "start_time": "2022-06-25T10:28:27.135348Z"
    },
    "deletable": false,
    "editable": false,
    "run_control": {
     "frozen": true
    }
   },
   "outputs": [
    {
     "data": {
      "text/plain": [
       "False    3983\n",
       "True       17\n",
       "Name: fr_name, dtype: int64"
      ]
     },
     "execution_count": 14,
     "metadata": {},
     "output_type": "execute_result"
    }
   ],
   "source": [
    "cust_demo['fr_name'].value_counts()"
   ]
  },
  {
   "cell_type": "code",
   "execution_count": 15,
   "id": "cfa3dce5",
   "metadata": {
    "ExecuteTime": {
     "end_time": "2022-06-25T10:28:28.215883Z",
     "start_time": "2022-06-25T10:28:28.190950Z"
    },
    "deletable": false,
    "editable": false,
    "run_control": {
     "frozen": true
    },
    "scrolled": true
   },
   "outputs": [
    {
     "data": {
      "text/html": [
       "<div>\n",
       "<style scoped>\n",
       "    .dataframe tbody tr th:only-of-type {\n",
       "        vertical-align: middle;\n",
       "    }\n",
       "\n",
       "    .dataframe tbody tr th {\n",
       "        vertical-align: top;\n",
       "    }\n",
       "\n",
       "    .dataframe thead th {\n",
       "        text-align: right;\n",
       "    }\n",
       "</style>\n",
       "<table border=\"1\" class=\"dataframe\">\n",
       "  <thead>\n",
       "    <tr style=\"text-align: right;\">\n",
       "      <th></th>\n",
       "      <th>customer_id</th>\n",
       "      <th>first_name</th>\n",
       "      <th>last_name</th>\n",
       "      <th>gender</th>\n",
       "      <th>past_3_years_bike_related_purchases</th>\n",
       "      <th>DOB</th>\n",
       "      <th>job_title</th>\n",
       "      <th>job_industry_category</th>\n",
       "      <th>wealth_segment</th>\n",
       "      <th>deceased_indicator</th>\n",
       "      <th>owns_car</th>\n",
       "      <th>tenure</th>\n",
       "      <th>fr_name</th>\n",
       "    </tr>\n",
       "  </thead>\n",
       "  <tbody>\n",
       "    <tr>\n",
       "      <th>4</th>\n",
       "      <td>5</td>\n",
       "      <td>Sheila-kathryn</td>\n",
       "      <td>Calton</td>\n",
       "      <td>Female</td>\n",
       "      <td>56</td>\n",
       "      <td>1977-05-13</td>\n",
       "      <td>Senior Editor</td>\n",
       "      <td>NaN</td>\n",
       "      <td>Affluent Customer</td>\n",
       "      <td>N</td>\n",
       "      <td>Yes</td>\n",
       "      <td>8.0</td>\n",
       "      <td>True</td>\n",
       "    </tr>\n",
       "    <tr>\n",
       "      <th>248</th>\n",
       "      <td>249</td>\n",
       "      <td>D'arcy</td>\n",
       "      <td>Slay</td>\n",
       "      <td>Male</td>\n",
       "      <td>65</td>\n",
       "      <td>1992-09-13</td>\n",
       "      <td>Quality Control Specialist</td>\n",
       "      <td>IT</td>\n",
       "      <td>High Net Worth</td>\n",
       "      <td>N</td>\n",
       "      <td>No</td>\n",
       "      <td>9.0</td>\n",
       "      <td>True</td>\n",
       "    </tr>\n",
       "    <tr>\n",
       "      <th>629</th>\n",
       "      <td>630</td>\n",
       "      <td>D'arcy</td>\n",
       "      <td>Rowden</td>\n",
       "      <td>Male</td>\n",
       "      <td>90</td>\n",
       "      <td>1986-08-11</td>\n",
       "      <td>Statistician III</td>\n",
       "      <td>Property</td>\n",
       "      <td>Affluent Customer</td>\n",
       "      <td>N</td>\n",
       "      <td>Yes</td>\n",
       "      <td>17.0</td>\n",
       "      <td>True</td>\n",
       "    </tr>\n",
       "    <tr>\n",
       "      <th>1011</th>\n",
       "      <td>1012</td>\n",
       "      <td>Anna-diane</td>\n",
       "      <td>Preddle</td>\n",
       "      <td>Female</td>\n",
       "      <td>20</td>\n",
       "      <td>1955-05-20</td>\n",
       "      <td>Software Test Engineer III</td>\n",
       "      <td>NaN</td>\n",
       "      <td>High Net Worth</td>\n",
       "      <td>N</td>\n",
       "      <td>Yes</td>\n",
       "      <td>11.0</td>\n",
       "      <td>True</td>\n",
       "    </tr>\n",
       "    <tr>\n",
       "      <th>1034</th>\n",
       "      <td>1035</td>\n",
       "      <td>Kara-lynn</td>\n",
       "      <td>Doddridge</td>\n",
       "      <td>Female</td>\n",
       "      <td>77</td>\n",
       "      <td>1976-11-02</td>\n",
       "      <td>Operator</td>\n",
       "      <td>Retail</td>\n",
       "      <td>Affluent Customer</td>\n",
       "      <td>N</td>\n",
       "      <td>Yes</td>\n",
       "      <td>5.0</td>\n",
       "      <td>True</td>\n",
       "    </tr>\n",
       "    <tr>\n",
       "      <th>1270</th>\n",
       "      <td>1271</td>\n",
       "      <td>Jo-anne</td>\n",
       "      <td>Pringer</td>\n",
       "      <td>Female</td>\n",
       "      <td>71</td>\n",
       "      <td>1994-07-11</td>\n",
       "      <td>Accounting Assistant II</td>\n",
       "      <td>Telecommunications</td>\n",
       "      <td>Mass Customer</td>\n",
       "      <td>N</td>\n",
       "      <td>Yes</td>\n",
       "      <td>6.0</td>\n",
       "      <td>True</td>\n",
       "    </tr>\n",
       "    <tr>\n",
       "      <th>1710</th>\n",
       "      <td>1711</td>\n",
       "      <td>Marie-jeanne</td>\n",
       "      <td>Mattson</td>\n",
       "      <td>Female</td>\n",
       "      <td>81</td>\n",
       "      <td>1993-09-26</td>\n",
       "      <td>NaN</td>\n",
       "      <td>Manufacturing</td>\n",
       "      <td>High Net Worth</td>\n",
       "      <td>N</td>\n",
       "      <td>Yes</td>\n",
       "      <td>7.0</td>\n",
       "      <td>True</td>\n",
       "    </tr>\n",
       "    <tr>\n",
       "      <th>1750</th>\n",
       "      <td>1751</td>\n",
       "      <td>Sara-ann</td>\n",
       "      <td>Haddick</td>\n",
       "      <td>Female</td>\n",
       "      <td>49</td>\n",
       "      <td>1969-03-23</td>\n",
       "      <td>NaN</td>\n",
       "      <td>Health</td>\n",
       "      <td>Mass Customer</td>\n",
       "      <td>N</td>\n",
       "      <td>No</td>\n",
       "      <td>4.0</td>\n",
       "      <td>True</td>\n",
       "    </tr>\n",
       "    <tr>\n",
       "      <th>1787</th>\n",
       "      <td>1788</td>\n",
       "      <td>Anna-diana</td>\n",
       "      <td>Kurten</td>\n",
       "      <td>Female</td>\n",
       "      <td>79</td>\n",
       "      <td>1964-08-10</td>\n",
       "      <td>Account Representative IV</td>\n",
       "      <td>Financial Services</td>\n",
       "      <td>High Net Worth</td>\n",
       "      <td>N</td>\n",
       "      <td>Yes</td>\n",
       "      <td>10.0</td>\n",
       "      <td>True</td>\n",
       "    </tr>\n",
       "    <tr>\n",
       "      <th>1859</th>\n",
       "      <td>1860</td>\n",
       "      <td>Holly-anne</td>\n",
       "      <td>Hamman</td>\n",
       "      <td>Female</td>\n",
       "      <td>4</td>\n",
       "      <td>1976-12-28</td>\n",
       "      <td>Nuclear Power Engineer</td>\n",
       "      <td>Manufacturing</td>\n",
       "      <td>Mass Customer</td>\n",
       "      <td>N</td>\n",
       "      <td>Yes</td>\n",
       "      <td>17.0</td>\n",
       "      <td>True</td>\n",
       "    </tr>\n",
       "    <tr>\n",
       "      <th>2249</th>\n",
       "      <td>2250</td>\n",
       "      <td>De witt</td>\n",
       "      <td>Gleave</td>\n",
       "      <td>Male</td>\n",
       "      <td>72</td>\n",
       "      <td>1992-06-26</td>\n",
       "      <td>NaN</td>\n",
       "      <td>Telecommunications</td>\n",
       "      <td>High Net Worth</td>\n",
       "      <td>N</td>\n",
       "      <td>No</td>\n",
       "      <td>7.0</td>\n",
       "      <td>True</td>\n",
       "    </tr>\n",
       "    <tr>\n",
       "      <th>2346</th>\n",
       "      <td>2347</td>\n",
       "      <td>L;urette</td>\n",
       "      <td>Annott</td>\n",
       "      <td>Female</td>\n",
       "      <td>79</td>\n",
       "      <td>1957-03-04</td>\n",
       "      <td>Programmer Analyst I</td>\n",
       "      <td>NaN</td>\n",
       "      <td>High Net Worth</td>\n",
       "      <td>N</td>\n",
       "      <td>No</td>\n",
       "      <td>11.0</td>\n",
       "      <td>True</td>\n",
       "    </tr>\n",
       "    <tr>\n",
       "      <th>2567</th>\n",
       "      <td>2568</td>\n",
       "      <td>Anna-diana</td>\n",
       "      <td>Slyne</td>\n",
       "      <td>Female</td>\n",
       "      <td>42</td>\n",
       "      <td>1983-02-16</td>\n",
       "      <td>Staff Scientist</td>\n",
       "      <td>Manufacturing</td>\n",
       "      <td>Mass Customer</td>\n",
       "      <td>N</td>\n",
       "      <td>No</td>\n",
       "      <td>18.0</td>\n",
       "      <td>True</td>\n",
       "    </tr>\n",
       "    <tr>\n",
       "      <th>2746</th>\n",
       "      <td>2747</td>\n",
       "      <td>Anna-diane</td>\n",
       "      <td>Crumpe</td>\n",
       "      <td>Female</td>\n",
       "      <td>5</td>\n",
       "      <td>1955-09-23</td>\n",
       "      <td>Software Test Engineer III</td>\n",
       "      <td>NaN</td>\n",
       "      <td>Affluent Customer</td>\n",
       "      <td>N</td>\n",
       "      <td>No</td>\n",
       "      <td>11.0</td>\n",
       "      <td>True</td>\n",
       "    </tr>\n",
       "    <tr>\n",
       "      <th>2996</th>\n",
       "      <td>2997</td>\n",
       "      <td>Jo-ann</td>\n",
       "      <td>Carlile</td>\n",
       "      <td>Female</td>\n",
       "      <td>57</td>\n",
       "      <td>1973-05-17</td>\n",
       "      <td>Computer Systems Analyst II</td>\n",
       "      <td>Health</td>\n",
       "      <td>Affluent Customer</td>\n",
       "      <td>N</td>\n",
       "      <td>No</td>\n",
       "      <td>10.0</td>\n",
       "      <td>True</td>\n",
       "    </tr>\n",
       "    <tr>\n",
       "      <th>3443</th>\n",
       "      <td>3444</td>\n",
       "      <td>Kara-lynn</td>\n",
       "      <td>Bims</td>\n",
       "      <td>Female</td>\n",
       "      <td>75</td>\n",
       "      <td>1977-12-25</td>\n",
       "      <td>Nurse Practicioner</td>\n",
       "      <td>Manufacturing</td>\n",
       "      <td>Affluent Customer</td>\n",
       "      <td>N</td>\n",
       "      <td>No</td>\n",
       "      <td>7.0</td>\n",
       "      <td>True</td>\n",
       "    </tr>\n",
       "    <tr>\n",
       "      <th>3859</th>\n",
       "      <td>3860</td>\n",
       "      <td>Sheila-kathryn</td>\n",
       "      <td>Conklin</td>\n",
       "      <td>Female</td>\n",
       "      <td>14</td>\n",
       "      <td>1986-04-05</td>\n",
       "      <td>Mechanical Systems Engineer</td>\n",
       "      <td>NaN</td>\n",
       "      <td>Affluent Customer</td>\n",
       "      <td>N</td>\n",
       "      <td>Yes</td>\n",
       "      <td>13.0</td>\n",
       "      <td>True</td>\n",
       "    </tr>\n",
       "  </tbody>\n",
       "</table>\n",
       "</div>"
      ],
      "text/plain": [
       "      customer_id      first_name  last_name  gender  \\\n",
       "4               5  Sheila-kathryn     Calton  Female   \n",
       "248           249          D'arcy       Slay    Male   \n",
       "629           630          D'arcy     Rowden    Male   \n",
       "1011         1012      Anna-diane    Preddle  Female   \n",
       "1034         1035       Kara-lynn  Doddridge  Female   \n",
       "1270         1271         Jo-anne    Pringer  Female   \n",
       "1710         1711    Marie-jeanne    Mattson  Female   \n",
       "1750         1751        Sara-ann    Haddick  Female   \n",
       "1787         1788      Anna-diana     Kurten  Female   \n",
       "1859         1860      Holly-anne     Hamman  Female   \n",
       "2249         2250         De witt     Gleave    Male   \n",
       "2346         2347        L;urette     Annott  Female   \n",
       "2567         2568      Anna-diana      Slyne  Female   \n",
       "2746         2747      Anna-diane     Crumpe  Female   \n",
       "2996         2997          Jo-ann    Carlile  Female   \n",
       "3443         3444       Kara-lynn       Bims  Female   \n",
       "3859         3860  Sheila-kathryn    Conklin  Female   \n",
       "\n",
       "      past_3_years_bike_related_purchases        DOB  \\\n",
       "4                                      56 1977-05-13   \n",
       "248                                    65 1992-09-13   \n",
       "629                                    90 1986-08-11   \n",
       "1011                                   20 1955-05-20   \n",
       "1034                                   77 1976-11-02   \n",
       "1270                                   71 1994-07-11   \n",
       "1710                                   81 1993-09-26   \n",
       "1750                                   49 1969-03-23   \n",
       "1787                                   79 1964-08-10   \n",
       "1859                                    4 1976-12-28   \n",
       "2249                                   72 1992-06-26   \n",
       "2346                                   79 1957-03-04   \n",
       "2567                                   42 1983-02-16   \n",
       "2746                                    5 1955-09-23   \n",
       "2996                                   57 1973-05-17   \n",
       "3443                                   75 1977-12-25   \n",
       "3859                                   14 1986-04-05   \n",
       "\n",
       "                        job_title job_industry_category     wealth_segment  \\\n",
       "4                   Senior Editor                   NaN  Affluent Customer   \n",
       "248    Quality Control Specialist                    IT     High Net Worth   \n",
       "629              Statistician III              Property  Affluent Customer   \n",
       "1011   Software Test Engineer III                   NaN     High Net Worth   \n",
       "1034                     Operator                Retail  Affluent Customer   \n",
       "1270      Accounting Assistant II    Telecommunications      Mass Customer   \n",
       "1710                          NaN         Manufacturing     High Net Worth   \n",
       "1750                          NaN                Health      Mass Customer   \n",
       "1787    Account Representative IV    Financial Services     High Net Worth   \n",
       "1859       Nuclear Power Engineer         Manufacturing      Mass Customer   \n",
       "2249                          NaN    Telecommunications     High Net Worth   \n",
       "2346         Programmer Analyst I                   NaN     High Net Worth   \n",
       "2567              Staff Scientist         Manufacturing      Mass Customer   \n",
       "2746   Software Test Engineer III                   NaN  Affluent Customer   \n",
       "2996  Computer Systems Analyst II                Health  Affluent Customer   \n",
       "3443           Nurse Practicioner         Manufacturing  Affluent Customer   \n",
       "3859  Mechanical Systems Engineer                   NaN  Affluent Customer   \n",
       "\n",
       "     deceased_indicator owns_car  tenure  fr_name  \n",
       "4                     N      Yes     8.0     True  \n",
       "248                   N       No     9.0     True  \n",
       "629                   N      Yes    17.0     True  \n",
       "1011                  N      Yes    11.0     True  \n",
       "1034                  N      Yes     5.0     True  \n",
       "1270                  N      Yes     6.0     True  \n",
       "1710                  N      Yes     7.0     True  \n",
       "1750                  N       No     4.0     True  \n",
       "1787                  N      Yes    10.0     True  \n",
       "1859                  N      Yes    17.0     True  \n",
       "2249                  N       No     7.0     True  \n",
       "2346                  N       No    11.0     True  \n",
       "2567                  N       No    18.0     True  \n",
       "2746                  N       No    11.0     True  \n",
       "2996                  N       No    10.0     True  \n",
       "3443                  N       No     7.0     True  \n",
       "3859                  N      Yes    13.0     True  "
      ]
     },
     "execution_count": 15,
     "metadata": {},
     "output_type": "execute_result"
    }
   ],
   "source": [
    "# underscores and apostrophes in name are acceptable.\n",
    "cust_demo[cust_demo['fr_name'] == True]"
   ]
  },
  {
   "cell_type": "code",
   "execution_count": 21,
   "id": "43a4d306",
   "metadata": {
    "ExecuteTime": {
     "end_time": "2022-06-25T10:37:00.796493Z",
     "start_time": "2022-06-25T10:37:00.792502Z"
    },
    "deletable": false,
    "editable": false,
    "run_control": {
     "frozen": true
    }
   },
   "outputs": [],
   "source": [
    "cust_demo.drop(columns='fr_name', axis=1, inplace=True)"
   ]
  },
  {
   "cell_type": "code",
   "execution_count": 16,
   "id": "9533450c",
   "metadata": {
    "ExecuteTime": {
     "end_time": "2022-06-25T10:30:49.568173Z",
     "start_time": "2022-06-25T10:30:49.548471Z"
    },
    "deletable": false,
    "editable": false,
    "run_control": {
     "frozen": true
    }
   },
   "outputs": [
    {
     "data": {
      "text/plain": [
       "Female    2037\n",
       "Male      1872\n",
       "U           88\n",
       "F            1\n",
       "Femal        1\n",
       "M            1\n",
       "Name: gender, dtype: int64"
      ]
     },
     "execution_count": 16,
     "metadata": {},
     "output_type": "execute_result"
    }
   ],
   "source": [
    "# Column:#4\n",
    "# Typos need to be fixed.\n",
    "cust_demo['gender'].value_counts()"
   ]
  },
  {
   "cell_type": "code",
   "execution_count": 93,
   "id": "aafe67ee",
   "metadata": {
    "ExecuteTime": {
     "end_time": "2022-06-25T12:26:24.552188Z",
     "start_time": "2022-06-25T12:26:24.530894Z"
    },
    "deletable": false,
    "editable": false,
    "run_control": {
     "frozen": true
    }
   },
   "outputs": [],
   "source": [
    "# We have to replace the F, M and Femal typos in the Gender column.\n",
    "gender_typos = {'F': 'Female', 'M': 'Male', 'Femal': 'Female', 'U':'Unknown'}\n",
    "cust_demo['gender'].replace(gender_typos, inplace=True)"
   ]
  },
  {
   "cell_type": "code",
   "execution_count": 94,
   "id": "86836380",
   "metadata": {
    "ExecuteTime": {
     "end_time": "2022-06-25T12:26:26.606831Z",
     "start_time": "2022-06-25T12:26:26.586771Z"
    },
    "deletable": false,
    "editable": false,
    "run_control": {
     "frozen": true
    }
   },
   "outputs": [
    {
     "data": {
      "text/plain": [
       "Female     2039\n",
       "Male       1873\n",
       "Unknown      88\n",
       "Name: gender, dtype: int64"
      ]
     },
     "execution_count": 94,
     "metadata": {},
     "output_type": "execute_result"
    }
   ],
   "source": [
    "cust_demo['gender'].value_counts()"
   ]
  },
  {
   "cell_type": "code",
   "execution_count": 23,
   "id": "38cfa6c6",
   "metadata": {
    "ExecuteTime": {
     "end_time": "2022-06-25T10:39:54.276653Z",
     "start_time": "2022-06-25T10:39:54.199335Z"
    },
    "deletable": false,
    "editable": false,
    "run_control": {
     "frozen": true
    }
   },
   "outputs": [
    {
     "data": {
      "text/plain": [
       "count    4000.000000\n",
       "mean       48.890000\n",
       "std        28.715005\n",
       "min         0.000000\n",
       "25%        24.000000\n",
       "50%        48.000000\n",
       "75%        73.000000\n",
       "max        99.000000\n",
       "Name: past_3_years_bike_related_purchases, dtype: float64"
      ]
     },
     "execution_count": 23,
     "metadata": {},
     "output_type": "execute_result"
    }
   ],
   "source": [
    "# Column:#5\n",
    "cust_demo['past_3_years_bike_related_purchases'].describe()\n",
    "#No NaN values in the column."
   ]
  },
  {
   "cell_type": "code",
   "execution_count": 64,
   "id": "d62f588a",
   "metadata": {
    "ExecuteTime": {
     "end_time": "2022-06-25T11:18:22.806468Z",
     "start_time": "2022-06-25T11:18:22.787521Z"
    },
    "deletable": false,
    "editable": false,
    "run_control": {
     "frozen": true
    }
   },
   "outputs": [
    {
     "data": {
      "text/plain": [
       "87"
      ]
     },
     "execution_count": 64,
     "metadata": {},
     "output_type": "execute_result"
    }
   ],
   "source": [
    "# Column:#6\n",
    "# DOB\n",
    "# 87 NaN values.\n",
    "cust_demo['DOB'].isna().sum()"
   ]
  },
  {
   "cell_type": "code",
   "execution_count": 25,
   "id": "f2308e0f",
   "metadata": {
    "ExecuteTime": {
     "end_time": "2022-06-25T10:42:20.963380Z",
     "start_time": "2022-06-25T10:42:20.932256Z"
    },
    "deletable": false,
    "editable": false,
    "run_control": {
     "frozen": true
    }
   },
   "outputs": [
    {
     "data": {
      "text/plain": [
       "count                          3913\n",
       "mean     1977-07-12 23:56:41.277792\n",
       "min             1843-12-21 00:00:00\n",
       "25%             1968-01-22 00:00:00\n",
       "50%             1977-07-22 00:00:00\n",
       "75%             1987-02-28 00:00:00\n",
       "max             2002-03-11 00:00:00\n",
       "Name: DOB, dtype: object"
      ]
     },
     "execution_count": 25,
     "metadata": {},
     "output_type": "execute_result"
    }
   ],
   "source": [
    "\n",
    "cust_demo['DOB'].describe(datetime_is_numeric=True)"
   ]
  },
  {
   "cell_type": "code",
   "execution_count": 49,
   "id": "a9c520c3",
   "metadata": {
    "ExecuteTime": {
     "end_time": "2022-06-25T10:56:03.920634Z",
     "start_time": "2022-06-25T10:56:03.739865Z"
    },
    "deletable": false,
    "editable": false,
    "run_control": {
     "frozen": true
    }
   },
   "outputs": [
    {
     "data": {
      "image/png": "[encoded data removed]",
      "text/plain": [
       "<Figure size 1008x216 with 1 Axes>"
      ]
     },
     "metadata": {},
     "output_type": "display_data"
    }
   ],
   "source": [
    "plt.subplots(figsize=(14,3))\n",
    "sns.boxplot(x= [d.year for d in cust_demo['DOB']])\n",
    "plt.xlabel(\"Year of Birth\")\n",
    "sns.set_theme(style='white')\n",
    "sns.set_style(\"darkgrid\")"
   ]
  },
  {
   "cell_type": "code",
   "execution_count": 55,
   "id": "8d9081f1",
   "metadata": {
    "ExecuteTime": {
     "end_time": "2022-06-25T11:03:49.557164Z",
     "start_time": "2022-06-25T11:03:49.500504Z"
    },
    "deletable": false,
    "editable": false,
    "run_control": {
     "frozen": true
    }
   },
   "outputs": [],
   "source": [
    "cust_demo['DOB_year'] = cust_demo['DOB'].dt.year"
   ]
  },
  {
   "cell_type": "code",
   "execution_count": 62,
   "id": "4a795cf2",
   "metadata": {
    "ExecuteTime": {
     "end_time": "2022-06-25T11:13:53.911287Z",
     "start_time": "2022-06-25T11:13:53.890344Z"
    },
    "deletable": false,
    "editable": false,
    "run_control": {
     "frozen": true
    }
   },
   "outputs": [
    {
     "data": {
      "text/html": [
       "<div>\n",
       "<style scoped>\n",
       "    .dataframe tbody tr th:only-of-type {\n",
       "        vertical-align: middle;\n",
       "    }\n",
       "\n",
       "    .dataframe tbody tr th {\n",
       "        vertical-align: top;\n",
       "    }\n",
       "\n",
       "    .dataframe thead th {\n",
       "        text-align: right;\n",
       "    }\n",
       "</style>\n",
       "<table border=\"1\" class=\"dataframe\">\n",
       "  <thead>\n",
       "    <tr style=\"text-align: right;\">\n",
       "      <th></th>\n",
       "      <th>DOB</th>\n",
       "      <th>first_name</th>\n",
       "      <th>last_name</th>\n",
       "    </tr>\n",
       "  </thead>\n",
       "  <tbody>\n",
       "    <tr>\n",
       "      <th>33</th>\n",
       "      <td>1843-12-21</td>\n",
       "      <td>Jephthah</td>\n",
       "      <td>Bachmann</td>\n",
       "    </tr>\n",
       "  </tbody>\n",
       "</table>\n",
       "</div>"
      ],
      "text/plain": [
       "          DOB first_name last_name\n",
       "33 1843-12-21   Jephthah  Bachmann"
      ]
     },
     "execution_count": 62,
     "metadata": {},
     "output_type": "execute_result"
    }
   ],
   "source": [
    "#Consistency issues.\n",
    "dob_filt = (cust_demo['DOB_year'] <= 1920)\n",
    "cust_demo.loc[dob_filt, ['DOB','first_name', 'last_name']]\n",
    "# Birth-year 1843 is an outlier and needs to be replaced."
   ]
  },
  {
   "cell_type": "code",
   "execution_count": 68,
   "id": "945a98e0",
   "metadata": {
    "ExecuteTime": {
     "end_time": "2022-06-25T11:27:09.521603Z",
     "start_time": "2022-06-25T11:27:09.515621Z"
    },
    "deletable": false,
    "editable": false,
    "run_control": {
     "frozen": true
    }
   },
   "outputs": [],
   "source": [
    "cust_demo.drop(columns='DOB_year', axis=1, inplace=True)"
   ]
  },
  {
   "cell_type": "code",
   "execution_count": 69,
   "id": "6a493e35",
   "metadata": {
    "ExecuteTime": {
     "end_time": "2022-06-25T11:27:14.605968Z",
     "start_time": "2022-06-25T11:27:14.579040Z"
    },
    "deletable": false,
    "editable": false,
    "run_control": {
     "frozen": true
    }
   },
   "outputs": [
    {
     "data": {
      "text/html": [
       "<div>\n",
       "<style scoped>\n",
       "    .dataframe tbody tr th:only-of-type {\n",
       "        vertical-align: middle;\n",
       "    }\n",
       "\n",
       "    .dataframe tbody tr th {\n",
       "        vertical-align: top;\n",
       "    }\n",
       "\n",
       "    .dataframe thead th {\n",
       "        text-align: right;\n",
       "    }\n",
       "</style>\n",
       "<table border=\"1\" class=\"dataframe\">\n",
       "  <thead>\n",
       "    <tr style=\"text-align: right;\">\n",
       "      <th></th>\n",
       "      <th>customer_id</th>\n",
       "      <th>first_name</th>\n",
       "      <th>last_name</th>\n",
       "      <th>gender</th>\n",
       "      <th>past_3_years_bike_related_purchases</th>\n",
       "      <th>DOB</th>\n",
       "      <th>job_title</th>\n",
       "      <th>job_industry_category</th>\n",
       "      <th>wealth_segment</th>\n",
       "      <th>deceased_indicator</th>\n",
       "      <th>owns_car</th>\n",
       "      <th>tenure</th>\n",
       "    </tr>\n",
       "  </thead>\n",
       "  <tbody>\n",
       "    <tr>\n",
       "      <th>0</th>\n",
       "      <td>1</td>\n",
       "      <td>Laraine</td>\n",
       "      <td>Medendorp</td>\n",
       "      <td>Female</td>\n",
       "      <td>93</td>\n",
       "      <td>1953-10-12</td>\n",
       "      <td>Executive Secretary</td>\n",
       "      <td>Health</td>\n",
       "      <td>Mass Customer</td>\n",
       "      <td>N</td>\n",
       "      <td>Yes</td>\n",
       "      <td>11.0</td>\n",
       "    </tr>\n",
       "    <tr>\n",
       "      <th>1</th>\n",
       "      <td>2</td>\n",
       "      <td>Eli</td>\n",
       "      <td>Bockman</td>\n",
       "      <td>Male</td>\n",
       "      <td>81</td>\n",
       "      <td>1980-12-16</td>\n",
       "      <td>Administrative Officer</td>\n",
       "      <td>Financial Services</td>\n",
       "      <td>Mass Customer</td>\n",
       "      <td>N</td>\n",
       "      <td>Yes</td>\n",
       "      <td>16.0</td>\n",
       "    </tr>\n",
       "    <tr>\n",
       "      <th>2</th>\n",
       "      <td>3</td>\n",
       "      <td>Arlin</td>\n",
       "      <td>Dearle</td>\n",
       "      <td>Male</td>\n",
       "      <td>61</td>\n",
       "      <td>1954-01-20</td>\n",
       "      <td>Recruiting Manager</td>\n",
       "      <td>Property</td>\n",
       "      <td>Mass Customer</td>\n",
       "      <td>N</td>\n",
       "      <td>Yes</td>\n",
       "      <td>15.0</td>\n",
       "    </tr>\n",
       "    <tr>\n",
       "      <th>3</th>\n",
       "      <td>4</td>\n",
       "      <td>Talbot</td>\n",
       "      <td>NaN</td>\n",
       "      <td>Male</td>\n",
       "      <td>33</td>\n",
       "      <td>1961-10-03</td>\n",
       "      <td>NaN</td>\n",
       "      <td>IT</td>\n",
       "      <td>Mass Customer</td>\n",
       "      <td>N</td>\n",
       "      <td>No</td>\n",
       "      <td>7.0</td>\n",
       "    </tr>\n",
       "    <tr>\n",
       "      <th>4</th>\n",
       "      <td>5</td>\n",
       "      <td>Sheila-kathryn</td>\n",
       "      <td>Calton</td>\n",
       "      <td>Female</td>\n",
       "      <td>56</td>\n",
       "      <td>1977-05-13</td>\n",
       "      <td>Senior Editor</td>\n",
       "      <td>NaN</td>\n",
       "      <td>Affluent Customer</td>\n",
       "      <td>N</td>\n",
       "      <td>Yes</td>\n",
       "      <td>8.0</td>\n",
       "    </tr>\n",
       "    <tr>\n",
       "      <th>...</th>\n",
       "      <td>...</td>\n",
       "      <td>...</td>\n",
       "      <td>...</td>\n",
       "      <td>...</td>\n",
       "      <td>...</td>\n",
       "      <td>...</td>\n",
       "      <td>...</td>\n",
       "      <td>...</td>\n",
       "      <td>...</td>\n",
       "      <td>...</td>\n",
       "      <td>...</td>\n",
       "      <td>...</td>\n",
       "    </tr>\n",
       "    <tr>\n",
       "      <th>3995</th>\n",
       "      <td>3996</td>\n",
       "      <td>Rosalia</td>\n",
       "      <td>Halgarth</td>\n",
       "      <td>Female</td>\n",
       "      <td>8</td>\n",
       "      <td>1975-08-09</td>\n",
       "      <td>VP Product Management</td>\n",
       "      <td>Health</td>\n",
       "      <td>Mass Customer</td>\n",
       "      <td>N</td>\n",
       "      <td>No</td>\n",
       "      <td>19.0</td>\n",
       "    </tr>\n",
       "    <tr>\n",
       "      <th>3996</th>\n",
       "      <td>3997</td>\n",
       "      <td>Blanch</td>\n",
       "      <td>Nisuis</td>\n",
       "      <td>Female</td>\n",
       "      <td>87</td>\n",
       "      <td>2001-07-13</td>\n",
       "      <td>Statistician II</td>\n",
       "      <td>Manufacturing</td>\n",
       "      <td>High Net Worth</td>\n",
       "      <td>N</td>\n",
       "      <td>Yes</td>\n",
       "      <td>1.0</td>\n",
       "    </tr>\n",
       "    <tr>\n",
       "      <th>3997</th>\n",
       "      <td>3998</td>\n",
       "      <td>Sarene</td>\n",
       "      <td>Woolley</td>\n",
       "      <td>U</td>\n",
       "      <td>60</td>\n",
       "      <td>NaT</td>\n",
       "      <td>Assistant Manager</td>\n",
       "      <td>IT</td>\n",
       "      <td>High Net Worth</td>\n",
       "      <td>N</td>\n",
       "      <td>No</td>\n",
       "      <td>NaN</td>\n",
       "    </tr>\n",
       "    <tr>\n",
       "      <th>3998</th>\n",
       "      <td>3999</td>\n",
       "      <td>Patrizius</td>\n",
       "      <td>NaN</td>\n",
       "      <td>Male</td>\n",
       "      <td>11</td>\n",
       "      <td>1973-10-24</td>\n",
       "      <td>NaN</td>\n",
       "      <td>Manufacturing</td>\n",
       "      <td>Affluent Customer</td>\n",
       "      <td>N</td>\n",
       "      <td>Yes</td>\n",
       "      <td>10.0</td>\n",
       "    </tr>\n",
       "    <tr>\n",
       "      <th>3999</th>\n",
       "      <td>4000</td>\n",
       "      <td>Kippy</td>\n",
       "      <td>Oldland</td>\n",
       "      <td>Male</td>\n",
       "      <td>76</td>\n",
       "      <td>1991-11-05</td>\n",
       "      <td>Software Engineer IV</td>\n",
       "      <td>NaN</td>\n",
       "      <td>Affluent Customer</td>\n",
       "      <td>N</td>\n",
       "      <td>No</td>\n",
       "      <td>11.0</td>\n",
       "    </tr>\n",
       "  </tbody>\n",
       "</table>\n",
       "<p>4000 rows × 12 columns</p>\n",
       "</div>"
      ],
      "text/plain": [
       "      customer_id      first_name  last_name  gender  \\\n",
       "0               1         Laraine  Medendorp  Female   \n",
       "1               2             Eli    Bockman    Male   \n",
       "2               3           Arlin     Dearle    Male   \n",
       "3               4          Talbot        NaN    Male   \n",
       "4               5  Sheila-kathryn     Calton  Female   \n",
       "...           ...             ...        ...     ...   \n",
       "3995         3996         Rosalia   Halgarth  Female   \n",
       "3996         3997          Blanch     Nisuis  Female   \n",
       "3997         3998          Sarene    Woolley       U   \n",
       "3998         3999       Patrizius        NaN    Male   \n",
       "3999         4000           Kippy    Oldland    Male   \n",
       "\n",
       "      past_3_years_bike_related_purchases        DOB               job_title  \\\n",
       "0                                      93 1953-10-12     Executive Secretary   \n",
       "1                                      81 1980-12-16  Administrative Officer   \n",
       "2                                      61 1954-01-20      Recruiting Manager   \n",
       "3                                      33 1961-10-03                     NaN   \n",
       "4                                      56 1977-05-13           Senior Editor   \n",
       "...                                   ...        ...                     ...   \n",
       "3995                                    8 1975-08-09   VP Product Management   \n",
       "3996                                   87 2001-07-13         Statistician II   \n",
       "3997                                   60        NaT       Assistant Manager   \n",
       "3998                                   11 1973-10-24                     NaN   \n",
       "3999                                   76 1991-11-05    Software Engineer IV   \n",
       "\n",
       "     job_industry_category     wealth_segment deceased_indicator owns_car  \\\n",
       "0                   Health      Mass Customer                  N      Yes   \n",
       "1       Financial Services      Mass Customer                  N      Yes   \n",
       "2                 Property      Mass Customer                  N      Yes   \n",
       "3                       IT      Mass Customer                  N       No   \n",
       "4                      NaN  Affluent Customer                  N      Yes   \n",
       "...                    ...                ...                ...      ...   \n",
       "3995                Health      Mass Customer                  N       No   \n",
       "3996         Manufacturing     High Net Worth                  N      Yes   \n",
       "3997                    IT     High Net Worth                  N       No   \n",
       "3998         Manufacturing  Affluent Customer                  N      Yes   \n",
       "3999                   NaN  Affluent Customer                  N       No   \n",
       "\n",
       "      tenure  \n",
       "0       11.0  \n",
       "1       16.0  \n",
       "2       15.0  \n",
       "3        7.0  \n",
       "4        8.0  \n",
       "...      ...  \n",
       "3995    19.0  \n",
       "3996     1.0  \n",
       "3997     NaN  \n",
       "3998    10.0  \n",
       "3999    11.0  \n",
       "\n",
       "[4000 rows x 12 columns]"
      ]
     },
     "execution_count": 69,
     "metadata": {},
     "output_type": "execute_result"
    }
   ],
   "source": [
    "cust_demo"
   ]
  },
  {
   "cell_type": "code",
   "execution_count": 50,
   "id": "49d6d752",
   "metadata": {
    "ExecuteTime": {
     "end_time": "2022-06-25T10:57:18.498956Z",
     "start_time": "2022-06-25T10:57:18.478036Z"
    },
    "deletable": false,
    "editable": false,
    "run_control": {
     "frozen": true
    }
   },
   "outputs": [
    {
     "data": {
      "text/plain": [
       "N    3998\n",
       "Y       2\n",
       "Name: deceased_indicator, dtype: int64"
      ]
     },
     "execution_count": 50,
     "metadata": {},
     "output_type": "execute_result"
    }
   ],
   "source": [
    "# Column:#9\n",
    "# check the DOB's of the deceased persons to verify it with the outliers in the DOB column.\n",
    "cust_demo['deceased_indicator'].value_counts()"
   ]
  },
  {
   "cell_type": "code",
   "execution_count": 52,
   "id": "72adc902",
   "metadata": {
    "ExecuteTime": {
     "end_time": "2022-06-25T11:00:53.103432Z",
     "start_time": "2022-06-25T11:00:53.087718Z"
    },
    "deletable": false,
    "editable": false,
    "run_control": {
     "frozen": true
    }
   },
   "outputs": [
    {
     "data": {
      "text/plain": [
       "752    1970-03-07\n",
       "3789   1959-05-31\n",
       "Name: DOB, dtype: datetime64[ns]"
      ]
     },
     "execution_count": 52,
     "metadata": {},
     "output_type": "execute_result"
    }
   ],
   "source": [
    "#Filter out the Deceased customers.\n",
    "di_filt = (cust_demo['deceased_indicator'] == 'Y')\n",
    "cust_demo.loc[di_filt, 'DOB']"
   ]
  },
  {
   "cell_type": "raw",
   "id": "6f3b0d31",
   "metadata": {},
   "source": [
    " 6   job_title                            3494 non-null   object        \n",
    " 7   job_industry_category                3344 non-null   object        \n",
    " 8   wealth_segment                       4000 non-null   object        \n",
    " 9   deceased_indicator                   4000 non-null   object        \n",
    " 10  default                              3698 non-null   object        \n",
    " 11  owns_car                             4000 non-null   object        \n",
    " 12  tenure                               3913 non-null   float64 "
   ]
  },
  {
   "cell_type": "code",
   "execution_count": 87,
   "id": "3a7f2bfe",
   "metadata": {
    "ExecuteTime": {
     "end_time": "2022-06-25T12:21:23.201137Z",
     "start_time": "2022-06-25T12:21:23.189599Z"
    },
    "scrolled": true
   },
   "outputs": [
    {
     "data": {
      "text/plain": [
       "array(['Executive Secretary', 'Administrative Officer',\n",
       "       'Recruiting Manager', nan, 'Senior Editor', 'Media Manager I',\n",
       "       'Business Systems Development Analyst', 'Senior Quality Engineer',\n",
       "       'Nuclear Power Engineer', 'Developer I', 'Account Executive',\n",
       "       'Junior Executive', 'Media Manager IV', 'Sales Associate',\n",
       "       'Professor', 'Geological Engineer', 'Project Manager',\n",
       "       'Safety Technician I', 'Research Assistant I',\n",
       "       'Accounting Assistant III', 'Editor', 'Research Nurse',\n",
       "       'Safety Technician III', 'Staff Accountant III', 'Legal Assistant',\n",
       "       'Product Engineer', 'Information Systems Manager',\n",
       "       'VP Quality Control', 'Social Worker', 'Senior Cost Accountant',\n",
       "       'Assistant Media Planner', 'Payment Adjustment Coordinator',\n",
       "       'Food Chemist', 'Accountant III', 'Director of Sales',\n",
       "       'Senior Financial Analyst', 'Registered Nurse',\n",
       "       'Biostatistician II', 'Computer Systems Analyst II',\n",
       "       'Software Test Engineer II', 'Paralegal', 'VP Sales',\n",
       "       'Chief Design Engineer', 'Office Assistant III',\n",
       "       'Physical Therapy Assistant', 'Help Desk Operator',\n",
       "       'Web Developer II', 'Research Associate', 'Teacher',\n",
       "       'VP Product Management', 'Statistician II',\n",
       "       'Automation Specialist IV', 'Data Coordiator',\n",
       "       'Software Test Engineer III', 'Internal Auditor',\n",
       "       'Analyst Programmer', 'Occupational Therapist',\n",
       "       'Speech Pathologist', 'Quality Control Specialist',\n",
       "       'Civil Engineer', 'Software Engineer III',\n",
       "       'Community Outreach Specialist', 'Safety Technician IV',\n",
       "       'VP Accounting', 'General Manager', 'Nurse Practicioner',\n",
       "       'Automation Specialist II', 'Marketing Assistant',\n",
       "       'Marketing Manager', 'Staff Scientist', 'Assistant Professor',\n",
       "       'Budget/Accounting Analyst IV', 'Associate Professor',\n",
       "       'Graphic Designer', 'Administrative Assistant II',\n",
       "       'Compensation Analyst', 'Systems Administrator III',\n",
       "       'Financial Advisor', 'Chemical Engineer', 'Web Designer I',\n",
       "       'Senior Developer', 'Office Assistant II', 'Recruiter', 'Operator',\n",
       "       'Programmer Analyst III', 'Quality Engineer', 'Environmental Tech',\n",
       "       'Analog Circuit Design manager', 'Cost Accountant', 'Librarian',\n",
       "       'Structural Analysis Engineer', 'Pharmacist', 'Assistant Manager',\n",
       "       'Accountant I', 'Web Designer III', 'Geologist III',\n",
       "       'Software Test Engineer I', 'Structural Engineer',\n",
       "       'Safety Technician II', 'Web Developer III',\n",
       "       'Programmer Analyst II', 'Design Engineer', 'Statistician I',\n",
       "       'VP Marketing', 'Desktop Support Technician', 'Actuary',\n",
       "       'Database Administrator III', 'Electrical Engineer',\n",
       "       'Tax Accountant', 'Clinical Specialist',\n",
       "       'Database Administrator IV', 'Systems Administrator II',\n",
       "       'Account Coordinator', 'Programmer III',\n",
       "       'Administrative Assistant III', 'Nurse', 'Technical Writer',\n",
       "       'Staff Accountant II', 'Dental Hygienist', 'Sales Representative',\n",
       "       'Budget/Accounting Analyst III', 'Computer Systems Analyst IV',\n",
       "       'Geologist I', 'Financial Analyst', 'Accounting Assistant II',\n",
       "       'Senior Sales Associate', 'Database Administrator II',\n",
       "       'Engineer I', 'Budget/Accounting Analyst I', 'Developer IV',\n",
       "       'Database Administrator I', 'Environmental Specialist',\n",
       "       'Computer Systems Analyst I', 'Account Representative IV',\n",
       "       'Statistician IV', 'Human Resources Manager',\n",
       "       'GIS Technical Architect', 'Programmer IV',\n",
       "       'Accounting Assistant IV', 'Software Engineer IV', 'Programmer II',\n",
       "       'Engineer III', 'Software Consultant', 'Biostatistician IV',\n",
       "       'Help Desk Technician', 'Automation Specialist I', 'Developer III',\n",
       "       'Human Resources Assistant I', 'Geologist IV', 'Media Manager II',\n",
       "       'Statistician III', 'Engineer II', 'Health Coach II',\n",
       "       'Developer II', 'Systems Administrator I', 'Web Developer I',\n",
       "       'Software Engineer II', 'Accounting Assistant I',\n",
       "       'Research Assistant II', 'Programmer Analyst IV', 'Health Coach I',\n",
       "       'Accountant II', 'Automation Specialist III',\n",
       "       'Administrative Assistant I', 'Health Coach IV',\n",
       "       'Media Manager III', 'Account Representative III',\n",
       "       'Web Designer IV', 'Budget/Accounting Analyst II',\n",
       "       'Web Developer IV', 'Programmer I', 'Biostatistician III',\n",
       "       'Software Test Engineer IV', 'Research Assistant IV',\n",
       "       'Account Representative I', 'Accountant IV', 'Biostatistician I',\n",
       "       'Human Resources Assistant IV', 'Administrative Assistant IV',\n",
       "       'Office Assistant I', 'Human Resources Assistant II',\n",
       "       'Mechanical Systems Engineer', 'Engineer IV', 'Health Coach III',\n",
       "       'Office Assistant IV', 'Software Engineer I',\n",
       "       'Human Resources Assistant III', 'Staff Accountant I',\n",
       "       'Computer Systems Analyst III', 'Geologist II', 'Web Designer II',\n",
       "       'Staff Accountant IV', 'Account Representative II',\n",
       "       'Programmer Analyst I', 'Systems Administrator IV',\n",
       "       'Research Assistant III'], dtype=object)"
      ]
     },
     "execution_count": 87,
     "metadata": {},
     "output_type": "execute_result"
    }
   ],
   "source": [
    "cust_demo['job_title'].unique()"
   ]
  },
  {
   "cell_type": "code",
   "execution_count": 88,
   "id": "6038ab12",
   "metadata": {
    "ExecuteTime": {
     "end_time": "2022-06-25T12:21:47.721213Z",
     "start_time": "2022-06-25T12:21:47.701042Z"
    }
   },
   "outputs": [
    {
     "data": {
      "text/plain": [
       "array(['Health', 'Financial Services', 'Property', 'IT', nan, 'Retail',\n",
       "       'Argiculture', 'Manufacturing', 'Telecommunications',\n",
       "       'Entertainment'], dtype=object)"
      ]
     },
     "execution_count": 88,
     "metadata": {},
     "output_type": "execute_result"
    }
   ],
   "source": [
    "cust_demo['job_industry_category'].unique()"
   ]
  },
  {
   "cell_type": "code",
   "execution_count": 89,
   "id": "fa6c812e",
   "metadata": {
    "ExecuteTime": {
     "end_time": "2022-06-25T12:22:33.709977Z",
     "start_time": "2022-06-25T12:22:33.701126Z"
    }
   },
   "outputs": [
    {
     "data": {
      "text/plain": [
       "array(['Mass Customer', 'Affluent Customer', 'High Net Worth'],\n",
       "      dtype=object)"
      ]
     },
     "execution_count": 89,
     "metadata": {},
     "output_type": "execute_result"
    }
   ],
   "source": [
    "cust_demo['wealth_segment'].unique()"
   ]
  },
  {
   "cell_type": "code",
   "execution_count": 90,
   "id": "eb199c90",
   "metadata": {
    "ExecuteTime": {
     "end_time": "2022-06-25T12:23:16.935439Z",
     "start_time": "2022-06-25T12:23:16.882537Z"
    }
   },
   "outputs": [],
   "source": [
    "cust_demo['wealth_segment'] = cust_demo['wealth_segment'].astype('category')"
   ]
  },
  {
   "cell_type": "code",
   "execution_count": 91,
   "id": "42bb383c",
   "metadata": {
    "ExecuteTime": {
     "end_time": "2022-06-25T12:23:53.564804Z",
     "start_time": "2022-06-25T12:23:53.556301Z"
    }
   },
   "outputs": [
    {
     "data": {
      "text/plain": [
       "array(['Yes', 'No'], dtype=object)"
      ]
     },
     "execution_count": 91,
     "metadata": {},
     "output_type": "execute_result"
    }
   ],
   "source": [
    "cust_demo['owns_car'].unique()"
   ]
  },
  {
   "cell_type": "code",
   "execution_count": 92,
   "id": "5f84e23d",
   "metadata": {
    "ExecuteTime": {
     "end_time": "2022-06-25T12:24:08.728950Z",
     "start_time": "2022-06-25T12:24:08.722944Z"
    }
   },
   "outputs": [],
   "source": [
    "cust_demo['owns_car'] = cust_demo['owns_car'].astype('category')"
   ]
  },
  {
   "cell_type": "markdown",
   "id": "765ecb12",
   "metadata": {
    "ExecuteTime": {
     "end_time": "2022-06-25T11:33:03.001855Z",
     "start_time": "2022-06-25T11:33:02.991894Z"
    }
   },
   "source": [
    "<span style=\"font-family: SF Pro Display; font-size: 18px; font-weight: Bold\">5. Importing and reading the customer Addresses dataset.</span>"
   ]
  },
  {
   "cell_type": "code",
   "execution_count": 73,
   "id": "3dcb423a",
   "metadata": {
    "ExecuteTime": {
     "end_time": "2022-06-25T12:01:20.229656Z",
     "start_time": "2022-06-25T12:01:19.209441Z"
    }
   },
   "outputs": [],
   "source": [
    "cust_add = pd.read_excel('KPMG_VI_New_raw_data_update_final.xlsx', sheet_name='CustomerAddress')"
   ]
  },
  {
   "cell_type": "code",
   "execution_count": 75,
   "id": "aaaf9da9",
   "metadata": {
    "ExecuteTime": {
     "end_time": "2022-06-25T12:01:51.512584Z",
     "start_time": "2022-06-25T12:01:51.485936Z"
    },
    "deletable": false,
    "editable": false,
    "run_control": {
     "frozen": true
    }
   },
   "outputs": [
    {
     "data": {
      "text/html": [
       "<div>\n",
       "<style scoped>\n",
       "    .dataframe tbody tr th:only-of-type {\n",
       "        vertical-align: middle;\n",
       "    }\n",
       "\n",
       "    .dataframe tbody tr th {\n",
       "        vertical-align: top;\n",
       "    }\n",
       "\n",
       "    .dataframe thead th {\n",
       "        text-align: right;\n",
       "    }\n",
       "</style>\n",
       "<table border=\"1\" class=\"dataframe\">\n",
       "  <thead>\n",
       "    <tr style=\"text-align: right;\">\n",
       "      <th></th>\n",
       "      <th>customer_id</th>\n",
       "      <th>address</th>\n",
       "      <th>postcode</th>\n",
       "      <th>state</th>\n",
       "      <th>country</th>\n",
       "      <th>property_valuation</th>\n",
       "    </tr>\n",
       "  </thead>\n",
       "  <tbody>\n",
       "    <tr>\n",
       "      <th>3280</th>\n",
       "      <td>3285</td>\n",
       "      <td>2094 Bunting Junction</td>\n",
       "      <td>3059</td>\n",
       "      <td>VIC</td>\n",
       "      <td>Australia</td>\n",
       "      <td>9</td>\n",
       "    </tr>\n",
       "    <tr>\n",
       "      <th>3073</th>\n",
       "      <td>3078</td>\n",
       "      <td>9 Rieder Avenue</td>\n",
       "      <td>2798</td>\n",
       "      <td>NSW</td>\n",
       "      <td>Australia</td>\n",
       "      <td>6</td>\n",
       "    </tr>\n",
       "    <tr>\n",
       "      <th>3074</th>\n",
       "      <td>3079</td>\n",
       "      <td>45201 Atwood Place</td>\n",
       "      <td>2176</td>\n",
       "      <td>NSW</td>\n",
       "      <td>Australia</td>\n",
       "      <td>9</td>\n",
       "    </tr>\n",
       "    <tr>\n",
       "      <th>3927</th>\n",
       "      <td>3932</td>\n",
       "      <td>60272 Montana Drive</td>\n",
       "      <td>2223</td>\n",
       "      <td>NSW</td>\n",
       "      <td>Australia</td>\n",
       "      <td>8</td>\n",
       "    </tr>\n",
       "    <tr>\n",
       "      <th>57</th>\n",
       "      <td>62</td>\n",
       "      <td>41 Schurz Center</td>\n",
       "      <td>2749</td>\n",
       "      <td>New South Wales</td>\n",
       "      <td>Australia</td>\n",
       "      <td>8</td>\n",
       "    </tr>\n",
       "  </tbody>\n",
       "</table>\n",
       "</div>"
      ],
      "text/plain": [
       "      customer_id                address  postcode            state  \\\n",
       "3280         3285  2094 Bunting Junction      3059              VIC   \n",
       "3073         3078        9 Rieder Avenue      2798              NSW   \n",
       "3074         3079     45201 Atwood Place      2176              NSW   \n",
       "3927         3932    60272 Montana Drive      2223              NSW   \n",
       "57             62       41 Schurz Center      2749  New South Wales   \n",
       "\n",
       "        country  property_valuation  \n",
       "3280  Australia                   9  \n",
       "3073  Australia                   6  \n",
       "3074  Australia                   9  \n",
       "3927  Australia                   8  \n",
       "57    Australia                   8  "
      ]
     },
     "execution_count": 75,
     "metadata": {},
     "output_type": "execute_result"
    }
   ],
   "source": [
    "cust_add.sample(5)"
   ]
  },
  {
   "cell_type": "code",
   "execution_count": 78,
   "id": "b65ad0fc",
   "metadata": {
    "ExecuteTime": {
     "end_time": "2022-06-25T12:03:20.764917Z",
     "start_time": "2022-06-25T12:03:20.751318Z"
    },
    "deletable": false,
    "editable": false,
    "run_control": {
     "frozen": true
    }
   },
   "outputs": [
    {
     "name": "stdout",
     "output_type": "stream",
     "text": [
      "<class 'pandas.core.frame.DataFrame'>\n",
      "RangeIndex: 3999 entries, 0 to 3998\n",
      "Data columns (total 6 columns):\n",
      " #   Column              Non-Null Count  Dtype \n",
      "---  ------              --------------  ----- \n",
      " 0   customer_id         3999 non-null   int64 \n",
      " 1   address             3999 non-null   object\n",
      " 2   postcode            3999 non-null   int64 \n",
      " 3   state               3999 non-null   object\n",
      " 4   country             3999 non-null   object\n",
      " 5   property_valuation  3999 non-null   int64 \n",
      "dtypes: int64(3), object(3)\n",
      "memory usage: 187.6+ KB\n"
     ]
    }
   ],
   "source": [
    "cust_add.info()\n",
    "# there are no NULL/NaN values in the address dataset."
   ]
  },
  {
   "cell_type": "code",
   "execution_count": 76,
   "id": "2cf0acbe",
   "metadata": {
    "ExecuteTime": {
     "end_time": "2022-06-25T12:02:28.928657Z",
     "start_time": "2022-06-25T12:02:28.919672Z"
    },
    "deletable": false,
    "editable": false,
    "run_control": {
     "frozen": true
    }
   },
   "outputs": [
    {
     "data": {
      "text/plain": [
       "customer_id           0\n",
       "address               0\n",
       "postcode              0\n",
       "state                 0\n",
       "country               0\n",
       "property_valuation    0\n",
       "dtype: int64"
      ]
     },
     "execution_count": 76,
     "metadata": {},
     "output_type": "execute_result"
    }
   ],
   "source": [
    "# Null/NaN values in the customer address dataset.\n",
    "cust_add.isna().sum()"
   ]
  },
  {
   "cell_type": "code",
   "execution_count": 79,
   "id": "33355077",
   "metadata": {
    "ExecuteTime": {
     "end_time": "2022-06-25T12:04:16.674795Z",
     "start_time": "2022-06-25T12:04:16.650666Z"
    },
    "deletable": false,
    "editable": false,
    "run_control": {
     "frozen": true
    }
   },
   "outputs": [
    {
     "name": "stdout",
     "output_type": "stream",
     "text": [
      "Total number of records: 3999\n",
      "Total number of unique customer records: 3999\n"
     ]
    }
   ],
   "source": [
    "# No issues when it comes to uniqueness of customer_demographics data.\n",
    "print(f\"Total number of records: {cust_add.shape[0]}\")\n",
    "print(f\"Total number of unique customer records: {len(cust_add.drop_duplicates())}\")"
   ]
  },
  {
   "cell_type": "code",
   "execution_count": 80,
   "id": "74dd76eb",
   "metadata": {
    "ExecuteTime": {
     "end_time": "2022-06-25T12:12:54.991803Z",
     "start_time": "2022-06-25T12:12:54.976885Z"
    },
    "deletable": false,
    "editable": false,
    "run_control": {
     "frozen": true
    }
   },
   "outputs": [
    {
     "data": {
      "text/plain": [
       "array(['New South Wales', 'QLD', 'VIC', 'NSW', 'Victoria'], dtype=object)"
      ]
     },
     "execution_count": 80,
     "metadata": {},
     "output_type": "execute_result"
    }
   ],
   "source": [
    "# there are some inconsistencies with the Australian state names.\n",
    "cust_add['state'].unique()"
   ]
  },
  {
   "cell_type": "code",
   "execution_count": 83,
   "id": "671986c0",
   "metadata": {
    "ExecuteTime": {
     "end_time": "2022-06-25T12:16:36.369621Z",
     "start_time": "2022-06-25T12:16:36.359070Z"
    },
    "deletable": false,
    "editable": false,
    "run_control": {
     "frozen": true
    }
   },
   "outputs": [
    {
     "data": {
      "text/plain": [
       "NSW                2054\n",
       "VIC                 939\n",
       "QLD                 838\n",
       "New South Wales      86\n",
       "Victoria             82\n",
       "Name: state, dtype: int64"
      ]
     },
     "execution_count": 83,
     "metadata": {},
     "output_type": "execute_result"
    }
   ],
   "source": [
    "cust_add['state'].value_counts()"
   ]
  },
  {
   "cell_type": "code",
   "execution_count": 85,
   "id": "955fbd3b",
   "metadata": {
    "ExecuteTime": {
     "end_time": "2022-06-25T12:17:17.356941Z",
     "start_time": "2022-06-25T12:17:17.344323Z"
    },
    "deletable": false,
    "editable": false,
    "run_control": {
     "frozen": true
    }
   },
   "outputs": [],
   "source": [
    "state_typos = {'New South Wales': 'NSW', 'Victoria': 'VIC'}\n",
    "cust_add['state'].replace(state_typos, inplace=True)"
   ]
  },
  {
   "cell_type": "code",
   "execution_count": 86,
   "id": "6dda94dc",
   "metadata": {
    "ExecuteTime": {
     "end_time": "2022-06-25T12:17:33.802691Z",
     "start_time": "2022-06-25T12:17:33.785671Z"
    },
    "deletable": false,
    "editable": false,
    "run_control": {
     "frozen": true
    }
   },
   "outputs": [
    {
     "data": {
      "text/plain": [
       "NSW    2140\n",
       "VIC    1021\n",
       "QLD     838\n",
       "Name: state, dtype: int64"
      ]
     },
     "execution_count": 86,
     "metadata": {},
     "output_type": "execute_result"
    }
   ],
   "source": [
    "cust_add['state'].value_counts()"
   ]
  },
  {
   "cell_type": "code",
   "execution_count": 82,
   "id": "65c135d1",
   "metadata": {
    "ExecuteTime": {
     "end_time": "2022-06-25T12:13:23.408023Z",
     "start_time": "2022-06-25T12:13:23.391990Z"
    },
    "deletable": false,
    "editable": false,
    "run_control": {
     "frozen": true
    }
   },
   "outputs": [
    {
     "data": {
      "text/plain": [
       "array(['Australia'], dtype=object)"
      ]
     },
     "execution_count": 82,
     "metadata": {},
     "output_type": "execute_result"
    }
   ],
   "source": [
    "# This feature can be removed as all the address datas corresponds to the residents of Australia.\n",
    "cust_add['country'].unique()"
   ]
  },
  {
   "cell_type": "code",
   "execution_count": 95,
   "id": "b013fddb",
   "metadata": {
    "ExecuteTime": {
     "end_time": "2022-06-25T12:27:35.510592Z",
     "start_time": "2022-06-25T12:27:35.494438Z"
    }
   },
   "outputs": [
    {
     "name": "stdout",
     "output_type": "stream",
     "text": [
      "Total number of unique customer_ids: 3999\n"
     ]
    }
   ],
   "source": [
    "print(f\"Total number of unique customer_ids: {len(cust_add['customer_id'].drop_duplicates())}\")"
   ]
  },
  {
   "cell_type": "code",
   "execution_count": 98,
   "id": "2dd69201",
   "metadata": {
    "ExecuteTime": {
     "end_time": "2022-06-25T12:30:23.238552Z",
     "start_time": "2022-06-25T12:30:23.059571Z"
    }
   },
   "outputs": [],
   "source": [
    "demo_add_df = cust_demo.merge(cust_add, on='customer_id')"
   ]
  },
  {
   "cell_type": "code",
   "execution_count": 103,
   "id": "ae0f5052",
   "metadata": {
    "ExecuteTime": {
     "end_time": "2022-06-25T12:32:58.184337Z",
     "start_time": "2022-06-25T12:32:58.159156Z"
    }
   },
   "outputs": [
    {
     "name": "stdout",
     "output_type": "stream",
     "text": [
      "<class 'pandas.core.frame.DataFrame'>\n",
      "Int64Index: 3996 entries, 0 to 3995\n",
      "Data columns (total 18 columns):\n",
      " #   Column                               Non-Null Count  Dtype         \n",
      "---  ------                               --------------  -----         \n",
      " 0   customer_id                          3996 non-null   int64         \n",
      " 1   first_name                           3996 non-null   object        \n",
      " 2   last_name                            3871 non-null   object        \n",
      " 3   gender                               3996 non-null   object        \n",
      " 4   past_3_years_bike_related_purchases  3996 non-null   int64         \n",
      " 5   DOB                                  3909 non-null   datetime64[ns]\n",
      " 6   job_title                            3492 non-null   object        \n",
      " 7   job_industry_category                3341 non-null   object        \n",
      " 8   wealth_segment                       3996 non-null   category      \n",
      " 9   deceased_indicator                   3996 non-null   object        \n",
      " 10  default                              3694 non-null   object        \n",
      " 11  owns_car                             3996 non-null   category      \n",
      " 12  tenure                               3909 non-null   float64       \n",
      " 13  address                              3996 non-null   object        \n",
      " 14  postcode                             3996 non-null   int64         \n",
      " 15  state                                3996 non-null   object        \n",
      " 16  country                              3996 non-null   object        \n",
      " 17  property_valuation                   3996 non-null   int64         \n",
      "dtypes: category(2), datetime64[ns](1), float64(1), int64(4), object(10)\n",
      "memory usage: 538.8+ KB\n"
     ]
    }
   ],
   "source": [
    "# On merging customer demographics and address dataframes we have 3996 unque entries\n",
    "demo_add_df.info()"
   ]
  },
  {
   "cell_type": "markdown",
   "id": "28047ad4",
   "metadata": {},
   "source": [
    "<span style=\"font-family: SF Pro Display; font-size: 18px; font-weight: Bold\">6. Importing and reading the Transaction dataset.</span>"
   ]
  },
  {
   "cell_type": "code",
   "execution_count": 105,
   "id": "ff0095f1",
   "metadata": {
    "ExecuteTime": {
     "end_time": "2022-06-25T12:34:57.534262Z",
     "start_time": "2022-06-25T12:34:54.096227Z"
    }
   },
   "outputs": [],
   "source": [
    "transact_3m = pd.read_excel('KPMG_VI_New_raw_data_update_final.xlsx', sheet_name='Transactions')"
   ]
  },
  {
   "cell_type": "code",
   "execution_count": 107,
   "id": "ee0ba94c",
   "metadata": {
    "ExecuteTime": {
     "end_time": "2022-06-25T14:08:53.632529Z",
     "start_time": "2022-06-25T14:08:52.911624Z"
    }
   },
   "outputs": [
    {
     "name": "stdout",
     "output_type": "stream",
     "text": [
      "<class 'pandas.core.frame.DataFrame'>\n",
      "RangeIndex: 20000 entries, 0 to 19999\n",
      "Data columns (total 13 columns):\n",
      " #   Column                   Non-Null Count  Dtype         \n",
      "---  ------                   --------------  -----         \n",
      " 0   transaction_id           20000 non-null  int64         \n",
      " 1   product_id               20000 non-null  int64         \n",
      " 2   customer_id              20000 non-null  int64         \n",
      " 3   transaction_date         20000 non-null  datetime64[ns]\n",
      " 4   online_order             19640 non-null  float64       \n",
      " 5   order_status             20000 non-null  object        \n",
      " 6   brand                    19803 non-null  object        \n",
      " 7   product_line             19803 non-null  object        \n",
      " 8   product_class            19803 non-null  object        \n",
      " 9   product_size             19803 non-null  object        \n",
      " 10  list_price               20000 non-null  float64       \n",
      " 11  standard_cost            19803 non-null  float64       \n",
      " 12  product_first_sold_date  19803 non-null  float64       \n",
      "dtypes: datetime64[ns](1), float64(4), int64(3), object(5)\n",
      "memory usage: 2.0+ MB\n"
     ]
    }
   ],
   "source": [
    "transact_3m.info()"
   ]
  },
  {
   "cell_type": "code",
   "execution_count": 109,
   "id": "427ca54b",
   "metadata": {
    "ExecuteTime": {
     "end_time": "2022-06-25T14:11:23.538603Z",
     "start_time": "2022-06-25T14:11:23.528629Z"
    }
   },
   "outputs": [
    {
     "data": {
      "text/plain": [
       "3494"
      ]
     },
     "execution_count": 109,
     "metadata": {},
     "output_type": "execute_result"
    }
   ],
   "source": [
    "transact_3m['customer_id'].nunique()"
   ]
  }
 ],
 "metadata": {
  "kernelspec": {
   "display_name": "Python 3 (ipykernel)",
   "language": "python",
   "name": "python3"
  },
  "language_info": {
   "codemirror_mode": {
    "name": "ipython",
    "version": 3
   },
   "file_extension": ".py",
   "mimetype": "text/x-python",
   "name": "python",
   "nbconvert_exporter": "python",
   "pygments_lexer": "ipython3",
   "version": "3.9.7"
  }
 },
 "nbformat": 4,
 "nbformat_minor": 5
}
